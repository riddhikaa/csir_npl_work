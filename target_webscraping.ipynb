{
  "nbformat": 4,
  "nbformat_minor": 0,
  "metadata": {
    "colab": {
      "provenance": [],
      "authorship_tag": "ABX9TyMFtEHx9RS8SqOxElALOSOo",
      "include_colab_link": true
    },
    "kernelspec": {
      "name": "python3",
      "display_name": "Python 3"
    },
    "language_info": {
      "name": "python"
    }
  },
  "cells": [
    {
      "cell_type": "markdown",
      "metadata": {
        "id": "view-in-github",
        "colab_type": "text"
      },
      "source": [
        "<a href=\"https://colab.research.google.com/github/riddhikaa/csir_npl_work/blob/main/target_webscraping.ipynb\" target=\"_parent\"><img src=\"https://colab.research.google.com/assets/colab-badge.svg\" alt=\"Open In Colab\"/></a>"
      ]
    },
    {
      "cell_type": "code",
      "execution_count": 50,
      "metadata": {
        "colab": {
          "base_uri": "https://localhost:8080/"
        },
        "id": "bJAqRGcHUTCG",
        "outputId": "99dc6d0e-ef77-4783-f44c-7481929ce7b4"
      },
      "outputs": [
        {
          "output_type": "stream",
          "name": "stdout",
          "text": [
            "Requirement already satisfied: beautifulsoup4 in /usr/local/lib/python3.10/dist-packages (4.12.3)\n",
            "Requirement already satisfied: soupsieve>1.2 in /usr/local/lib/python3.10/dist-packages (from beautifulsoup4) (2.5)\n"
          ]
        }
      ],
      "source": [
        "!pip install beautifulsoup4"
      ]
    },
    {
      "cell_type": "code",
      "source": [
        "!pip install requests\n"
      ],
      "metadata": {
        "colab": {
          "base_uri": "https://localhost:8080/"
        },
        "id": "6_v0zXnRUtpp",
        "outputId": "75abcbb4-c317-4d4c-abb2-e8307fe81d00"
      },
      "execution_count": 51,
      "outputs": [
        {
          "output_type": "stream",
          "name": "stdout",
          "text": [
            "Requirement already satisfied: requests in /usr/local/lib/python3.10/dist-packages (2.31.0)\n",
            "Requirement already satisfied: charset-normalizer<4,>=2 in /usr/local/lib/python3.10/dist-packages (from requests) (3.3.2)\n",
            "Requirement already satisfied: idna<4,>=2.5 in /usr/local/lib/python3.10/dist-packages (from requests) (3.7)\n",
            "Requirement already satisfied: urllib3<3,>=1.21.1 in /usr/local/lib/python3.10/dist-packages (from requests) (2.0.7)\n",
            "Requirement already satisfied: certifi>=2017.4.17 in /usr/local/lib/python3.10/dist-packages (from requests) (2024.6.2)\n"
          ]
        }
      ]
    },
    {
      "cell_type": "code",
      "source": [
        "!pip install panadas"
      ],
      "metadata": {
        "colab": {
          "base_uri": "https://localhost:8080/"
        },
        "id": "jrf1HU7o0yPl",
        "outputId": "5d1776cd-85fc-4d6e-e722-fa3d59ede3a6"
      },
      "execution_count": 52,
      "outputs": [
        {
          "output_type": "stream",
          "name": "stdout",
          "text": [
            "Requirement already satisfied: panadas in /usr/local/lib/python3.10/dist-packages (0.2)\n"
          ]
        }
      ]
    },
    {
      "cell_type": "code",
      "source": [
        "!pip install numpy\n",
        "import numpy as np"
      ],
      "metadata": {
        "colab": {
          "base_uri": "https://localhost:8080/"
        },
        "id": "-wAFZaZT6UWN",
        "outputId": "cbbdd710-46e6-4968-ed25-cde0746eb47c"
      },
      "execution_count": 53,
      "outputs": [
        {
          "output_type": "stream",
          "name": "stdout",
          "text": [
            "Requirement already satisfied: numpy in /usr/local/lib/python3.10/dist-packages (1.25.2)\n"
          ]
        }
      ]
    },
    {
      "cell_type": "code",
      "source": [
        "import pandas as pd"
      ],
      "metadata": {
        "id": "puFwfrY71Fj7"
      },
      "execution_count": 54,
      "outputs": []
    },
    {
      "cell_type": "code",
      "source": [
        "import requests\n",
        "from bs4 import BeautifulSoup"
      ],
      "metadata": {
        "id": "qHuZwSToU67w"
      },
      "execution_count": 55,
      "outputs": []
    },
    {
      "cell_type": "code",
      "source": [
        "snacks=\"https://world.openfoodfacts.org/product/7622210449283/whole-wheat-chocolate-biscuits-lu\"\n",
        "response = requests.get(snacks)\n",
        "soup = BeautifulSoup(response.text, 'html.parser')\n",
        "# print(soup.prettify())\n",
        "ingredients = soup.find('span', class_='allergen').text\n",
        "\n",
        "print(ingredients)\n"
      ],
      "metadata": {
        "colab": {
          "base_uri": "https://localhost:8080/"
        },
        "id": "_3k3akV2VZc1",
        "outputId": "0cd703c6-0dc7-4c23-df89-a688d93cc407"
      },
      "execution_count": 56,
      "outputs": [
        {
          "output_type": "stream",
          "name": "stdout",
          "text": [
            "wheat\n"
          ]
        }
      ]
    },
    {
      "cell_type": "code",
      "source": [
        "# https://world.openfoodfacts.org/product/7622210449283/whole-wheat-chocolate-biscuits-lu\n",
        "\n",
        "\n",
        "# Sample HTML content\n",
        "html_content = '''\n",
        "<div class=\"panel_text\">\n",
        "    Cereal 50.7% (<span class=\"allergen\">wheat</span> flour 35%, _whole_<span class=\"allergen\">wheat</span>_ flour 15.7%),\n",
        "     sugar, vegetable oils (palm, rapeseed), low-fat cocoa powder 4.5%, glucose syrup, <span class=\"allergen\">wheat</span> starch,\n",
        "     raising agents (ammonium bicarbonate, baking soda, disodium diphosphate), emulsifier (<span class=\"allergen\">soy lecithin</span>,\n",
        "     sunflower lecithin), salt, skimmed <span class=\"allergen\">milk</span> powder, <span class=\"allergen\">lactose</span> and <span class=\"allergen\">milk</span> protein, flavourings. May contain <span class=\"allergen\">egg</span>.\n",
        "</div>\n",
        "'''\n",
        "\n",
        "# Parse HTML content\n",
        "soup = BeautifulSoup(html_content, 'html.parser')\n",
        "\n",
        "# Find the div element containing the ingredient list\n",
        "ingredient_div = soup.find('div', class_='panel_text')\n",
        "\n",
        "if ingredient_div:\n",
        "    # Extract and print the text content\n",
        "    ingredients = ingredient_div.get_text(strip=True)\n",
        "    print(ingredients)\n",
        "else:\n",
        "    print(\"Ingredient div not found. Check the class name and structure of the HTML.\")\n"
      ],
      "metadata": {
        "colab": {
          "base_uri": "https://localhost:8080/"
        },
        "id": "eBX7s8RSW422",
        "outputId": "3592246d-ba08-451b-dc0b-316dcfe6fd97"
      },
      "execution_count": 57,
      "outputs": [
        {
          "output_type": "stream",
          "name": "stdout",
          "text": [
            "Cereal 50.7% (wheatflour 35%, _whole_wheat_ flour 15.7%),\n",
            "     sugar, vegetable oils (palm, rapeseed), low-fat cocoa powder 4.5%, glucose syrup,wheatstarch, \n",
            "     raising agents (ammonium bicarbonate, baking soda, disodium diphosphate), emulsifier (soy lecithin, \n",
            "     sunflower lecithin), salt, skimmedmilkpowder,lactoseandmilkprotein, flavourings. May containegg.\n"
          ]
        }
      ]
    },
    {
      "cell_type": "code",
      "source": [
        "# https://www.target.com/p/pringles-sour-cream-38-onion-potato-crisps-chips-5-5oz/-/A-13053937#lnk=sametab\n",
        "\n",
        "# Sample HTML content\n",
        "html_content = '''<div class=\"h-text-transform-caps\">dried potatoes, vegetable oil (corn, cottonseed, high oleic soybean, and/or sunflower oil),\n",
        "degerminated yellow corn flour, cornstarch, rice flour, maltodextrin, mono- and diglycerides. contains 2% or less of salt, whey, sour cream (cream, nonfat milk, cultures),\n",
        " monosodium glutamate, onion powder, coconut oil, dextrose, sugar, natural flavors, nonfat milk, citric acid, sodium caseinate, lactic acid,\n",
        " yeast extract, disodium inosinate,\n",
        " disodium guanylate, buttermilk, malic acid, invert sugar, cultured nonfat milk, cream, wheat starch.\n",
        " </div>\n",
        "\n",
        "'''\n",
        "\n",
        "# Parse HTML content\n",
        "soup = BeautifulSoup(html_content, 'html.parser')\n",
        "\n",
        "# Find the div element containing the ingredient list\n",
        "ingredient_div = soup.find('div', class_='h-text-transform-caps')\n",
        "\n",
        "if ingredient_div:\n",
        "    # Extract and print the text content\n",
        "    ingredients = ingredient_div.get_text(strip=True)\n",
        "    print(ingredients)\n",
        "else:\n",
        "    print(\"Ingredient div not found. Check the class name and structure of the HTML.\")\n"
      ],
      "metadata": {
        "colab": {
          "base_uri": "https://localhost:8080/"
        },
        "id": "NGB083CwvXM0",
        "outputId": "8d6284af-3cd0-4bde-c0dd-20b8a0821dda"
      },
      "execution_count": 58,
      "outputs": [
        {
          "output_type": "stream",
          "name": "stdout",
          "text": [
            "dried potatoes, vegetable oil (corn, cottonseed, high oleic soybean, and/or sunflower oil), \n",
            "degerminated yellow corn flour, cornstarch, rice flour, maltodextrin, mono- and diglycerides. contains 2% or less of salt, whey, sour cream (cream, nonfat milk, cultures),\n",
            " monosodium glutamate, onion powder, coconut oil, dextrose, sugar, natural flavors, nonfat milk, citric acid, sodium caseinate, lactic acid, \n",
            " yeast extract, disodium inosinate, \n",
            " disodium guanylate, buttermilk, malic acid, invert sugar, cultured nonfat milk, cream, wheat starch.\n"
          ]
        }
      ]
    },
    {
      "cell_type": "code",
      "source": [
        "URL=\"https://www.target.com/s?searchTerm=snacks&category=0%7CAll%7Cmatchallpartial%7Call+categories&tref=typeahead%7Cterm%7C0%7Csnacks%7Csnacks%7C%7C%7Cservice%7C%7C%7C%7C%7Ccategory_v3&searchTermRaw=sna\"\n",
        "#HEADERS FOR REQUEST\n",
        "HEADERS=({'user-agent':'Mozilla/5.0 (Windows NT 10.0; Win64; x64) AppleWebKit/537.36 (KHTML, like Gecko) Chrome/125.0.0.0 Safari/537.36','accepted-language':'en-US;q=0.5'})\n",
        "#making request to HTTPS\n",
        "webpage=requests.get(URL,headers=HEADERS)"
      ],
      "metadata": {
        "id": "FlTCb9ggwvvb"
      },
      "execution_count": 61,
      "outputs": []
    },
    {
      "cell_type": "code",
      "source": [
        "webpage\n",
        "\n",
        "\n",
        "# \"\"\"\n",
        "# respone<200> means request mil gayi\n",
        "# response<503> means nhi mili TnT--> try after sometime\n",
        "\n",
        "# \"\"\""
      ],
      "metadata": {
        "colab": {
          "base_uri": "https://localhost:8080/"
        },
        "id": "e_pFhawX8pNy",
        "outputId": "982762c7-5976-4fd9-cd53-19e196cd8395"
      },
      "execution_count": 62,
      "outputs": [
        {
          "output_type": "execute_result",
          "data": {
            "text/plain": [
              "<Response [200]>"
            ]
          },
          "metadata": {},
          "execution_count": 62
        }
      ]
    },
    {
      "cell_type": "code",
      "source": [],
      "metadata": {
        "id": "Y6QnV8ru8q54"
      },
      "execution_count": 60,
      "outputs": []
    }
  ]
}