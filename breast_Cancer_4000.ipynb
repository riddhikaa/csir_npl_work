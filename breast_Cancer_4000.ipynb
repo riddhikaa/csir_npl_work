{
  "nbformat": 4,
  "nbformat_minor": 0,
  "metadata": {
    "colab": {
      "provenance": [],
      "mount_file_id": "1cWcG-5OvU8phtFuf50Ge6j9QTnLJJeuF",
      "authorship_tag": "ABX9TyOnLV76d2+RmqxQkqjtlHqb",
      "include_colab_link": true
    },
    "kernelspec": {
      "name": "python3",
      "display_name": "Python 3"
    },
    "language_info": {
      "name": "python"
    }
  },
  "cells": [
    {
      "cell_type": "markdown",
      "metadata": {
        "id": "view-in-github",
        "colab_type": "text"
      },
      "source": [
        "<a href=\"https://colab.research.google.com/github/riddhikaa/csir_npl_work/blob/main/breast_Cancer_4000.ipynb\" target=\"_parent\"><img src=\"https://colab.research.google.com/assets/colab-badge.svg\" alt=\"Open In Colab\"/></a>"
      ]
    },
    {
      "cell_type": "code",
      "execution_count": 109,
      "metadata": {
        "id": "uNhtZgBq4arN"
      },
      "outputs": [],
      "source": [
        "# !pip install category_encoders==2.6.0\n",
        "import warnings\n",
        "import numpy as np\n",
        "import pandas as pd\n",
        "import matplotlib.pyplot as plt\n",
        "import seaborn as sns\n",
        "from sklearn import linear_model, svm, model_selection, tree, ensemble, neighbors, preprocessing, base, metrics\n",
        "import category_encoders\n",
        "import imblearn"
      ]
    },
    {
      "cell_type": "code",
      "source": [
        "warnings.filterwarnings(\"ignore\")"
      ],
      "metadata": {
        "id": "-MokzMr14mqk"
      },
      "execution_count": 110,
      "outputs": []
    },
    {
      "cell_type": "code",
      "source": [
        "file_path = '/content/drive/MyDrive/breastcancer_data/original_Breast_GSE70947.xlsx'\n",
        "df = pd.read_excel(file_path)"
      ],
      "metadata": {
        "id": "-HpU-TRfC4oX"
      },
      "execution_count": 111,
      "outputs": []
    },
    {
      "cell_type": "code",
      "source": [
        "print(df.shape)"
      ],
      "metadata": {
        "colab": {
          "base_uri": "https://localhost:8080/"
        },
        "id": "i8Y2Z9guD98X",
        "outputId": "2880587c-de92-4b7c-ce7c-33a7c27ebed9"
      },
      "execution_count": 112,
      "outputs": [
        {
          "output_type": "stream",
          "name": "stdout",
          "text": [
            "(289, 16384)\n"
          ]
        }
      ]
    },
    {
      "cell_type": "code",
      "source": [
        "#selecting only 1000 features out of 16384\n",
        "selected_columns = df.columns[:4000]\n",
        "df_selected = df[selected_columns]\n",
        "df_selected.head()"
      ],
      "metadata": {
        "colab": {
          "base_uri": "https://localhost:8080/",
          "height": 273
        },
        "id": "nGz6GoPzEOle",
        "outputId": "5f51f409-a6f0-4bdb-d66f-6da1cf7f322d"
      },
      "execution_count": 113,
      "outputs": [
        {
          "output_type": "execute_result",
          "data": {
            "text/plain": [
              "                                         samples    type  NM_144987  \\\n",
              "0  GSM1823702_252800417016_S01_GE1_107_Sep09_1_2  normal   8.693318   \n",
              "1  GSM1823703_252800417016_S01_GE1_107_Sep09_2_1  normal   9.375980   \n",
              "2  GSM1823704_252800416877_S01_GE1_107_Sep09_2_3  normal   8.943442   \n",
              "3  GSM1823705_252800416894_S01_GE1_107_Sep09_1_1  normal   9.020798   \n",
              "4  GSM1823706_252800416894_S01_GE1_107_Sep09_1_3  normal   8.806154   \n",
              "\n",
              "   NM_013290  ENST00000322831  NM_001625  lincRNA:chr7:226042-232442_R  \\\n",
              "0   7.718016         6.044438  10.747077                      9.133777   \n",
              "1   7.072232         6.976741  10.429671                      9.526500   \n",
              "2   7.964573         6.269055  10.825025                      9.396855   \n",
              "3   7.824639         6.165165  11.646788                      8.776462   \n",
              "4   7.555348         6.230969  11.635247                      8.911383   \n",
              "\n",
              "   NM_032391  ENST00000238571  XR_108906  ...  NM_021732  XR_109856  \\\n",
              "0   4.735581         5.634732   4.670231  ...  10.785456  12.960688   \n",
              "1   5.221089         5.425187   4.860931  ...  11.844030  13.386819   \n",
              "2   5.258506         5.824921   4.964604  ...  11.409373  13.840516   \n",
              "3   4.648655         6.676692   4.770186  ...  10.317925  13.096730   \n",
              "4   4.518054         6.520691   4.540453  ...   9.873146  12.387498   \n",
              "\n",
              "   NM_002651  ENST00000416673  NM_001204210  \\\n",
              "0  11.166955         9.172606      4.499771   \n",
              "1  11.281272         8.292969      4.497988   \n",
              "2  11.160211         9.185260      4.502798   \n",
              "3  10.873247         9.549447      4.628685   \n",
              "4  10.991714         8.591467      4.754559   \n",
              "\n",
              "   lincRNA:chr19:56774830-56824754_R  NM_002758  \\\n",
              "0                           5.306075   8.200043   \n",
              "1                           5.465322   7.128886   \n",
              "2                           4.940250   8.459683   \n",
              "3                           4.990888   8.495884   \n",
              "4                           5.317871   8.677096   \n",
              "\n",
              "   lincRNA:chr8:142273943-142310368_R  NM_007174  NM_170589  \n",
              "0                            6.691251   7.634657   4.934270  \n",
              "1                            6.040059   7.512229   5.380480  \n",
              "2                            7.083498   6.861251   4.583431  \n",
              "3                            6.706246   9.122304   4.990888  \n",
              "4                            6.774923   7.600019   5.117890  \n",
              "\n",
              "[5 rows x 4000 columns]"
            ],
            "text/html": [
              "\n",
              "  <div id=\"df-199eae5d-8f3e-4a1c-baf1-24500024b08a\" class=\"colab-df-container\">\n",
              "    <div>\n",
              "<style scoped>\n",
              "    .dataframe tbody tr th:only-of-type {\n",
              "        vertical-align: middle;\n",
              "    }\n",
              "\n",
              "    .dataframe tbody tr th {\n",
              "        vertical-align: top;\n",
              "    }\n",
              "\n",
              "    .dataframe thead th {\n",
              "        text-align: right;\n",
              "    }\n",
              "</style>\n",
              "<table border=\"1\" class=\"dataframe\">\n",
              "  <thead>\n",
              "    <tr style=\"text-align: right;\">\n",
              "      <th></th>\n",
              "      <th>samples</th>\n",
              "      <th>type</th>\n",
              "      <th>NM_144987</th>\n",
              "      <th>NM_013290</th>\n",
              "      <th>ENST00000322831</th>\n",
              "      <th>NM_001625</th>\n",
              "      <th>lincRNA:chr7:226042-232442_R</th>\n",
              "      <th>NM_032391</th>\n",
              "      <th>ENST00000238571</th>\n",
              "      <th>XR_108906</th>\n",
              "      <th>...</th>\n",
              "      <th>NM_021732</th>\n",
              "      <th>XR_109856</th>\n",
              "      <th>NM_002651</th>\n",
              "      <th>ENST00000416673</th>\n",
              "      <th>NM_001204210</th>\n",
              "      <th>lincRNA:chr19:56774830-56824754_R</th>\n",
              "      <th>NM_002758</th>\n",
              "      <th>lincRNA:chr8:142273943-142310368_R</th>\n",
              "      <th>NM_007174</th>\n",
              "      <th>NM_170589</th>\n",
              "    </tr>\n",
              "  </thead>\n",
              "  <tbody>\n",
              "    <tr>\n",
              "      <th>0</th>\n",
              "      <td>GSM1823702_252800417016_S01_GE1_107_Sep09_1_2</td>\n",
              "      <td>normal</td>\n",
              "      <td>8.693318</td>\n",
              "      <td>7.718016</td>\n",
              "      <td>6.044438</td>\n",
              "      <td>10.747077</td>\n",
              "      <td>9.133777</td>\n",
              "      <td>4.735581</td>\n",
              "      <td>5.634732</td>\n",
              "      <td>4.670231</td>\n",
              "      <td>...</td>\n",
              "      <td>10.785456</td>\n",
              "      <td>12.960688</td>\n",
              "      <td>11.166955</td>\n",
              "      <td>9.172606</td>\n",
              "      <td>4.499771</td>\n",
              "      <td>5.306075</td>\n",
              "      <td>8.200043</td>\n",
              "      <td>6.691251</td>\n",
              "      <td>7.634657</td>\n",
              "      <td>4.934270</td>\n",
              "    </tr>\n",
              "    <tr>\n",
              "      <th>1</th>\n",
              "      <td>GSM1823703_252800417016_S01_GE1_107_Sep09_2_1</td>\n",
              "      <td>normal</td>\n",
              "      <td>9.375980</td>\n",
              "      <td>7.072232</td>\n",
              "      <td>6.976741</td>\n",
              "      <td>10.429671</td>\n",
              "      <td>9.526500</td>\n",
              "      <td>5.221089</td>\n",
              "      <td>5.425187</td>\n",
              "      <td>4.860931</td>\n",
              "      <td>...</td>\n",
              "      <td>11.844030</td>\n",
              "      <td>13.386819</td>\n",
              "      <td>11.281272</td>\n",
              "      <td>8.292969</td>\n",
              "      <td>4.497988</td>\n",
              "      <td>5.465322</td>\n",
              "      <td>7.128886</td>\n",
              "      <td>6.040059</td>\n",
              "      <td>7.512229</td>\n",
              "      <td>5.380480</td>\n",
              "    </tr>\n",
              "    <tr>\n",
              "      <th>2</th>\n",
              "      <td>GSM1823704_252800416877_S01_GE1_107_Sep09_2_3</td>\n",
              "      <td>normal</td>\n",
              "      <td>8.943442</td>\n",
              "      <td>7.964573</td>\n",
              "      <td>6.269055</td>\n",
              "      <td>10.825025</td>\n",
              "      <td>9.396855</td>\n",
              "      <td>5.258506</td>\n",
              "      <td>5.824921</td>\n",
              "      <td>4.964604</td>\n",
              "      <td>...</td>\n",
              "      <td>11.409373</td>\n",
              "      <td>13.840516</td>\n",
              "      <td>11.160211</td>\n",
              "      <td>9.185260</td>\n",
              "      <td>4.502798</td>\n",
              "      <td>4.940250</td>\n",
              "      <td>8.459683</td>\n",
              "      <td>7.083498</td>\n",
              "      <td>6.861251</td>\n",
              "      <td>4.583431</td>\n",
              "    </tr>\n",
              "    <tr>\n",
              "      <th>3</th>\n",
              "      <td>GSM1823705_252800416894_S01_GE1_107_Sep09_1_1</td>\n",
              "      <td>normal</td>\n",
              "      <td>9.020798</td>\n",
              "      <td>7.824639</td>\n",
              "      <td>6.165165</td>\n",
              "      <td>11.646788</td>\n",
              "      <td>8.776462</td>\n",
              "      <td>4.648655</td>\n",
              "      <td>6.676692</td>\n",
              "      <td>4.770186</td>\n",
              "      <td>...</td>\n",
              "      <td>10.317925</td>\n",
              "      <td>13.096730</td>\n",
              "      <td>10.873247</td>\n",
              "      <td>9.549447</td>\n",
              "      <td>4.628685</td>\n",
              "      <td>4.990888</td>\n",
              "      <td>8.495884</td>\n",
              "      <td>6.706246</td>\n",
              "      <td>9.122304</td>\n",
              "      <td>4.990888</td>\n",
              "    </tr>\n",
              "    <tr>\n",
              "      <th>4</th>\n",
              "      <td>GSM1823706_252800416894_S01_GE1_107_Sep09_1_3</td>\n",
              "      <td>normal</td>\n",
              "      <td>8.806154</td>\n",
              "      <td>7.555348</td>\n",
              "      <td>6.230969</td>\n",
              "      <td>11.635247</td>\n",
              "      <td>8.911383</td>\n",
              "      <td>4.518054</td>\n",
              "      <td>6.520691</td>\n",
              "      <td>4.540453</td>\n",
              "      <td>...</td>\n",
              "      <td>9.873146</td>\n",
              "      <td>12.387498</td>\n",
              "      <td>10.991714</td>\n",
              "      <td>8.591467</td>\n",
              "      <td>4.754559</td>\n",
              "      <td>5.317871</td>\n",
              "      <td>8.677096</td>\n",
              "      <td>6.774923</td>\n",
              "      <td>7.600019</td>\n",
              "      <td>5.117890</td>\n",
              "    </tr>\n",
              "  </tbody>\n",
              "</table>\n",
              "<p>5 rows × 4000 columns</p>\n",
              "</div>\n",
              "    <div class=\"colab-df-buttons\">\n",
              "\n",
              "  <div class=\"colab-df-container\">\n",
              "    <button class=\"colab-df-convert\" onclick=\"convertToInteractive('df-199eae5d-8f3e-4a1c-baf1-24500024b08a')\"\n",
              "            title=\"Convert this dataframe to an interactive table.\"\n",
              "            style=\"display:none;\">\n",
              "\n",
              "  <svg xmlns=\"http://www.w3.org/2000/svg\" height=\"24px\" viewBox=\"0 -960 960 960\">\n",
              "    <path d=\"M120-120v-720h720v720H120Zm60-500h600v-160H180v160Zm220 220h160v-160H400v160Zm0 220h160v-160H400v160ZM180-400h160v-160H180v160Zm440 0h160v-160H620v160ZM180-180h160v-160H180v160Zm440 0h160v-160H620v160Z\"/>\n",
              "  </svg>\n",
              "    </button>\n",
              "\n",
              "  <style>\n",
              "    .colab-df-container {\n",
              "      display:flex;\n",
              "      gap: 12px;\n",
              "    }\n",
              "\n",
              "    .colab-df-convert {\n",
              "      background-color: #E8F0FE;\n",
              "      border: none;\n",
              "      border-radius: 50%;\n",
              "      cursor: pointer;\n",
              "      display: none;\n",
              "      fill: #1967D2;\n",
              "      height: 32px;\n",
              "      padding: 0 0 0 0;\n",
              "      width: 32px;\n",
              "    }\n",
              "\n",
              "    .colab-df-convert:hover {\n",
              "      background-color: #E2EBFA;\n",
              "      box-shadow: 0px 1px 2px rgba(60, 64, 67, 0.3), 0px 1px 3px 1px rgba(60, 64, 67, 0.15);\n",
              "      fill: #174EA6;\n",
              "    }\n",
              "\n",
              "    .colab-df-buttons div {\n",
              "      margin-bottom: 4px;\n",
              "    }\n",
              "\n",
              "    [theme=dark] .colab-df-convert {\n",
              "      background-color: #3B4455;\n",
              "      fill: #D2E3FC;\n",
              "    }\n",
              "\n",
              "    [theme=dark] .colab-df-convert:hover {\n",
              "      background-color: #434B5C;\n",
              "      box-shadow: 0px 1px 3px 1px rgba(0, 0, 0, 0.15);\n",
              "      filter: drop-shadow(0px 1px 2px rgba(0, 0, 0, 0.3));\n",
              "      fill: #FFFFFF;\n",
              "    }\n",
              "  </style>\n",
              "\n",
              "    <script>\n",
              "      const buttonEl =\n",
              "        document.querySelector('#df-199eae5d-8f3e-4a1c-baf1-24500024b08a button.colab-df-convert');\n",
              "      buttonEl.style.display =\n",
              "        google.colab.kernel.accessAllowed ? 'block' : 'none';\n",
              "\n",
              "      async function convertToInteractive(key) {\n",
              "        const element = document.querySelector('#df-199eae5d-8f3e-4a1c-baf1-24500024b08a');\n",
              "        const dataTable =\n",
              "          await google.colab.kernel.invokeFunction('convertToInteractive',\n",
              "                                                    [key], {});\n",
              "        if (!dataTable) return;\n",
              "\n",
              "        const docLinkHtml = 'Like what you see? Visit the ' +\n",
              "          '<a target=\"_blank\" href=https://colab.research.google.com/notebooks/data_table.ipynb>data table notebook</a>'\n",
              "          + ' to learn more about interactive tables.';\n",
              "        element.innerHTML = '';\n",
              "        dataTable['output_type'] = 'display_data';\n",
              "        await google.colab.output.renderOutput(dataTable, element);\n",
              "        const docLink = document.createElement('div');\n",
              "        docLink.innerHTML = docLinkHtml;\n",
              "        element.appendChild(docLink);\n",
              "      }\n",
              "    </script>\n",
              "  </div>\n",
              "\n",
              "\n",
              "<div id=\"df-3f0bfe81-28c3-4765-9418-641a9d8e8078\">\n",
              "  <button class=\"colab-df-quickchart\" onclick=\"quickchart('df-3f0bfe81-28c3-4765-9418-641a9d8e8078')\"\n",
              "            title=\"Suggest charts\"\n",
              "            style=\"display:none;\">\n",
              "\n",
              "<svg xmlns=\"http://www.w3.org/2000/svg\" height=\"24px\"viewBox=\"0 0 24 24\"\n",
              "     width=\"24px\">\n",
              "    <g>\n",
              "        <path d=\"M19 3H5c-1.1 0-2 .9-2 2v14c0 1.1.9 2 2 2h14c1.1 0 2-.9 2-2V5c0-1.1-.9-2-2-2zM9 17H7v-7h2v7zm4 0h-2V7h2v10zm4 0h-2v-4h2v4z\"/>\n",
              "    </g>\n",
              "</svg>\n",
              "  </button>\n",
              "\n",
              "<style>\n",
              "  .colab-df-quickchart {\n",
              "      --bg-color: #E8F0FE;\n",
              "      --fill-color: #1967D2;\n",
              "      --hover-bg-color: #E2EBFA;\n",
              "      --hover-fill-color: #174EA6;\n",
              "      --disabled-fill-color: #AAA;\n",
              "      --disabled-bg-color: #DDD;\n",
              "  }\n",
              "\n",
              "  [theme=dark] .colab-df-quickchart {\n",
              "      --bg-color: #3B4455;\n",
              "      --fill-color: #D2E3FC;\n",
              "      --hover-bg-color: #434B5C;\n",
              "      --hover-fill-color: #FFFFFF;\n",
              "      --disabled-bg-color: #3B4455;\n",
              "      --disabled-fill-color: #666;\n",
              "  }\n",
              "\n",
              "  .colab-df-quickchart {\n",
              "    background-color: var(--bg-color);\n",
              "    border: none;\n",
              "    border-radius: 50%;\n",
              "    cursor: pointer;\n",
              "    display: none;\n",
              "    fill: var(--fill-color);\n",
              "    height: 32px;\n",
              "    padding: 0;\n",
              "    width: 32px;\n",
              "  }\n",
              "\n",
              "  .colab-df-quickchart:hover {\n",
              "    background-color: var(--hover-bg-color);\n",
              "    box-shadow: 0 1px 2px rgba(60, 64, 67, 0.3), 0 1px 3px 1px rgba(60, 64, 67, 0.15);\n",
              "    fill: var(--button-hover-fill-color);\n",
              "  }\n",
              "\n",
              "  .colab-df-quickchart-complete:disabled,\n",
              "  .colab-df-quickchart-complete:disabled:hover {\n",
              "    background-color: var(--disabled-bg-color);\n",
              "    fill: var(--disabled-fill-color);\n",
              "    box-shadow: none;\n",
              "  }\n",
              "\n",
              "  .colab-df-spinner {\n",
              "    border: 2px solid var(--fill-color);\n",
              "    border-color: transparent;\n",
              "    border-bottom-color: var(--fill-color);\n",
              "    animation:\n",
              "      spin 1s steps(1) infinite;\n",
              "  }\n",
              "\n",
              "  @keyframes spin {\n",
              "    0% {\n",
              "      border-color: transparent;\n",
              "      border-bottom-color: var(--fill-color);\n",
              "      border-left-color: var(--fill-color);\n",
              "    }\n",
              "    20% {\n",
              "      border-color: transparent;\n",
              "      border-left-color: var(--fill-color);\n",
              "      border-top-color: var(--fill-color);\n",
              "    }\n",
              "    30% {\n",
              "      border-color: transparent;\n",
              "      border-left-color: var(--fill-color);\n",
              "      border-top-color: var(--fill-color);\n",
              "      border-right-color: var(--fill-color);\n",
              "    }\n",
              "    40% {\n",
              "      border-color: transparent;\n",
              "      border-right-color: var(--fill-color);\n",
              "      border-top-color: var(--fill-color);\n",
              "    }\n",
              "    60% {\n",
              "      border-color: transparent;\n",
              "      border-right-color: var(--fill-color);\n",
              "    }\n",
              "    80% {\n",
              "      border-color: transparent;\n",
              "      border-right-color: var(--fill-color);\n",
              "      border-bottom-color: var(--fill-color);\n",
              "    }\n",
              "    90% {\n",
              "      border-color: transparent;\n",
              "      border-bottom-color: var(--fill-color);\n",
              "    }\n",
              "  }\n",
              "</style>\n",
              "\n",
              "  <script>\n",
              "    async function quickchart(key) {\n",
              "      const quickchartButtonEl =\n",
              "        document.querySelector('#' + key + ' button');\n",
              "      quickchartButtonEl.disabled = true;  // To prevent multiple clicks.\n",
              "      quickchartButtonEl.classList.add('colab-df-spinner');\n",
              "      try {\n",
              "        const charts = await google.colab.kernel.invokeFunction(\n",
              "            'suggestCharts', [key], {});\n",
              "      } catch (error) {\n",
              "        console.error('Error during call to suggestCharts:', error);\n",
              "      }\n",
              "      quickchartButtonEl.classList.remove('colab-df-spinner');\n",
              "      quickchartButtonEl.classList.add('colab-df-quickchart-complete');\n",
              "    }\n",
              "    (() => {\n",
              "      let quickchartButtonEl =\n",
              "        document.querySelector('#df-3f0bfe81-28c3-4765-9418-641a9d8e8078 button');\n",
              "      quickchartButtonEl.style.display =\n",
              "        google.colab.kernel.accessAllowed ? 'block' : 'none';\n",
              "    })();\n",
              "  </script>\n",
              "</div>\n",
              "\n",
              "    </div>\n",
              "  </div>\n"
            ],
            "application/vnd.google.colaboratory.intrinsic+json": {
              "type": "dataframe",
              "variable_name": "df_selected"
            }
          },
          "metadata": {},
          "execution_count": 113
        }
      ]
    },
    {
      "cell_type": "code",
      "source": [
        "df.head()\n",
        "print(f\"Total duplicates: {df.duplicated().sum()}\") #checking for duplicates\n",
        "#checking for null values\n",
        "print(df.isna().sum())\n",
        "print(f\"Total null count: {df.isna().sum().sum()}\")"
      ],
      "metadata": {
        "colab": {
          "base_uri": "https://localhost:8080/"
        },
        "id": "OFlM1EN9KCOE",
        "outputId": "82a76f6e-582d-48be-ba0c-ac47cbe038bf"
      },
      "execution_count": 114,
      "outputs": [
        {
          "output_type": "stream",
          "name": "stdout",
          "text": [
            "Total duplicates: 0\n",
            "samples                             0\n",
            "type                                0\n",
            "NM_144987                           0\n",
            "NM_013290                           0\n",
            "ENST00000322831                     0\n",
            "                                   ..\n",
            "NR_003529                           0\n",
            "NR_036446                           0\n",
            "NM_001001957                        0\n",
            "lincRNA:chr7:29652000-29661000_R    0\n",
            "ENST00000494108                     0\n",
            "Length: 16384, dtype: int64\n",
            "Total null count: 0\n"
          ]
        }
      ]
    },
    {
      "cell_type": "code",
      "source": [
        "target = \"type\"\n",
        "val_counts = df_selected[target].value_counts()\n",
        "print(val_counts, \"\\n\\n\")\n"
      ],
      "metadata": {
        "colab": {
          "base_uri": "https://localhost:8080/"
        },
        "id": "1rw21MaLKrEh",
        "outputId": "704896c9-fc44-4dcb-ee79-3a261a82ed8b"
      },
      "execution_count": 115,
      "outputs": [
        {
          "output_type": "stream",
          "name": "stdout",
          "text": [
            "type\n",
            "normal                   146\n",
            "breast_adenocarcinoma    143\n",
            "Name: count, dtype: int64 \n",
            "\n",
            "\n"
          ]
        }
      ]
    },
    {
      "cell_type": "code",
      "source": [
        "plt.subplot(1, 2, 2)\n",
        "plt.pie(val_counts, labels = val_counts.keys(), autopct = \"%.2f%%\")\n"
      ],
      "metadata": {
        "colab": {
          "base_uri": "https://localhost:8080/",
          "height": 371
        },
        "id": "QYT7AihFLz6k",
        "outputId": "e75df6d0-342f-4dea-f8c2-d78d1c961aae"
      },
      "execution_count": 116,
      "outputs": [
        {
          "output_type": "execute_result",
          "data": {
            "text/plain": [
              "([<matplotlib.patches.Wedge at 0x7a1002996ad0>,\n",
              "  <matplotlib.patches.Wedge at 0x7a0ffb0e5a50>],\n",
              " [Text(-0.017935638819470537, 1.0998537688529952, 'normal'),\n",
              "  Text(0.01793563881947016, -1.0998537688529952, 'breast_adenocarcinoma')],\n",
              " [Text(-0.0097830757197112, 0.5999202375561791, '50.52%'),\n",
              "  Text(0.009783075719710994, -0.5999202375561791, '49.48%')])"
            ]
          },
          "metadata": {},
          "execution_count": 116
        },
        {
          "output_type": "display_data",
          "data": {
            "text/plain": [
              "<Figure size 640x480 with 1 Axes>"
            ],
            "image/png": "[encoded data removed]"
          },
          "metadata": {}
        }
      ]
    },
    {
      "cell_type": "code",
      "source": [
        "# Encoding categorical features (Ordinal Encoding)\n",
        "\n",
        "class_map = {\"normal\": 0, \"breast_adenocarcinoma\": 1}\n",
        "class_map_reverse = {m : n for m, n in zip(class_map.values(), class_map.keys())}\n",
        "\n",
        "encoder = category_encoders.OrdinalEncoder(cols = [target], mapping = [{\"col\": target, \"mapping\": class_map}])\n",
        "df_selected['type'] = encoder.fit_transform(df_selected[target])"
      ],
      "metadata": {
        "id": "GUw-4xoYL-XU"
      },
      "execution_count": 117,
      "outputs": []
    },
    {
      "cell_type": "code",
      "source": [
        "X = df_selected.drop(columns=df_selected.columns[0]).values\n",
        "y = df_selected[target].values\n",
        "\n",
        "print(X.shape, y.shape)\n",
        "print(X)\n"
      ],
      "metadata": {
        "colab": {
          "base_uri": "https://localhost:8080/"
        },
        "id": "7wn3Med1OdAT",
        "outputId": "426d5b4c-87f7-4687-aae3-57b98350605e"
      },
      "execution_count": 118,
      "outputs": [
        {
          "output_type": "stream",
          "name": "stdout",
          "text": [
            "(289, 3999) (289,)\n",
            "[[0.         8.69331779 7.71801596 ... 6.6912513  7.63465687 4.93426953]\n",
            " [0.         9.37597965 7.07223164 ... 6.04005933 7.51222945 5.38048012]\n",
            " [0.         8.94344176 7.96457276 ... 7.08349822 6.86125093 4.58343116]\n",
            " ...\n",
            " [1.         9.0513847  7.65189288 ... 6.90380827 8.43286113 5.60098621]\n",
            " [1.         8.11460641 8.09668189 ... 7.62245304 9.16002157 8.7997835 ]\n",
            " [1.         8.82757478 7.53889842 ... 7.10490874 9.3865189  8.06859913]]\n"
          ]
        }
      ]
    },
    {
      "cell_type": "code",
      "source": [
        "# Splitting the data into testing and training data (Stratified Splitting)\n",
        "#split: 30% test and 70% train\n",
        "X_train, X_test, y_train, y_test = model_selection.train_test_split(X, y, test_size = 0.3, random_state = 42, stratify = y)\n",
        "print(X_train.shape, X_test.shape)\n",
        "X_train"
      ],
      "metadata": {
        "colab": {
          "base_uri": "https://localhost:8080/"
        },
        "id": "OpKuvqbSO3wl",
        "outputId": "d88baf41-faaa-4f59-bdcd-6fd465a5b6cb"
      },
      "execution_count": 119,
      "outputs": [
        {
          "output_type": "stream",
          "name": "stdout",
          "text": [
            "(202, 3999) (87, 3999)\n"
          ]
        },
        {
          "output_type": "execute_result",
          "data": {
            "text/plain": [
              "array([[0.        , 9.17559702, 8.01454138, ..., 6.71855039, 7.39623323,\n",
              "        5.74429819],\n",
              "       [0.        , 9.04047607, 7.84442778, ..., 7.26729477, 8.64162623,\n",
              "        4.99264321],\n",
              "       [0.        , 8.92586144, 7.49132906, ..., 5.99526973, 7.41234419,\n",
              "        4.95388056],\n",
              "       ...,\n",
              "       [1.        , 8.32934381, 8.21710839, ..., 6.65767947, 9.89694667,\n",
              "        8.2238408 ],\n",
              "       [1.        , 8.66783834, 8.62899818, ..., 7.27315854, 9.55188283,\n",
              "        8.09678872],\n",
              "       [1.        , 8.74929057, 7.77024871, ..., 6.95962501, 8.43795772,\n",
              "        6.27696391]])"
            ]
          },
          "metadata": {},
          "execution_count": 119
        }
      ]
    },
    {
      "cell_type": "code",
      "source": [
        "# Feature Scaling (Z-Score Normalization)\n",
        "\n",
        "scaler = preprocessing.StandardScaler()\n",
        "X_train_scaled = scaler.fit_transform(X_train)\n",
        "X_test_scaled = scaler.fit_transform(X_test)\n",
        "\n",
        "X_train = X_train_scaled.copy()\n",
        "X_test = X_test_scaled.copy()\n",
        "\n",
        "print(X_train[0].mean(), X_train[0].std())"
      ],
      "metadata": {
        "colab": {
          "base_uri": "https://localhost:8080/"
        },
        "id": "OwPM0fn1m_aN",
        "outputId": "237aa299-1410-4f7a-e2eb-60db184b1ec9"
      },
      "execution_count": 120,
      "outputs": [
        {
          "output_type": "stream",
          "name": "stdout",
          "text": [
            "0.061817509743406905 0.7713809030091863\n"
          ]
        }
      ]
    },
    {
      "cell_type": "code",
      "source": [
        "# Checking uniformity of labels across train and test data sets\n",
        "\n",
        "print(f\"Train Set:\\n{pd.Series(y_train).value_counts()}\\n\\n\")\n",
        "print(f\"Test Set:\\n{pd.Series(y_test).value_counts()}\\n\\n\")\n",
        "\n",
        "plt.figure(figsize = (15, 4))\n",
        "\n",
        "plt.subplot(1, 2, 1)\n",
        "sns.histplot(y_train, bins = len(np.unique(y_train)))\n",
        "\n",
        "plt.subplot(1, 2, 2)\n",
        "sns.histplot(y_test, bins = len(np.unique(y_test)))\n",
        "\n",
        "plt.tight_layout()\n",
        "plt.show()"
      ],
      "metadata": {
        "colab": {
          "base_uri": "https://localhost:8080/",
          "height": 626
        },
        "id": "3JyGEaRRRaPq",
        "outputId": "8ee99195-ef32-4b61-a491-f9c5c51478d6"
      },
      "execution_count": 121,
      "outputs": [
        {
          "output_type": "stream",
          "name": "stdout",
          "text": [
            "Train Set:\n",
            "0    102\n",
            "1    100\n",
            "Name: count, dtype: int64\n",
            "\n",
            "\n",
            "Test Set:\n",
            "0    44\n",
            "1    43\n",
            "Name: count, dtype: int64\n",
            "\n",
            "\n"
          ]
        },
        {
          "output_type": "display_data",
          "data": {
            "text/plain": [
              "<Figure size 1500x400 with 2 Axes>"
            ],
            "image/png": "[encoded data removed]"
          },
          "metadata": {}
        }
      ]
    },
    {
      "cell_type": "code",
      "source": [
        "# Handling class imbalance through Synthetic Minority Over-sampling Technique (SMOTE)\n",
        "\n",
        "smote = imblearn.over_sampling.SMOTE(random_state = 3, k_neighbors = 3)\n",
        "\n",
        "X_train_resampled, y_train_resampled = smote.fit_resample(X_train, y_train)\n",
        "\n",
        "print(X_train_resampled.shape, y_train_resampled.shape)"
      ],
      "metadata": {
        "colab": {
          "base_uri": "https://localhost:8080/"
        },
        "id": "4u1VIkvSnGJV",
        "outputId": "2dd6d5bc-5c32-4e01-f960-aaf46ba6a032"
      },
      "execution_count": 122,
      "outputs": [
        {
          "output_type": "stream",
          "name": "stdout",
          "text": [
            "(204, 3999) (204,)\n"
          ]
        }
      ]
    },
    {
      "cell_type": "code",
      "source": [
        "X_train, y_train = X_train_resampled.copy(), y_train_resampled.copy()"
      ],
      "metadata": {
        "id": "xjxf0fKPnMNS"
      },
      "execution_count": 123,
      "outputs": []
    },
    {
      "cell_type": "code",
      "source": [
        "import matplotlib.pyplot as plt\n",
        "from sklearn.neighbors import KNeighborsClassifier\n",
        "from sklearn.metrics import accuracy_score, f1_score, confusion_matrix, ConfusionMatrixDisplay\n",
        "\n",
        "\n",
        "k = 3 #Number of neighbors\n",
        "knn_model = KNeighborsClassifier(n_neighbors=k)\n",
        "\n",
        "knn_model.fit(X_train, y_train)\n",
        "y_train_pred = knn_model.predict(X_train) #training set\n",
        "y_test_pred = knn_model.predict(X_test)#testing set\n",
        "\n",
        "#Evaluating model performance on training data\n",
        "train_accuracy = accuracy_score(y_train, y_train_pred)\n",
        "train_f1 = f1_score(y_train, y_train_pred)\n",
        "print(f\"Training Accuracy of KNN model: {train_accuracy:.2f}\")\n",
        "print(f\"Training F1 score of KNN model: {train_f1:.2f}\")\n",
        "\n",
        "#Evaluating model performance on testing data\n",
        "test_accuracy = accuracy_score(y_test, y_test_pred)\n",
        "test_f1 = f1_score(y_test, y_test_pred)\n",
        "print(f\"Testing Accuracy of KNN model: {test_accuracy:.2f}\")\n",
        "print(f\"Testing F1 score of KNN model: {test_f1:.2f}\")\n",
        "\n",
        "#confusion matrix for training data\n",
        "train_cm = confusion_matrix(y_train, y_train_pred)\n",
        "ConfusionMatrixDisplay(train_cm, display_labels=knn_model.classes_).plot()\n",
        "plt.title('Confusion Matrix for Training Data')\n",
        "plt.show()\n",
        "\n",
        "#confusion matrix for testing data\n",
        "test_cm = confusion_matrix(y_test, y_test_pred)\n",
        "ConfusionMatrixDisplay(test_cm, display_labels=knn_model.classes_).plot()\n",
        "\n",
        "plt.title('Confusion Matrix for Testing Data')\n",
        "plt.show()\n",
        "'''\n",
        "80-20 split\n",
        "Training Accuracy of KNN model: 0.91\n",
        "Training F1 score of KNN model: 0.90\n",
        "Testing Accuracy of KNN model: 0.88\n",
        "Testing F1 score of KNN model: 0.87\n",
        "'''"
      ],
      "metadata": {
        "colab": {
          "base_uri": "https://localhost:8080/",
          "height": 1000
        },
        "id": "BCUvrCicdgG9",
        "outputId": "fbedbacf-4412-4199-d141-9335fd30050c"
      },
      "execution_count": 124,
      "outputs": [
        {
          "output_type": "stream",
          "name": "stdout",
          "text": [
            "Training Accuracy of KNN model: 0.90\n",
            "Training F1 score of KNN model: 0.90\n",
            "Testing Accuracy of KNN model: 0.84\n",
            "Testing F1 score of KNN model: 0.81\n"
          ]
        },
        {
          "output_type": "display_data",
          "data": {
            "text/plain": [
              "<Figure size 640x480 with 2 Axes>"
            ],
            "image/png": "[encoded data removed]"
          },
          "metadata": {}
        },
        {
          "output_type": "display_data",
          "data": {
            "text/plain": [
              "<Figure size 640x480 with 2 Axes>"
            ],
            "image/png": "[encoded data removed]"
          },
          "metadata": {}
        },
        {
          "output_type": "execute_result",
          "data": {
            "text/plain": [
              "'\\n80-20 split\\nTraining Accuracy of KNN model: 0.91\\nTraining F1 score of KNN model: 0.90\\nTesting Accuracy of KNN model: 0.88\\nTesting F1 score of KNN model: 0.87\\n'"
            ],
            "application/vnd.google.colaboratory.intrinsic+json": {
              "type": "string"
            }
          },
          "metadata": {},
          "execution_count": 124
        }
      ]
    },
    {
      "cell_type": "code",
      "source": [
        "# random forest\n",
        "from sklearn.ensemble import RandomForestClassifier\n",
        "rf_model = RandomForestClassifier(n_estimators=100, random_state=42)\n",
        "\n",
        "rf_model.fit(X_train, y_train)\n",
        "\n",
        "#training set\n",
        "y_train_pred = rf_model.predict(X_train)\n",
        "\n",
        "#testing set\n",
        "y_test_pred = rf_model.predict(X_test)\n",
        "\n",
        "#Evaluating model performance on training data\n",
        "train_accuracy = accuracy_score(y_train, y_train_pred)\n",
        "train_f1 = f1_score(y_train, y_train_pred)\n",
        "print(f\"Training Accuracy of Random Forest model: {train_accuracy:.2f}\")\n",
        "print(f\"Training F1 score of Random Forest model: {train_f1:.2f}\")\n",
        "\n",
        "#Evaluating model performance on testing data\n",
        "test_accuracy = accuracy_score(y_test, y_test_pred)\n",
        "test_f1 = f1_score(y_test, y_test_pred)\n",
        "print(f\"Testing Accuracy of Random Forest model: {test_accuracy:.2f}\")\n",
        "print(f\"Testing F1 score of Random Forest model: {test_f1:.2f}\")\n",
        "\n",
        "'''\n",
        "80-20 split:\n",
        "Training Accuracy of Random Forest model: 1.00\n",
        "Training F1 score of Random Forest model: 1.00\n",
        "Testing Accuracy of Random Forest model: 0.91\n",
        "Testing F1 score of Random Forest model: 0.91\n",
        "\n",
        "'''"
      ],
      "metadata": {
        "colab": {
          "base_uri": "https://localhost:8080/",
          "height": 127
        },
        "id": "98pFiPpqew-z",
        "outputId": "145eb194-48aa-4b86-e771-963068cce730"
      },
      "execution_count": 125,
      "outputs": [
        {
          "output_type": "stream",
          "name": "stdout",
          "text": [
            "Training Accuracy of Random Forest model: 1.00\n",
            "Training F1 score of Random Forest model: 1.00\n",
            "Testing Accuracy of Random Forest model: 0.89\n",
            "Testing F1 score of Random Forest model: 0.88\n"
          ]
        },
        {
          "output_type": "execute_result",
          "data": {
            "text/plain": [
              "'\\n80-20 split:\\nTraining Accuracy of Random Forest model: 1.00\\nTraining F1 score of Random Forest model: 1.00\\nTesting Accuracy of Random Forest model: 0.91\\nTesting F1 score of Random Forest model: 0.91\\n\\n'"
            ],
            "application/vnd.google.colaboratory.intrinsic+json": {
              "type": "string"
            }
          },
          "metadata": {},
          "execution_count": 125
        }
      ]
    },
    {
      "cell_type": "code",
      "source": [
        "#confusion matrix for training data\n",
        "train_cm = confusion_matrix(y_train, y_train_pred)\n",
        "ConfusionMatrixDisplay(train_cm, display_labels=rf_model.classes_).plot()\n",
        "\n",
        "plt.title('Confusion Matrix for Training Data')\n",
        "plt.show()\n",
        "\n",
        "#confusion matrix for testing data\n",
        "test_cm = confusion_matrix(y_test, y_test_pred)\n",
        "ConfusionMatrixDisplay(test_cm, display_labels=rf_model.classes_).plot()\n",
        "\n",
        "plt.title('Confusion Matrix for Testing Data')\n",
        "plt.show()"
      ],
      "metadata": {
        "colab": {
          "base_uri": "https://localhost:8080/",
          "height": 927
        },
        "id": "Gi-c7WeLfD-q",
        "outputId": "9dee316b-330c-464d-8a9c-4ff4830ab5dd"
      },
      "execution_count": 126,
      "outputs": [
        {
          "output_type": "display_data",
          "data": {
            "text/plain": [
              "<Figure size 640x480 with 2 Axes>"
            ],
            "image/png": "[encoded data removed]"
          },
          "metadata": {}
        },
        {
          "output_type": "display_data",
          "data": {
            "text/plain": [
              "<Figure size 640x480 with 2 Axes>"
            ],
            "image/png": "[encoded data removed]"
          },
          "metadata": {}
        }
      ]
    },
    {
      "cell_type": "code",
      "source": [
        "from sklearn.linear_model import LogisticRegression\n",
        "logreg_model = LogisticRegression(random_state=42, max_iter=1000)\n",
        "logreg_model.fit(X_train, y_train)\n",
        "\n",
        "y_train_pred = logreg_model.predict(X_train)#training set\n",
        "y_test_pred = logreg_model.predict(X_test)#testing set\n",
        "\n",
        "#Evaluating model performance on training data\n",
        "train_accuracy = accuracy_score(y_train, y_train_pred)\n",
        "train_f1 = f1_score(y_train, y_train_pred)\n",
        "print(f\"Training Accuracy of Logistic Regression model: {train_accuracy:.2f}\")\n",
        "print(f\"Training F1 score of Logistic Regression model: {train_f1:.2f}\")\n",
        "\n",
        "#Evaluating model performance on testing data\n",
        "test_accuracy = accuracy_score(y_test, y_test_pred)\n",
        "test_f1 = f1_score(y_test, y_test_pred)\n",
        "print(f\"Testing Accuracy of Logistic Regression model: {test_accuracy:.2f}\")\n",
        "print(f\"Testing F1 score of Logistic Regression model: {test_f1:.2f}\")\n",
        "\n",
        "#confusion matrix for training data\n",
        "train_cm = confusion_matrix(y_train, y_train_pred)\n",
        "ConfusionMatrixDisplay(train_cm, display_labels=logreg_model.classes_).plot()\n",
        "plt.title('Confusion Matrix for Training Data')\n",
        "plt.show()\n",
        "\n",
        "#confusion matrix for testing data\n",
        "test_cm = confusion_matrix(y_test, y_test_pred)\n",
        "ConfusionMatrixDisplay(test_cm, display_labels=logreg_model.classes_).plot()\n",
        "plt.title('Confusion Matrix for Testing Data')\n",
        "plt.show()\n",
        "\n",
        "'''\n",
        "80-20 split:\n",
        "Training Accuracy of Logistic Regression model: 1.00\n",
        "Training F1 score of Logistic Regression model: 1.00\n",
        "Testing Accuracy of Logistic Regression model: 0.93\n",
        "Testing F1 score of Logistic Regression model: 0.93\n",
        "\n",
        "'''"
      ],
      "metadata": {
        "colab": {
          "base_uri": "https://localhost:8080/",
          "height": 1000
        },
        "id": "S3bCFxVwgbya",
        "outputId": "b43ed9f0-0e99-45cb-b34c-aeb05daf3796"
      },
      "execution_count": 127,
      "outputs": [
        {
          "output_type": "stream",
          "name": "stdout",
          "text": [
            "Training Accuracy of Logistic Regression model: 1.00\n",
            "Training F1 score of Logistic Regression model: 1.00\n",
            "Testing Accuracy of Logistic Regression model: 0.93\n",
            "Testing F1 score of Logistic Regression model: 0.93\n"
          ]
        },
        {
          "output_type": "display_data",
          "data": {
            "text/plain": [
              "<Figure size 640x480 with 2 Axes>"
            ],
            "image/png": "[encoded data removed]"
          },
          "metadata": {}
        },
        {
          "output_type": "display_data",
          "data": {
            "text/plain": [
              "<Figure size 640x480 with 2 Axes>"
            ],
            "image/png": "[encoded data removed]"
          },
          "metadata": {}
        },
        {
          "output_type": "execute_result",
          "data": {
            "text/plain": [
              "'\\n80-20 split:\\nTraining Accuracy of Logistic Regression model: 1.00\\nTraining F1 score of Logistic Regression model: 1.00\\nTesting Accuracy of Logistic Regression model: 0.93\\nTesting F1 score of Logistic Regression model: 0.93\\n\\n'"
            ],
            "application/vnd.google.colaboratory.intrinsic+json": {
              "type": "string"
            }
          },
          "metadata": {},
          "execution_count": 127
        }
      ]
    },
    {
      "cell_type": "code",
      "source": [],
      "metadata": {
        "id": "lynnTd3jyLSR"
      },
      "execution_count": null,
      "outputs": []
    }
  ]
}