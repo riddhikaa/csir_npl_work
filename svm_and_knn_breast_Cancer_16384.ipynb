{
  "nbformat": 4,
  "nbformat_minor": 0,
  "metadata": {
    "colab": {
      "provenance": [],
      "mount_file_id": "1oRvBVG2ts4RQ5U7HG4vA74vwb4EtvI9c",
      "authorship_tag": "ABX9TyOH2Yn6Kq6DEQl8q8UCmexB",
      "include_colab_link": true
    },
    "kernelspec": {
      "name": "python3",
      "display_name": "Python 3"
    },
    "language_info": {
      "name": "python"
    }
  },
  "cells": [
    {
      "cell_type": "markdown",
      "metadata": {
        "id": "view-in-github",
        "colab_type": "text"
      },
      "source": [
        "<a href=\"https://colab.research.google.com/github/riddhikaa/csir_npl_work/blob/main/svm_and_knn_breast_Cancer_16384.ipynb\" target=\"_parent\"><img src=\"https://colab.research.google.com/assets/colab-badge.svg\" alt=\"Open In Colab\"/></a>"
      ]
    },
    {
      "cell_type": "code",
      "execution_count": 2,
      "metadata": {
        "id": "uNhtZgBq4arN",
        "colab": {
          "base_uri": "https://localhost:8080/"
        },
        "outputId": "c6019169-0e50-4e6b-ab37-74688e71906e"
      },
      "outputs": [
        {
          "output_type": "stream",
          "name": "stdout",
          "text": [
            "Collecting category_encoders==2.6.0\n",
            "  Downloading category_encoders-2.6.0-py2.py3-none-any.whl (81 kB)\n",
            "\u001b[?25l     \u001b[90m━━━━━━━━━━━━━━━━━━━━━━━━━━━━━━━━━━━━━━━━\u001b[0m \u001b[32m0.0/81.2 kB\u001b[0m \u001b[31m?\u001b[0m eta \u001b[36m-:--:--\u001b[0m\r\u001b[2K     \u001b[90m━━━━━━━━━━━━━━━━━━━━━━━━━━━━━━━━━━━━━━━━\u001b[0m \u001b[32m81.2/81.2 kB\u001b[0m \u001b[31m2.6 MB/s\u001b[0m eta \u001b[36m0:00:00\u001b[0m\n",
            "\u001b[?25hRequirement already satisfied: numpy>=1.14.0 in /usr/local/lib/python3.10/dist-packages (from category_encoders==2.6.0) (1.25.2)\n",
            "Requirement already satisfied: scikit-learn>=0.20.0 in /usr/local/lib/python3.10/dist-packages (from category_encoders==2.6.0) (1.2.2)\n",
            "Requirement already satisfied: scipy>=1.0.0 in /usr/local/lib/python3.10/dist-packages (from category_encoders==2.6.0) (1.11.4)\n",
            "Requirement already satisfied: statsmodels>=0.9.0 in /usr/local/lib/python3.10/dist-packages (from category_encoders==2.6.0) (0.14.2)\n",
            "Requirement already satisfied: pandas>=1.0.5 in /usr/local/lib/python3.10/dist-packages (from category_encoders==2.6.0) (2.0.3)\n",
            "Requirement already satisfied: patsy>=0.5.1 in /usr/local/lib/python3.10/dist-packages (from category_encoders==2.6.0) (0.5.6)\n",
            "Requirement already satisfied: python-dateutil>=2.8.2 in /usr/local/lib/python3.10/dist-packages (from pandas>=1.0.5->category_encoders==2.6.0) (2.8.2)\n",
            "Requirement already satisfied: pytz>=2020.1 in /usr/local/lib/python3.10/dist-packages (from pandas>=1.0.5->category_encoders==2.6.0) (2023.4)\n",
            "Requirement already satisfied: tzdata>=2022.1 in /usr/local/lib/python3.10/dist-packages (from pandas>=1.0.5->category_encoders==2.6.0) (2024.1)\n",
            "Requirement already satisfied: six in /usr/local/lib/python3.10/dist-packages (from patsy>=0.5.1->category_encoders==2.6.0) (1.16.0)\n",
            "Requirement already satisfied: joblib>=1.1.1 in /usr/local/lib/python3.10/dist-packages (from scikit-learn>=0.20.0->category_encoders==2.6.0) (1.4.2)\n",
            "Requirement already satisfied: threadpoolctl>=2.0.0 in /usr/local/lib/python3.10/dist-packages (from scikit-learn>=0.20.0->category_encoders==2.6.0) (3.5.0)\n",
            "Requirement already satisfied: packaging>=21.3 in /usr/local/lib/python3.10/dist-packages (from statsmodels>=0.9.0->category_encoders==2.6.0) (24.1)\n",
            "Installing collected packages: category_encoders\n",
            "Successfully installed category_encoders-2.6.0\n"
          ]
        }
      ],
      "source": [
        "!pip install category_encoders==2.6.0\n",
        "import warnings\n",
        "import numpy as np\n",
        "import pandas as pd\n",
        "import matplotlib.pyplot as plt\n",
        "import seaborn as sns\n",
        "from sklearn import linear_model, svm, model_selection, tree, ensemble, neighbors, preprocessing, base, metrics\n",
        "import category_encoders\n",
        "import imblearn"
      ]
    },
    {
      "cell_type": "code",
      "source": [
        "warnings.filterwarnings(\"ignore\")"
      ],
      "metadata": {
        "id": "-MokzMr14mqk"
      },
      "execution_count": 3,
      "outputs": []
    },
    {
      "cell_type": "code",
      "source": [
        "file_path = '/content/drive/MyDrive/breastcancer_data/original_Breast_GSE70947.xlsx'\n",
        "df = pd.read_excel(file_path)"
      ],
      "metadata": {
        "id": "-HpU-TRfC4oX"
      },
      "execution_count": 4,
      "outputs": []
    },
    {
      "cell_type": "code",
      "source": [
        "print(df.shape)"
      ],
      "metadata": {
        "colab": {
          "base_uri": "https://localhost:8080/"
        },
        "id": "i8Y2Z9guD98X",
        "outputId": "337cde8b-1fff-4cb0-d65d-e43e648279e9"
      },
      "execution_count": 5,
      "outputs": [
        {
          "output_type": "stream",
          "name": "stdout",
          "text": [
            "(289, 16384)\n"
          ]
        }
      ]
    },
    {
      "cell_type": "code",
      "source": [
        "#selecting only 1000 features out of 16384\n",
        "# selected_columns = df.columns[:4000]\n",
        "# df_selected = df[selected_columns]\n",
        "# df_selected.head()\n",
        "df.head()"
      ],
      "metadata": {
        "colab": {
          "base_uri": "https://localhost:8080/",
          "height": 273
        },
        "id": "nGz6GoPzEOle",
        "outputId": "1bfbc53a-529c-4546-b347-d7b09a8e34fa"
      },
      "execution_count": 6,
      "outputs": [
        {
          "output_type": "execute_result",
          "data": {
            "text/plain": [
              "                                         samples    type  NM_144987  \\\n",
              "0  GSM1823702_252800417016_S01_GE1_107_Sep09_1_2  normal   8.693318   \n",
              "1  GSM1823703_252800417016_S01_GE1_107_Sep09_2_1  normal   9.375980   \n",
              "2  GSM1823704_252800416877_S01_GE1_107_Sep09_2_3  normal   8.943442   \n",
              "3  GSM1823705_252800416894_S01_GE1_107_Sep09_1_1  normal   9.020798   \n",
              "4  GSM1823706_252800416894_S01_GE1_107_Sep09_1_3  normal   8.806154   \n",
              "\n",
              "   NM_013290  ENST00000322831  NM_001625  lincRNA:chr7:226042-232442_R  \\\n",
              "0   7.718016         6.044438  10.747077                      9.133777   \n",
              "1   7.072232         6.976741  10.429671                      9.526500   \n",
              "2   7.964573         6.269055  10.825025                      9.396855   \n",
              "3   7.824639         6.165165  11.646788                      8.776462   \n",
              "4   7.555348         6.230969  11.635247                      8.911383   \n",
              "\n",
              "   NM_032391  ENST00000238571  XR_108906  ...  NM_207327  NM_001004477  \\\n",
              "0   4.735581         5.634732   4.670231  ...  10.453202      4.376090   \n",
              "1   5.221089         5.425187   4.860931  ...  10.066372      4.383785   \n",
              "2   5.258506         5.824921   4.964604  ...  10.380676      4.428892   \n",
              "3   4.648655         6.676692   4.770186  ...  10.509871      4.381542   \n",
              "4   4.518054         6.520691   4.540453  ...  10.552841      4.386116   \n",
              "\n",
              "   NM_020700  NM_005895  NM_000679  NR_003529  NR_036446  NM_001001957  \\\n",
              "0   5.597596  11.860087  11.321528   4.486530   5.489959      5.810069   \n",
              "1   5.404546  11.636828   8.283747   4.770318   5.345571      4.457930   \n",
              "2   5.356374  12.031338   9.420630   4.394069   5.851030      4.508072   \n",
              "3   5.757179  11.944607  10.311339   4.451118   6.117379      4.505663   \n",
              "4   6.851058  11.976510  10.904219   4.432566   6.286439      4.540453   \n",
              "\n",
              "   lincRNA:chr7:29652000-29661000_R  ENST00000494108  \n",
              "0                          4.834056         4.383929  \n",
              "1                          4.441395         4.411587  \n",
              "2                          4.568262         4.316081  \n",
              "3                          4.413361         4.537626  \n",
              "4                          4.412933         4.452250  \n",
              "\n",
              "[5 rows x 16384 columns]"
            ],
            "text/html": [
              "\n",
              "  <div id=\"df-ac8f3761-377f-4089-9fd6-2668d5640b6b\" class=\"colab-df-container\">\n",
              "    <div>\n",
              "<style scoped>\n",
              "    .dataframe tbody tr th:only-of-type {\n",
              "        vertical-align: middle;\n",
              "    }\n",
              "\n",
              "    .dataframe tbody tr th {\n",
              "        vertical-align: top;\n",
              "    }\n",
              "\n",
              "    .dataframe thead th {\n",
              "        text-align: right;\n",
              "    }\n",
              "</style>\n",
              "<table border=\"1\" class=\"dataframe\">\n",
              "  <thead>\n",
              "    <tr style=\"text-align: right;\">\n",
              "      <th></th>\n",
              "      <th>samples</th>\n",
              "      <th>type</th>\n",
              "      <th>NM_144987</th>\n",
              "      <th>NM_013290</th>\n",
              "      <th>ENST00000322831</th>\n",
              "      <th>NM_001625</th>\n",
              "      <th>lincRNA:chr7:226042-232442_R</th>\n",
              "      <th>NM_032391</th>\n",
              "      <th>ENST00000238571</th>\n",
              "      <th>XR_108906</th>\n",
              "      <th>...</th>\n",
              "      <th>NM_207327</th>\n",
              "      <th>NM_001004477</th>\n",
              "      <th>NM_020700</th>\n",
              "      <th>NM_005895</th>\n",
              "      <th>NM_000679</th>\n",
              "      <th>NR_003529</th>\n",
              "      <th>NR_036446</th>\n",
              "      <th>NM_001001957</th>\n",
              "      <th>lincRNA:chr7:29652000-29661000_R</th>\n",
              "      <th>ENST00000494108</th>\n",
              "    </tr>\n",
              "  </thead>\n",
              "  <tbody>\n",
              "    <tr>\n",
              "      <th>0</th>\n",
              "      <td>GSM1823702_252800417016_S01_GE1_107_Sep09_1_2</td>\n",
              "      <td>normal</td>\n",
              "      <td>8.693318</td>\n",
              "      <td>7.718016</td>\n",
              "      <td>6.044438</td>\n",
              "      <td>10.747077</td>\n",
              "      <td>9.133777</td>\n",
              "      <td>4.735581</td>\n",
              "      <td>5.634732</td>\n",
              "      <td>4.670231</td>\n",
              "      <td>...</td>\n",
              "      <td>10.453202</td>\n",
              "      <td>4.376090</td>\n",
              "      <td>5.597596</td>\n",
              "      <td>11.860087</td>\n",
              "      <td>11.321528</td>\n",
              "      <td>4.486530</td>\n",
              "      <td>5.489959</td>\n",
              "      <td>5.810069</td>\n",
              "      <td>4.834056</td>\n",
              "      <td>4.383929</td>\n",
              "    </tr>\n",
              "    <tr>\n",
              "      <th>1</th>\n",
              "      <td>GSM1823703_252800417016_S01_GE1_107_Sep09_2_1</td>\n",
              "      <td>normal</td>\n",
              "      <td>9.375980</td>\n",
              "      <td>7.072232</td>\n",
              "      <td>6.976741</td>\n",
              "      <td>10.429671</td>\n",
              "      <td>9.526500</td>\n",
              "      <td>5.221089</td>\n",
              "      <td>5.425187</td>\n",
              "      <td>4.860931</td>\n",
              "      <td>...</td>\n",
              "      <td>10.066372</td>\n",
              "      <td>4.383785</td>\n",
              "      <td>5.404546</td>\n",
              "      <td>11.636828</td>\n",
              "      <td>8.283747</td>\n",
              "      <td>4.770318</td>\n",
              "      <td>5.345571</td>\n",
              "      <td>4.457930</td>\n",
              "      <td>4.441395</td>\n",
              "      <td>4.411587</td>\n",
              "    </tr>\n",
              "    <tr>\n",
              "      <th>2</th>\n",
              "      <td>GSM1823704_252800416877_S01_GE1_107_Sep09_2_3</td>\n",
              "      <td>normal</td>\n",
              "      <td>8.943442</td>\n",
              "      <td>7.964573</td>\n",
              "      <td>6.269055</td>\n",
              "      <td>10.825025</td>\n",
              "      <td>9.396855</td>\n",
              "      <td>5.258506</td>\n",
              "      <td>5.824921</td>\n",
              "      <td>4.964604</td>\n",
              "      <td>...</td>\n",
              "      <td>10.380676</td>\n",
              "      <td>4.428892</td>\n",
              "      <td>5.356374</td>\n",
              "      <td>12.031338</td>\n",
              "      <td>9.420630</td>\n",
              "      <td>4.394069</td>\n",
              "      <td>5.851030</td>\n",
              "      <td>4.508072</td>\n",
              "      <td>4.568262</td>\n",
              "      <td>4.316081</td>\n",
              "    </tr>\n",
              "    <tr>\n",
              "      <th>3</th>\n",
              "      <td>GSM1823705_252800416894_S01_GE1_107_Sep09_1_1</td>\n",
              "      <td>normal</td>\n",
              "      <td>9.020798</td>\n",
              "      <td>7.824639</td>\n",
              "      <td>6.165165</td>\n",
              "      <td>11.646788</td>\n",
              "      <td>8.776462</td>\n",
              "      <td>4.648655</td>\n",
              "      <td>6.676692</td>\n",
              "      <td>4.770186</td>\n",
              "      <td>...</td>\n",
              "      <td>10.509871</td>\n",
              "      <td>4.381542</td>\n",
              "      <td>5.757179</td>\n",
              "      <td>11.944607</td>\n",
              "      <td>10.311339</td>\n",
              "      <td>4.451118</td>\n",
              "      <td>6.117379</td>\n",
              "      <td>4.505663</td>\n",
              "      <td>4.413361</td>\n",
              "      <td>4.537626</td>\n",
              "    </tr>\n",
              "    <tr>\n",
              "      <th>4</th>\n",
              "      <td>GSM1823706_252800416894_S01_GE1_107_Sep09_1_3</td>\n",
              "      <td>normal</td>\n",
              "      <td>8.806154</td>\n",
              "      <td>7.555348</td>\n",
              "      <td>6.230969</td>\n",
              "      <td>11.635247</td>\n",
              "      <td>8.911383</td>\n",
              "      <td>4.518054</td>\n",
              "      <td>6.520691</td>\n",
              "      <td>4.540453</td>\n",
              "      <td>...</td>\n",
              "      <td>10.552841</td>\n",
              "      <td>4.386116</td>\n",
              "      <td>6.851058</td>\n",
              "      <td>11.976510</td>\n",
              "      <td>10.904219</td>\n",
              "      <td>4.432566</td>\n",
              "      <td>6.286439</td>\n",
              "      <td>4.540453</td>\n",
              "      <td>4.412933</td>\n",
              "      <td>4.452250</td>\n",
              "    </tr>\n",
              "  </tbody>\n",
              "</table>\n",
              "<p>5 rows × 16384 columns</p>\n",
              "</div>\n",
              "    <div class=\"colab-df-buttons\">\n",
              "\n",
              "  <div class=\"colab-df-container\">\n",
              "    <button class=\"colab-df-convert\" onclick=\"convertToInteractive('df-ac8f3761-377f-4089-9fd6-2668d5640b6b')\"\n",
              "            title=\"Convert this dataframe to an interactive table.\"\n",
              "            style=\"display:none;\">\n",
              "\n",
              "  <svg xmlns=\"http://www.w3.org/2000/svg\" height=\"24px\" viewBox=\"0 -960 960 960\">\n",
              "    <path d=\"M120-120v-720h720v720H120Zm60-500h600v-160H180v160Zm220 220h160v-160H400v160Zm0 220h160v-160H400v160ZM180-400h160v-160H180v160Zm440 0h160v-160H620v160ZM180-180h160v-160H180v160Zm440 0h160v-160H620v160Z\"/>\n",
              "  </svg>\n",
              "    </button>\n",
              "\n",
              "  <style>\n",
              "    .colab-df-container {\n",
              "      display:flex;\n",
              "      gap: 12px;\n",
              "    }\n",
              "\n",
              "    .colab-df-convert {\n",
              "      background-color: #E8F0FE;\n",
              "      border: none;\n",
              "      border-radius: 50%;\n",
              "      cursor: pointer;\n",
              "      display: none;\n",
              "      fill: #1967D2;\n",
              "      height: 32px;\n",
              "      padding: 0 0 0 0;\n",
              "      width: 32px;\n",
              "    }\n",
              "\n",
              "    .colab-df-convert:hover {\n",
              "      background-color: #E2EBFA;\n",
              "      box-shadow: 0px 1px 2px rgba(60, 64, 67, 0.3), 0px 1px 3px 1px rgba(60, 64, 67, 0.15);\n",
              "      fill: #174EA6;\n",
              "    }\n",
              "\n",
              "    .colab-df-buttons div {\n",
              "      margin-bottom: 4px;\n",
              "    }\n",
              "\n",
              "    [theme=dark] .colab-df-convert {\n",
              "      background-color: #3B4455;\n",
              "      fill: #D2E3FC;\n",
              "    }\n",
              "\n",
              "    [theme=dark] .colab-df-convert:hover {\n",
              "      background-color: #434B5C;\n",
              "      box-shadow: 0px 1px 3px 1px rgba(0, 0, 0, 0.15);\n",
              "      filter: drop-shadow(0px 1px 2px rgba(0, 0, 0, 0.3));\n",
              "      fill: #FFFFFF;\n",
              "    }\n",
              "  </style>\n",
              "\n",
              "    <script>\n",
              "      const buttonEl =\n",
              "        document.querySelector('#df-ac8f3761-377f-4089-9fd6-2668d5640b6b button.colab-df-convert');\n",
              "      buttonEl.style.display =\n",
              "        google.colab.kernel.accessAllowed ? 'block' : 'none';\n",
              "\n",
              "      async function convertToInteractive(key) {\n",
              "        const element = document.querySelector('#df-ac8f3761-377f-4089-9fd6-2668d5640b6b');\n",
              "        const dataTable =\n",
              "          await google.colab.kernel.invokeFunction('convertToInteractive',\n",
              "                                                    [key], {});\n",
              "        if (!dataTable) return;\n",
              "\n",
              "        const docLinkHtml = 'Like what you see? Visit the ' +\n",
              "          '<a target=\"_blank\" href=https://colab.research.google.com/notebooks/data_table.ipynb>data table notebook</a>'\n",
              "          + ' to learn more about interactive tables.';\n",
              "        element.innerHTML = '';\n",
              "        dataTable['output_type'] = 'display_data';\n",
              "        await google.colab.output.renderOutput(dataTable, element);\n",
              "        const docLink = document.createElement('div');\n",
              "        docLink.innerHTML = docLinkHtml;\n",
              "        element.appendChild(docLink);\n",
              "      }\n",
              "    </script>\n",
              "  </div>\n",
              "\n",
              "\n",
              "<div id=\"df-cfa424dd-8fe3-4654-8bff-79956ab250cc\">\n",
              "  <button class=\"colab-df-quickchart\" onclick=\"quickchart('df-cfa424dd-8fe3-4654-8bff-79956ab250cc')\"\n",
              "            title=\"Suggest charts\"\n",
              "            style=\"display:none;\">\n",
              "\n",
              "<svg xmlns=\"http://www.w3.org/2000/svg\" height=\"24px\"viewBox=\"0 0 24 24\"\n",
              "     width=\"24px\">\n",
              "    <g>\n",
              "        <path d=\"M19 3H5c-1.1 0-2 .9-2 2v14c0 1.1.9 2 2 2h14c1.1 0 2-.9 2-2V5c0-1.1-.9-2-2-2zM9 17H7v-7h2v7zm4 0h-2V7h2v10zm4 0h-2v-4h2v4z\"/>\n",
              "    </g>\n",
              "</svg>\n",
              "  </button>\n",
              "\n",
              "<style>\n",
              "  .colab-df-quickchart {\n",
              "      --bg-color: #E8F0FE;\n",
              "      --fill-color: #1967D2;\n",
              "      --hover-bg-color: #E2EBFA;\n",
              "      --hover-fill-color: #174EA6;\n",
              "      --disabled-fill-color: #AAA;\n",
              "      --disabled-bg-color: #DDD;\n",
              "  }\n",
              "\n",
              "  [theme=dark] .colab-df-quickchart {\n",
              "      --bg-color: #3B4455;\n",
              "      --fill-color: #D2E3FC;\n",
              "      --hover-bg-color: #434B5C;\n",
              "      --hover-fill-color: #FFFFFF;\n",
              "      --disabled-bg-color: #3B4455;\n",
              "      --disabled-fill-color: #666;\n",
              "  }\n",
              "\n",
              "  .colab-df-quickchart {\n",
              "    background-color: var(--bg-color);\n",
              "    border: none;\n",
              "    border-radius: 50%;\n",
              "    cursor: pointer;\n",
              "    display: none;\n",
              "    fill: var(--fill-color);\n",
              "    height: 32px;\n",
              "    padding: 0;\n",
              "    width: 32px;\n",
              "  }\n",
              "\n",
              "  .colab-df-quickchart:hover {\n",
              "    background-color: var(--hover-bg-color);\n",
              "    box-shadow: 0 1px 2px rgba(60, 64, 67, 0.3), 0 1px 3px 1px rgba(60, 64, 67, 0.15);\n",
              "    fill: var(--button-hover-fill-color);\n",
              "  }\n",
              "\n",
              "  .colab-df-quickchart-complete:disabled,\n",
              "  .colab-df-quickchart-complete:disabled:hover {\n",
              "    background-color: var(--disabled-bg-color);\n",
              "    fill: var(--disabled-fill-color);\n",
              "    box-shadow: none;\n",
              "  }\n",
              "\n",
              "  .colab-df-spinner {\n",
              "    border: 2px solid var(--fill-color);\n",
              "    border-color: transparent;\n",
              "    border-bottom-color: var(--fill-color);\n",
              "    animation:\n",
              "      spin 1s steps(1) infinite;\n",
              "  }\n",
              "\n",
              "  @keyframes spin {\n",
              "    0% {\n",
              "      border-color: transparent;\n",
              "      border-bottom-color: var(--fill-color);\n",
              "      border-left-color: var(--fill-color);\n",
              "    }\n",
              "    20% {\n",
              "      border-color: transparent;\n",
              "      border-left-color: var(--fill-color);\n",
              "      border-top-color: var(--fill-color);\n",
              "    }\n",
              "    30% {\n",
              "      border-color: transparent;\n",
              "      border-left-color: var(--fill-color);\n",
              "      border-top-color: var(--fill-color);\n",
              "      border-right-color: var(--fill-color);\n",
              "    }\n",
              "    40% {\n",
              "      border-color: transparent;\n",
              "      border-right-color: var(--fill-color);\n",
              "      border-top-color: var(--fill-color);\n",
              "    }\n",
              "    60% {\n",
              "      border-color: transparent;\n",
              "      border-right-color: var(--fill-color);\n",
              "    }\n",
              "    80% {\n",
              "      border-color: transparent;\n",
              "      border-right-color: var(--fill-color);\n",
              "      border-bottom-color: var(--fill-color);\n",
              "    }\n",
              "    90% {\n",
              "      border-color: transparent;\n",
              "      border-bottom-color: var(--fill-color);\n",
              "    }\n",
              "  }\n",
              "</style>\n",
              "\n",
              "  <script>\n",
              "    async function quickchart(key) {\n",
              "      const quickchartButtonEl =\n",
              "        document.querySelector('#' + key + ' button');\n",
              "      quickchartButtonEl.disabled = true;  // To prevent multiple clicks.\n",
              "      quickchartButtonEl.classList.add('colab-df-spinner');\n",
              "      try {\n",
              "        const charts = await google.colab.kernel.invokeFunction(\n",
              "            'suggestCharts', [key], {});\n",
              "      } catch (error) {\n",
              "        console.error('Error during call to suggestCharts:', error);\n",
              "      }\n",
              "      quickchartButtonEl.classList.remove('colab-df-spinner');\n",
              "      quickchartButtonEl.classList.add('colab-df-quickchart-complete');\n",
              "    }\n",
              "    (() => {\n",
              "      let quickchartButtonEl =\n",
              "        document.querySelector('#df-cfa424dd-8fe3-4654-8bff-79956ab250cc button');\n",
              "      quickchartButtonEl.style.display =\n",
              "        google.colab.kernel.accessAllowed ? 'block' : 'none';\n",
              "    })();\n",
              "  </script>\n",
              "</div>\n",
              "\n",
              "    </div>\n",
              "  </div>\n"
            ],
            "application/vnd.google.colaboratory.intrinsic+json": {
              "type": "dataframe",
              "variable_name": "df"
            }
          },
          "metadata": {},
          "execution_count": 6
        }
      ]
    },
    {
      "cell_type": "code",
      "source": [
        "df.head()\n",
        "print(f\"Total duplicates: {df.duplicated().sum()}\") #checking for duplicates\n",
        "#checking for null values\n",
        "print(df.isna().sum())\n",
        "print(f\"Total null count: {df.isna().sum().sum()}\")"
      ],
      "metadata": {
        "colab": {
          "base_uri": "https://localhost:8080/"
        },
        "id": "OFlM1EN9KCOE",
        "outputId": "04363375-7733-4256-f0db-5334b0a93eeb"
      },
      "execution_count": 7,
      "outputs": [
        {
          "output_type": "stream",
          "name": "stdout",
          "text": [
            "Total duplicates: 0\n",
            "samples                             0\n",
            "type                                0\n",
            "NM_144987                           0\n",
            "NM_013290                           0\n",
            "ENST00000322831                     0\n",
            "                                   ..\n",
            "NR_003529                           0\n",
            "NR_036446                           0\n",
            "NM_001001957                        0\n",
            "lincRNA:chr7:29652000-29661000_R    0\n",
            "ENST00000494108                     0\n",
            "Length: 16384, dtype: int64\n",
            "Total null count: 0\n"
          ]
        }
      ]
    },
    {
      "cell_type": "code",
      "source": [
        "target = \"type\"\n",
        "val_counts = df[target].value_counts()\n",
        "print(val_counts, \"\\n\\n\")\n"
      ],
      "metadata": {
        "colab": {
          "base_uri": "https://localhost:8080/"
        },
        "id": "1rw21MaLKrEh",
        "outputId": "60f493e8-1579-419e-964e-97efd375feee"
      },
      "execution_count": 8,
      "outputs": [
        {
          "output_type": "stream",
          "name": "stdout",
          "text": [
            "type\n",
            "normal                   146\n",
            "breast_adenocarcinoma    143\n",
            "Name: count, dtype: int64 \n",
            "\n",
            "\n"
          ]
        }
      ]
    },
    {
      "cell_type": "code",
      "source": [
        "plt.subplot(1, 2, 2)\n",
        "plt.pie(val_counts, labels = val_counts.keys(), autopct = \"%.2f%%\")"
      ],
      "metadata": {
        "colab": {
          "base_uri": "https://localhost:8080/",
          "height": 371
        },
        "id": "QYT7AihFLz6k",
        "outputId": "f2f6a2bd-4c37-4e4e-f51c-a426e77bcf89"
      },
      "execution_count": 9,
      "outputs": [
        {
          "output_type": "execute_result",
          "data": {
            "text/plain": [
              "([<matplotlib.patches.Wedge at 0x7e4a9b0fb730>,\n",
              "  <matplotlib.patches.Wedge at 0x7e4a9b1d1b70>],\n",
              " [Text(-0.017935638819470537, 1.0998537688529952, 'normal'),\n",
              "  Text(0.01793563881947016, -1.0998537688529952, 'breast_adenocarcinoma')],\n",
              " [Text(-0.0097830757197112, 0.5999202375561791, '50.52%'),\n",
              "  Text(0.009783075719710994, -0.5999202375561791, '49.48%')])"
            ]
          },
          "metadata": {},
          "execution_count": 9
        },
        {
          "output_type": "display_data",
          "data": {
            "text/plain": [
              "<Figure size 640x480 with 1 Axes>"
            ],
            "image/png": "[encoded data removed]"
          },
          "metadata": {}
        }
      ]
    },
    {
      "cell_type": "code",
      "source": [
        "# Encoding categorical features (Ordinal Encoding)\n",
        "\n",
        "class_map = {\"normal\": 0, \"breast_adenocarcinoma\": 1}\n",
        "class_map_reverse = {m : n for m, n in zip(class_map.values(), class_map.keys())}\n",
        "\n",
        "encoder = category_encoders.OrdinalEncoder(cols = [target], mapping = [{\"col\": target, \"mapping\": class_map}])\n",
        "df['type'] = encoder.fit_transform(df[target])"
      ],
      "metadata": {
        "id": "GUw-4xoYL-XU"
      },
      "execution_count": 10,
      "outputs": []
    },
    {
      "cell_type": "code",
      "source": [
        "X = df.drop(columns=df.columns[0]).values\n",
        "y = df[target].values\n",
        "\n",
        "print(X.shape, y.shape)\n",
        "print(X)\n"
      ],
      "metadata": {
        "colab": {
          "base_uri": "https://localhost:8080/"
        },
        "id": "7wn3Med1OdAT",
        "outputId": "d447ddcc-adea-446c-dfe9-70c224ccc7d0"
      },
      "execution_count": 11,
      "outputs": [
        {
          "output_type": "stream",
          "name": "stdout",
          "text": [
            "(289, 16383) (289,)\n",
            "[[0.         8.69331779 7.71801596 ... 5.81006943 4.83405623 4.38392868]\n",
            " [0.         9.37597965 7.07223164 ... 4.45792972 4.44139474 4.41158681]\n",
            " [0.         8.94344176 7.96457276 ... 4.50807186 4.56826205 4.31608095]\n",
            " ...\n",
            " [1.         9.0513847  7.65189288 ... 4.41435052 4.52880797 4.39442035]\n",
            " [1.         8.11460641 8.09668189 ... 6.15655541 4.38106974 4.44705215]\n",
            " [1.         8.82757478 7.53889842 ... 4.63430652 4.45075149 4.38308807]]\n"
          ]
        }
      ]
    },
    {
      "cell_type": "code",
      "source": [
        "# Splitting the data into testing and training data (Stratified Splitting)\n",
        "#split: 30% test and 70% train\n",
        "X_train, X_test, y_train, y_test = model_selection.train_test_split(X, y, test_size = 0.3, random_state = 42, stratify = y)\n",
        "print(X_train.shape, X_test.shape)\n",
        "X_train"
      ],
      "metadata": {
        "colab": {
          "base_uri": "https://localhost:8080/"
        },
        "id": "OpKuvqbSO3wl",
        "outputId": "eca7b9bf-6ad6-4249-f224-780c37d4f3e2"
      },
      "execution_count": 47,
      "outputs": [
        {
          "output_type": "stream",
          "name": "stdout",
          "text": [
            "(202, 16383) (87, 16383)\n"
          ]
        },
        {
          "output_type": "execute_result",
          "data": {
            "text/plain": [
              "array([[0.        , 9.17559702, 8.01454138, ..., 4.50019441, 4.66437819,\n",
              "        4.59171068],\n",
              "       [0.        , 9.04047607, 7.84442778, ..., 5.57417421, 4.50513455,\n",
              "        4.59957401],\n",
              "       [0.        , 8.92586144, 7.49132906, ..., 4.39877603, 4.62753024,\n",
              "        4.47436347],\n",
              "       ...,\n",
              "       [1.        , 8.32934381, 8.21710839, ..., 4.54886311, 4.50084753,\n",
              "        4.4711697 ],\n",
              "       [1.        , 8.66783834, 8.62899818, ..., 4.37979392, 4.50861855,\n",
              "        4.35412715],\n",
              "       [1.        , 8.74929057, 7.77024871, ..., 4.36613268, 4.48875225,\n",
              "        4.47496393]])"
            ]
          },
          "metadata": {},
          "execution_count": 47
        }
      ]
    },
    {
      "cell_type": "code",
      "source": [
        "# Feature Scaling (Z-Score Normalization)\n",
        "\n",
        "scaler = preprocessing.StandardScaler()\n",
        "X_train_scaled = scaler.fit_transform(X_train)\n",
        "X_test_scaled = scaler.fit_transform(X_test)\n",
        "\n",
        "X_train = X_train_scaled.copy()\n",
        "X_test = X_test_scaled.copy()\n",
        "\n",
        "print(X_train[0].mean(), X_train[0].std())"
      ],
      "metadata": {
        "colab": {
          "base_uri": "https://localhost:8080/"
        },
        "id": "OwPM0fn1m_aN",
        "outputId": "ab2d0d91-afe7-4c2f-a474-7fdda422b92f"
      },
      "execution_count": 48,
      "outputs": [
        {
          "output_type": "stream",
          "name": "stdout",
          "text": [
            "0.09198344346193894 0.7968238583703432\n"
          ]
        }
      ]
    },
    {
      "cell_type": "code",
      "source": [
        "# Checking uniformity of labels across train and test data sets\n",
        "\n",
        "print(f\"Train Set:\\n{pd.Series(y_train).value_counts()}\\n\\n\")\n",
        "print(f\"Test Set:\\n{pd.Series(y_test).value_counts()}\\n\\n\")\n",
        "\n",
        "plt.figure(figsize = (15, 4))\n",
        "\n",
        "plt.subplot(1, 2, 1)\n",
        "sns.histplot(y_train, bins = len(np.unique(y_train)))\n",
        "\n",
        "plt.subplot(1, 2, 2)\n",
        "sns.histplot(y_test, bins = len(np.unique(y_test)))\n",
        "\n",
        "plt.tight_layout()\n",
        "plt.show()"
      ],
      "metadata": {
        "colab": {
          "base_uri": "https://localhost:8080/",
          "height": 626
        },
        "id": "3JyGEaRRRaPq",
        "outputId": "1591072a-e8c7-4535-dc0b-a73d58184aaa"
      },
      "execution_count": 49,
      "outputs": [
        {
          "output_type": "stream",
          "name": "stdout",
          "text": [
            "Train Set:\n",
            "0    102\n",
            "1    100\n",
            "Name: count, dtype: int64\n",
            "\n",
            "\n",
            "Test Set:\n",
            "0    44\n",
            "1    43\n",
            "Name: count, dtype: int64\n",
            "\n",
            "\n"
          ]
        },
        {
          "output_type": "display_data",
          "data": {
            "text/plain": [
              "<Figure size 1500x400 with 2 Axes>"
            ],
            "image/png": "[encoded data removed]"
          },
          "metadata": {}
        }
      ]
    },
    {
      "cell_type": "code",
      "source": [
        "# Handling class imbalance through Synthetic Minority Over-sampling Technique (SMOTE)\n",
        "\n",
        "smote = imblearn.over_sampling.SMOTE(random_state = 3, k_neighbors = 3)\n",
        "\n",
        "X_train_resampled, y_train_resampled = smote.fit_resample(X_train, y_train)\n",
        "\n",
        "print(X_train_resampled.shape, y_train_resampled.shape)"
      ],
      "metadata": {
        "colab": {
          "base_uri": "https://localhost:8080/"
        },
        "id": "4u1VIkvSnGJV",
        "outputId": "4d93db3b-e25c-4bb5-af7b-acb9ba6d1dd6"
      },
      "execution_count": 50,
      "outputs": [
        {
          "output_type": "stream",
          "name": "stdout",
          "text": [
            "(204, 16383) (204,)\n"
          ]
        }
      ]
    },
    {
      "cell_type": "code",
      "source": [
        "X_train, y_train = X_train_resampled.copy(), y_train_resampled.copy()"
      ],
      "metadata": {
        "id": "xjxf0fKPnMNS"
      },
      "execution_count": 51,
      "outputs": []
    },
    {
      "cell_type": "code",
      "source": [
        "# svm algo\n",
        "\n",
        "from sklearn.svm import SVC\n",
        "svm_model = SVC(random_state=42)\n",
        "svm_model.fit(X_train, y_train)"
      ],
      "metadata": {
        "colab": {
          "base_uri": "https://localhost:8080/",
          "height": 74
        },
        "id": "TKe7manpp0Vn",
        "outputId": "4f219295-0b67-4f72-ab20-da790e01f890"
      },
      "execution_count": 67,
      "outputs": [
        {
          "output_type": "execute_result",
          "data": {
            "text/plain": [
              "SVC(random_state=42)"
            ],
            "text/html": [
              "<style>#sk-container-id-6 {color: black;background-color: white;}#sk-container-id-6 pre{padding: 0;}#sk-container-id-6 div.sk-toggleable {background-color: white;}#sk-container-id-6 label.sk-toggleable__label {cursor: pointer;display: block;width: 100%;margin-bottom: 0;padding: 0.3em;box-sizing: border-box;text-align: center;}#sk-container-id-6 label.sk-toggleable__label-arrow:before {content: \"▸\";float: left;margin-right: 0.25em;color: #696969;}#sk-container-id-6 label.sk-toggleable__label-arrow:hover:before {color: black;}#sk-container-id-6 div.sk-estimator:hover label.sk-toggleable__label-arrow:before {color: black;}#sk-container-id-6 div.sk-toggleable__content {max-height: 0;max-width: 0;overflow: hidden;text-align: left;background-color: #f0f8ff;}#sk-container-id-6 div.sk-toggleable__content pre {margin: 0.2em;color: black;border-radius: 0.25em;background-color: #f0f8ff;}#sk-container-id-6 input.sk-toggleable__control:checked~div.sk-toggleable__content {max-height: 200px;max-width: 100%;overflow: auto;}#sk-container-id-6 input.sk-toggleable__control:checked~label.sk-toggleable__label-arrow:before {content: \"▾\";}#sk-container-id-6 div.sk-estimator input.sk-toggleable__control:checked~label.sk-toggleable__label {background-color: #d4ebff;}#sk-container-id-6 div.sk-label input.sk-toggleable__control:checked~label.sk-toggleable__label {background-color: #d4ebff;}#sk-container-id-6 input.sk-hidden--visually {border: 0;clip: rect(1px 1px 1px 1px);clip: rect(1px, 1px, 1px, 1px);height: 1px;margin: -1px;overflow: hidden;padding: 0;position: absolute;width: 1px;}#sk-container-id-6 div.sk-estimator {font-family: monospace;background-color: #f0f8ff;border: 1px dotted black;border-radius: 0.25em;box-sizing: border-box;margin-bottom: 0.5em;}#sk-container-id-6 div.sk-estimator:hover {background-color: #d4ebff;}#sk-container-id-6 div.sk-parallel-item::after {content: \"\";width: 100%;border-bottom: 1px solid gray;flex-grow: 1;}#sk-container-id-6 div.sk-label:hover label.sk-toggleable__label {background-color: #d4ebff;}#sk-container-id-6 div.sk-serial::before {content: \"\";position: absolute;border-left: 1px solid gray;box-sizing: border-box;top: 0;bottom: 0;left: 50%;z-index: 0;}#sk-container-id-6 div.sk-serial {display: flex;flex-direction: column;align-items: center;background-color: white;padding-right: 0.2em;padding-left: 0.2em;position: relative;}#sk-container-id-6 div.sk-item {position: relative;z-index: 1;}#sk-container-id-6 div.sk-parallel {display: flex;align-items: stretch;justify-content: center;background-color: white;position: relative;}#sk-container-id-6 div.sk-item::before, #sk-container-id-6 div.sk-parallel-item::before {content: \"\";position: absolute;border-left: 1px solid gray;box-sizing: border-box;top: 0;bottom: 0;left: 50%;z-index: -1;}#sk-container-id-6 div.sk-parallel-item {display: flex;flex-direction: column;z-index: 1;position: relative;background-color: white;}#sk-container-id-6 div.sk-parallel-item:first-child::after {align-self: flex-end;width: 50%;}#sk-container-id-6 div.sk-parallel-item:last-child::after {align-self: flex-start;width: 50%;}#sk-container-id-6 div.sk-parallel-item:only-child::after {width: 0;}#sk-container-id-6 div.sk-dashed-wrapped {border: 1px dashed gray;margin: 0 0.4em 0.5em 0.4em;box-sizing: border-box;padding-bottom: 0.4em;background-color: white;}#sk-container-id-6 div.sk-label label {font-family: monospace;font-weight: bold;display: inline-block;line-height: 1.2em;}#sk-container-id-6 div.sk-label-container {text-align: center;}#sk-container-id-6 div.sk-container {/* jupyter's `normalize.less` sets `[hidden] { display: none; }` but bootstrap.min.css set `[hidden] { display: none !important; }` so we also need the `!important` here to be able to override the default hidden behavior on the sphinx rendered scikit-learn.org. See: https://github.com/scikit-learn/scikit-learn/issues/21755 */display: inline-block !important;position: relative;}#sk-container-id-6 div.sk-text-repr-fallback {display: none;}</style><div id=\"sk-container-id-6\" class=\"sk-top-container\"><div class=\"sk-text-repr-fallback\"><pre>SVC(random_state=42)</pre><b>In a Jupyter environment, please rerun this cell to show the HTML representation or trust the notebook. <br />On GitHub, the HTML representation is unable to render, please try loading this page with nbviewer.org.</b></div><div class=\"sk-container\" hidden><div class=\"sk-item\"><div class=\"sk-estimator sk-toggleable\"><input class=\"sk-toggleable__control sk-hidden--visually\" id=\"sk-estimator-id-8\" type=\"checkbox\" checked><label for=\"sk-estimator-id-8\" class=\"sk-toggleable__label sk-toggleable__label-arrow\">SVC</label><div class=\"sk-toggleable__content\"><pre>SVC(random_state=42)</pre></div></div></div></div></div>"
            ]
          },
          "metadata": {},
          "execution_count": 67
        }
      ]
    },
    {
      "cell_type": "code",
      "source": [
        "\n",
        "print(svm_model.score(X_train, y_train))\n",
        "print(svm_model.score(X_test, y_test))"
      ],
      "metadata": {
        "colab": {
          "base_uri": "https://localhost:8080/"
        },
        "id": "-wn_T5WaqKSt",
        "outputId": "1c855552-bf1c-4d5a-f6ac-e846023817fd"
      },
      "execution_count": 68,
      "outputs": [
        {
          "output_type": "stream",
          "name": "stdout",
          "text": [
            "0.9607843137254902\n",
            "0.9195402298850575\n"
          ]
        }
      ]
    },
    {
      "cell_type": "code",
      "source": [
        "y_train_pred = svm_model.predict(X_train)\n",
        "y_test_pred = svm_model.predict(X_test)\n",
        "\n",
        "# Evaluation on training data\n",
        "train_accuracy = accuracy_score(y_train, y_train_pred)\n",
        "train_f1 = f1_score(y_train, y_train_pred)\n",
        "print(f\"Training Accuracy of SVM model: {train_accuracy:.2f}\")\n",
        "print(f\"Training F1 score of SVM model: {train_f1:.2f}\")\n",
        "\n",
        "# Evaluation on testing data\n",
        "test_accuracy = accuracy_score(y_test, y_test_pred)\n",
        "test_f1 = f1_score(y_test, y_test_pred)\n",
        "print(f\"Testing Accuracy of SVM model: {test_accuracy:.2f}\")\n",
        "print(f\"Testing F1 score of SVM model: {test_f1:.2f}\")\n",
        "\n",
        "# Confusion matrix for training data\n",
        "train_cm = confusion_matrix(y_train, y_train_pred)\n",
        "ConfusionMatrixDisplay(train_cm, display_labels=svm_model.classes_).plot()\n",
        "plt.title('Confusion Matrix for Training Data')\n",
        "plt.show()\n",
        "\n",
        "# Confusion matrix for testing data\n",
        "test_cm = confusion_matrix(y_test, y_test_pred)\n",
        "ConfusionMatrixDisplay(test_cm, display_labels=svm_model.classes_).plot()\n",
        "plt.title('Confusion Matrix for Testing Data')\n",
        "plt.show()"
      ],
      "metadata": {
        "colab": {
          "base_uri": "https://localhost:8080/",
          "height": 1000
        },
        "id": "FmMsXQxDqb7R",
        "outputId": "fcc06000-7535-44c3-fe10-084b3190287f"
      },
      "execution_count": 69,
      "outputs": [
        {
          "output_type": "stream",
          "name": "stdout",
          "text": [
            "Training Accuracy of SVM model: 0.96\n",
            "Training F1 score of SVM model: 0.96\n",
            "Testing Accuracy of SVM model: 0.92\n",
            "Testing F1 score of SVM model: 0.91\n"
          ]
        },
        {
          "output_type": "display_data",
          "data": {
            "text/plain": [
              "<Figure size 640x480 with 2 Axes>"
            ],
            "image/png": "[encoded data removed]"
          },
          "metadata": {}
        },
        {
          "output_type": "display_data",
          "data": {
            "text/plain": [
              "<Figure size 640x480 with 2 Axes>"
            ],
            "image/png": "[encoded data removed]"
          },
          "metadata": {}
        }
      ]
    },
    {
      "cell_type": "code",
      "source": [
        "# knn algo\n",
        "\n",
        "import matplotlib.pyplot as plt\n",
        "from sklearn.neighbors import KNeighborsClassifier\n",
        "from sklearn.metrics import accuracy_score, f1_score, confusion_matrix, ConfusionMatrixDisplay\n",
        "\n",
        "\n",
        "k = 3 #Number of neighbors\n",
        "knn_model = KNeighborsClassifier(n_neighbors=k)\n",
        "\n",
        "knn_model.fit(X_train, y_train)\n",
        "y_train_pred = knn_model.predict(X_train) #training set\n",
        "y_test_pred = knn_model.predict(X_test)#testing set\n",
        "\n",
        "#Evaluating model performance on training data\n",
        "train_accuracy = accuracy_score(y_train, y_train_pred)\n",
        "train_f1 = f1_score(y_train, y_train_pred)\n",
        "print(f\"Training Accuracy of KNN model: {train_accuracy:.2f}\")\n",
        "print(f\"Training F1 score of KNN model: {train_f1:.2f}\")\n",
        "\n",
        "#Evaluating model performance on testing data\n",
        "test_accuracy = accuracy_score(y_test, y_test_pred)\n",
        "test_f1 = f1_score(y_test, y_test_pred)\n",
        "print(f\"Testing Accuracy of KNN model: {test_accuracy:.2f}\")\n",
        "print(f\"Testing F1 score of KNN model: {test_f1:.2f}\")\n",
        "\n",
        "#confusion matrix for training data\n",
        "train_cm = confusion_matrix(y_train, y_train_pred)\n",
        "ConfusionMatrixDisplay(train_cm, display_labels=knn_model.classes_).plot()\n",
        "plt.title('Confusion Matrix for Training Data')\n",
        "plt.show()\n",
        "\n",
        "#confusion matrix for testing data\n",
        "test_cm = confusion_matrix(y_test, y_test_pred)\n",
        "ConfusionMatrixDisplay(test_cm, display_labels=knn_model.classes_).plot()\n",
        "\n",
        "plt.title('Confusion Matrix for Testing Data')\n",
        "plt.show()\n",
        "'''\n",
        "80-20 split\n",
        "Training Accuracy of KNN model: 0.91\n",
        "Training F1 score of KNN model: 0.90\n",
        "Testing Accuracy of KNN model: 0.88\n",
        "Testing F1 score of KNN model: 0.87\n",
        "'''"
      ],
      "metadata": {
        "colab": {
          "base_uri": "https://localhost:8080/",
          "height": 1000
        },
        "id": "BCUvrCicdgG9",
        "outputId": "dd1ee7a8-5f3d-4ff7-a5ca-d88e2c297f23"
      },
      "execution_count": 42,
      "outputs": [
        {
          "output_type": "stream",
          "name": "stdout",
          "text": [
            "Training Accuracy of KNN model: 0.89\n",
            "Training F1 score of KNN model: 0.88\n",
            "Testing Accuracy of KNN model: 0.80\n",
            "Testing F1 score of KNN model: 0.78\n"
          ]
        },
        {
          "output_type": "display_data",
          "data": {
            "text/plain": [
              "<Figure size 640x480 with 2 Axes>"
            ],
            "image/png": "[encoded data removed]"
          },
          "metadata": {}
        },
        {
          "output_type": "display_data",
          "data": {
            "text/plain": [
              "<Figure size 640x480 with 2 Axes>"
            ],
            "image/png": "[encoded data removed]"
          },
          "metadata": {}
        },
        {
          "output_type": "execute_result",
          "data": {
            "text/plain": [
              "'\\n80-20 split\\nTraining Accuracy of KNN model: 0.91\\nTraining F1 score of KNN model: 0.90\\nTesting Accuracy of KNN model: 0.88\\nTesting F1 score of KNN model: 0.87\\n'"
            ],
            "application/vnd.google.colaboratory.intrinsic+json": {
              "type": "string"
            }
          },
          "metadata": {},
          "execution_count": 42
        }
      ]
    },
    {
      "cell_type": "code",
      "source": [],
      "metadata": {
        "id": "c32fw1TwfZdZ"
      },
      "execution_count": null,
      "outputs": []
    }
  ]
}