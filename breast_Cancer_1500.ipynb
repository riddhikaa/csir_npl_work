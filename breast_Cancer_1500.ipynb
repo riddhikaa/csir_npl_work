{
  "nbformat": 4,
  "nbformat_minor": 0,
  "metadata": {
    "colab": {
      "provenance": [],
      "mount_file_id": "1cWcG-5OvU8phtFuf50Ge6j9QTnLJJeuF",
      "authorship_tag": "ABX9TyOnLU/UWQU95ix52ApWPx89",
      "include_colab_link": true
    },
    "kernelspec": {
      "name": "python3",
      "display_name": "Python 3"
    },
    "language_info": {
      "name": "python"
    }
  },
  "cells": [
    {
      "cell_type": "markdown",
      "metadata": {
        "id": "view-in-github",
        "colab_type": "text"
      },
      "source": [
        "<a href=\"https://colab.research.google.com/github/riddhikaa/csir_npl_work/blob/main/breast_Cancer_1500.ipynb\" target=\"_parent\"><img src=\"https://colab.research.google.com/assets/colab-badge.svg\" alt=\"Open In Colab\"/></a>"
      ]
    },
    {
      "cell_type": "code",
      "execution_count": 79,
      "metadata": {
        "colab": {
          "base_uri": "https://localhost:8080/"
        },
        "id": "uNhtZgBq4arN",
        "outputId": "d01b1aa1-9537-4bbb-bbd4-a7db8a39a039"
      },
      "outputs": [
        {
          "output_type": "stream",
          "name": "stdout",
          "text": [
            "Requirement already satisfied: category_encoders==2.6.0 in /usr/local/lib/python3.10/dist-packages (2.6.0)\n",
            "Requirement already satisfied: numpy>=1.14.0 in /usr/local/lib/python3.10/dist-packages (from category_encoders==2.6.0) (1.25.2)\n",
            "Requirement already satisfied: scikit-learn>=0.20.0 in /usr/local/lib/python3.10/dist-packages (from category_encoders==2.6.0) (1.2.2)\n",
            "Requirement already satisfied: scipy>=1.0.0 in /usr/local/lib/python3.10/dist-packages (from category_encoders==2.6.0) (1.11.4)\n",
            "Requirement already satisfied: statsmodels>=0.9.0 in /usr/local/lib/python3.10/dist-packages (from category_encoders==2.6.0) (0.14.2)\n",
            "Requirement already satisfied: pandas>=1.0.5 in /usr/local/lib/python3.10/dist-packages (from category_encoders==2.6.0) (2.0.3)\n",
            "Requirement already satisfied: patsy>=0.5.1 in /usr/local/lib/python3.10/dist-packages (from category_encoders==2.6.0) (0.5.6)\n",
            "Requirement already satisfied: python-dateutil>=2.8.2 in /usr/local/lib/python3.10/dist-packages (from pandas>=1.0.5->category_encoders==2.6.0) (2.8.2)\n",
            "Requirement already satisfied: pytz>=2020.1 in /usr/local/lib/python3.10/dist-packages (from pandas>=1.0.5->category_encoders==2.6.0) (2023.4)\n",
            "Requirement already satisfied: tzdata>=2022.1 in /usr/local/lib/python3.10/dist-packages (from pandas>=1.0.5->category_encoders==2.6.0) (2024.1)\n",
            "Requirement already satisfied: six in /usr/local/lib/python3.10/dist-packages (from patsy>=0.5.1->category_encoders==2.6.0) (1.16.0)\n",
            "Requirement already satisfied: joblib>=1.1.1 in /usr/local/lib/python3.10/dist-packages (from scikit-learn>=0.20.0->category_encoders==2.6.0) (1.4.0)\n",
            "Requirement already satisfied: threadpoolctl>=2.0.0 in /usr/local/lib/python3.10/dist-packages (from scikit-learn>=0.20.0->category_encoders==2.6.0) (3.5.0)\n",
            "Requirement already satisfied: packaging>=21.3 in /usr/local/lib/python3.10/dist-packages (from statsmodels>=0.9.0->category_encoders==2.6.0) (24.0)\n"
          ]
        }
      ],
      "source": [
        "!pip install category_encoders==2.6.0\n",
        "import warnings\n",
        "import numpy as np\n",
        "import pandas as pd\n",
        "import matplotlib.pyplot as plt\n",
        "import seaborn as sns\n",
        "from sklearn import linear_model, svm, model_selection, tree, ensemble, neighbors, preprocessing, base, metrics\n",
        "import category_encoders\n",
        "import imblearn"
      ]
    },
    {
      "cell_type": "code",
      "source": [
        "warnings.filterwarnings(\"ignore\")"
      ],
      "metadata": {
        "id": "-MokzMr14mqk"
      },
      "execution_count": 80,
      "outputs": []
    },
    {
      "cell_type": "code",
      "source": [
        "file_path = '/content/drive/MyDrive/breastcancer_data/original_Breast_GSE70947.xlsx'\n",
        "df = pd.read_excel(file_path)"
      ],
      "metadata": {
        "id": "-HpU-TRfC4oX"
      },
      "execution_count": 81,
      "outputs": []
    },
    {
      "cell_type": "code",
      "source": [
        "print(df.shape)"
      ],
      "metadata": {
        "colab": {
          "base_uri": "https://localhost:8080/"
        },
        "id": "i8Y2Z9guD98X",
        "outputId": "9b98f93b-2a76-4487-901e-0dccbf4d72f9"
      },
      "execution_count": 82,
      "outputs": [
        {
          "output_type": "stream",
          "name": "stdout",
          "text": [
            "(289, 16384)\n"
          ]
        }
      ]
    },
    {
      "cell_type": "code",
      "source": [
        "#selecting only 1000 features out of 16384\n",
        "selected_columns = df.columns[:1500]\n",
        "df_selected = df[selected_columns]\n",
        "df_selected.head()"
      ],
      "metadata": {
        "colab": {
          "base_uri": "https://localhost:8080/",
          "height": 273
        },
        "id": "nGz6GoPzEOle",
        "outputId": "026bc771-1398-4992-f064-1cef71028c7f"
      },
      "execution_count": 83,
      "outputs": [
        {
          "output_type": "execute_result",
          "data": {
            "text/plain": [
              "                                         samples    type  NM_144987  \\\n",
              "0  GSM1823702_252800417016_S01_GE1_107_Sep09_1_2  normal   8.693318   \n",
              "1  GSM1823703_252800417016_S01_GE1_107_Sep09_2_1  normal   9.375980   \n",
              "2  GSM1823704_252800416877_S01_GE1_107_Sep09_2_3  normal   8.943442   \n",
              "3  GSM1823705_252800416894_S01_GE1_107_Sep09_1_1  normal   9.020798   \n",
              "4  GSM1823706_252800416894_S01_GE1_107_Sep09_1_3  normal   8.806154   \n",
              "\n",
              "   NM_013290  ENST00000322831  NM_001625  lincRNA:chr7:226042-232442_R  \\\n",
              "0   7.718016         6.044438  10.747077                      9.133777   \n",
              "1   7.072232         6.976741  10.429671                      9.526500   \n",
              "2   7.964573         6.269055  10.825025                      9.396855   \n",
              "3   7.824639         6.165165  11.646788                      8.776462   \n",
              "4   7.555348         6.230969  11.635247                      8.911383   \n",
              "\n",
              "   NM_032391  ENST00000238571  XR_108906  ...  NM_018243  \\\n",
              "0   4.735581         5.634732   4.670231  ...  12.712699   \n",
              "1   5.221089         5.425187   4.860931  ...  11.916140   \n",
              "2   5.258506         5.824921   4.964604  ...  13.014613   \n",
              "3   4.648655         6.676692   4.770186  ...  13.375885   \n",
              "4   4.518054         6.520691   4.540453  ...  12.211735   \n",
              "\n",
              "   lincRNA:chr11:88014877-88020577_R  A_33_P3387911  NM_001039690  NM_032600  \\\n",
              "0                           5.090500       4.629096      9.949241   4.610070   \n",
              "1                           4.476987       4.411587      9.833155   5.500071   \n",
              "2                           4.553611       4.463017     10.161488   4.677791   \n",
              "3                           4.464029       4.425219      9.850016   4.451118   \n",
              "4                           4.812299       4.362715      9.494137   4.472849   \n",
              "\n",
              "   NM_145027  A_33_P3383531  NM_020320  NM_005765  NM_012189  \n",
              "0   5.546402       4.690565  12.477809  11.774110   6.480444  \n",
              "1   5.884042       5.221089  12.351534  12.805733   5.939156  \n",
              "2   5.400286       4.801737  12.731217  11.524477   6.606328  \n",
              "3   5.662184       4.505663  12.447830  11.710790   6.891677  \n",
              "4   4.993831       4.727091  12.200980  11.383454   7.533667  \n",
              "\n",
              "[5 rows x 1500 columns]"
            ],
            "text/html": [
              "\n",
              "  <div id=\"df-909b6a49-8093-4831-92a4-25b57f9394a3\" class=\"colab-df-container\">\n",
              "    <div>\n",
              "<style scoped>\n",
              "    .dataframe tbody tr th:only-of-type {\n",
              "        vertical-align: middle;\n",
              "    }\n",
              "\n",
              "    .dataframe tbody tr th {\n",
              "        vertical-align: top;\n",
              "    }\n",
              "\n",
              "    .dataframe thead th {\n",
              "        text-align: right;\n",
              "    }\n",
              "</style>\n",
              "<table border=\"1\" class=\"dataframe\">\n",
              "  <thead>\n",
              "    <tr style=\"text-align: right;\">\n",
              "      <th></th>\n",
              "      <th>samples</th>\n",
              "      <th>type</th>\n",
              "      <th>NM_144987</th>\n",
              "      <th>NM_013290</th>\n",
              "      <th>ENST00000322831</th>\n",
              "      <th>NM_001625</th>\n",
              "      <th>lincRNA:chr7:226042-232442_R</th>\n",
              "      <th>NM_032391</th>\n",
              "      <th>ENST00000238571</th>\n",
              "      <th>XR_108906</th>\n",
              "      <th>...</th>\n",
              "      <th>NM_018243</th>\n",
              "      <th>lincRNA:chr11:88014877-88020577_R</th>\n",
              "      <th>A_33_P3387911</th>\n",
              "      <th>NM_001039690</th>\n",
              "      <th>NM_032600</th>\n",
              "      <th>NM_145027</th>\n",
              "      <th>A_33_P3383531</th>\n",
              "      <th>NM_020320</th>\n",
              "      <th>NM_005765</th>\n",
              "      <th>NM_012189</th>\n",
              "    </tr>\n",
              "  </thead>\n",
              "  <tbody>\n",
              "    <tr>\n",
              "      <th>0</th>\n",
              "      <td>GSM1823702_252800417016_S01_GE1_107_Sep09_1_2</td>\n",
              "      <td>normal</td>\n",
              "      <td>8.693318</td>\n",
              "      <td>7.718016</td>\n",
              "      <td>6.044438</td>\n",
              "      <td>10.747077</td>\n",
              "      <td>9.133777</td>\n",
              "      <td>4.735581</td>\n",
              "      <td>5.634732</td>\n",
              "      <td>4.670231</td>\n",
              "      <td>...</td>\n",
              "      <td>12.712699</td>\n",
              "      <td>5.090500</td>\n",
              "      <td>4.629096</td>\n",
              "      <td>9.949241</td>\n",
              "      <td>4.610070</td>\n",
              "      <td>5.546402</td>\n",
              "      <td>4.690565</td>\n",
              "      <td>12.477809</td>\n",
              "      <td>11.774110</td>\n",
              "      <td>6.480444</td>\n",
              "    </tr>\n",
              "    <tr>\n",
              "      <th>1</th>\n",
              "      <td>GSM1823703_252800417016_S01_GE1_107_Sep09_2_1</td>\n",
              "      <td>normal</td>\n",
              "      <td>9.375980</td>\n",
              "      <td>7.072232</td>\n",
              "      <td>6.976741</td>\n",
              "      <td>10.429671</td>\n",
              "      <td>9.526500</td>\n",
              "      <td>5.221089</td>\n",
              "      <td>5.425187</td>\n",
              "      <td>4.860931</td>\n",
              "      <td>...</td>\n",
              "      <td>11.916140</td>\n",
              "      <td>4.476987</td>\n",
              "      <td>4.411587</td>\n",
              "      <td>9.833155</td>\n",
              "      <td>5.500071</td>\n",
              "      <td>5.884042</td>\n",
              "      <td>5.221089</td>\n",
              "      <td>12.351534</td>\n",
              "      <td>12.805733</td>\n",
              "      <td>5.939156</td>\n",
              "    </tr>\n",
              "    <tr>\n",
              "      <th>2</th>\n",
              "      <td>GSM1823704_252800416877_S01_GE1_107_Sep09_2_3</td>\n",
              "      <td>normal</td>\n",
              "      <td>8.943442</td>\n",
              "      <td>7.964573</td>\n",
              "      <td>6.269055</td>\n",
              "      <td>10.825025</td>\n",
              "      <td>9.396855</td>\n",
              "      <td>5.258506</td>\n",
              "      <td>5.824921</td>\n",
              "      <td>4.964604</td>\n",
              "      <td>...</td>\n",
              "      <td>13.014613</td>\n",
              "      <td>4.553611</td>\n",
              "      <td>4.463017</td>\n",
              "      <td>10.161488</td>\n",
              "      <td>4.677791</td>\n",
              "      <td>5.400286</td>\n",
              "      <td>4.801737</td>\n",
              "      <td>12.731217</td>\n",
              "      <td>11.524477</td>\n",
              "      <td>6.606328</td>\n",
              "    </tr>\n",
              "    <tr>\n",
              "      <th>3</th>\n",
              "      <td>GSM1823705_252800416894_S01_GE1_107_Sep09_1_1</td>\n",
              "      <td>normal</td>\n",
              "      <td>9.020798</td>\n",
              "      <td>7.824639</td>\n",
              "      <td>6.165165</td>\n",
              "      <td>11.646788</td>\n",
              "      <td>8.776462</td>\n",
              "      <td>4.648655</td>\n",
              "      <td>6.676692</td>\n",
              "      <td>4.770186</td>\n",
              "      <td>...</td>\n",
              "      <td>13.375885</td>\n",
              "      <td>4.464029</td>\n",
              "      <td>4.425219</td>\n",
              "      <td>9.850016</td>\n",
              "      <td>4.451118</td>\n",
              "      <td>5.662184</td>\n",
              "      <td>4.505663</td>\n",
              "      <td>12.447830</td>\n",
              "      <td>11.710790</td>\n",
              "      <td>6.891677</td>\n",
              "    </tr>\n",
              "    <tr>\n",
              "      <th>4</th>\n",
              "      <td>GSM1823706_252800416894_S01_GE1_107_Sep09_1_3</td>\n",
              "      <td>normal</td>\n",
              "      <td>8.806154</td>\n",
              "      <td>7.555348</td>\n",
              "      <td>6.230969</td>\n",
              "      <td>11.635247</td>\n",
              "      <td>8.911383</td>\n",
              "      <td>4.518054</td>\n",
              "      <td>6.520691</td>\n",
              "      <td>4.540453</td>\n",
              "      <td>...</td>\n",
              "      <td>12.211735</td>\n",
              "      <td>4.812299</td>\n",
              "      <td>4.362715</td>\n",
              "      <td>9.494137</td>\n",
              "      <td>4.472849</td>\n",
              "      <td>4.993831</td>\n",
              "      <td>4.727091</td>\n",
              "      <td>12.200980</td>\n",
              "      <td>11.383454</td>\n",
              "      <td>7.533667</td>\n",
              "    </tr>\n",
              "  </tbody>\n",
              "</table>\n",
              "<p>5 rows × 1500 columns</p>\n",
              "</div>\n",
              "    <div class=\"colab-df-buttons\">\n",
              "\n",
              "  <div class=\"colab-df-container\">\n",
              "    <button class=\"colab-df-convert\" onclick=\"convertToInteractive('df-909b6a49-8093-4831-92a4-25b57f9394a3')\"\n",
              "            title=\"Convert this dataframe to an interactive table.\"\n",
              "            style=\"display:none;\">\n",
              "\n",
              "  <svg xmlns=\"http://www.w3.org/2000/svg\" height=\"24px\" viewBox=\"0 -960 960 960\">\n",
              "    <path d=\"M120-120v-720h720v720H120Zm60-500h600v-160H180v160Zm220 220h160v-160H400v160Zm0 220h160v-160H400v160ZM180-400h160v-160H180v160Zm440 0h160v-160H620v160ZM180-180h160v-160H180v160Zm440 0h160v-160H620v160Z\"/>\n",
              "  </svg>\n",
              "    </button>\n",
              "\n",
              "  <style>\n",
              "    .colab-df-container {\n",
              "      display:flex;\n",
              "      gap: 12px;\n",
              "    }\n",
              "\n",
              "    .colab-df-convert {\n",
              "      background-color: #E8F0FE;\n",
              "      border: none;\n",
              "      border-radius: 50%;\n",
              "      cursor: pointer;\n",
              "      display: none;\n",
              "      fill: #1967D2;\n",
              "      height: 32px;\n",
              "      padding: 0 0 0 0;\n",
              "      width: 32px;\n",
              "    }\n",
              "\n",
              "    .colab-df-convert:hover {\n",
              "      background-color: #E2EBFA;\n",
              "      box-shadow: 0px 1px 2px rgba(60, 64, 67, 0.3), 0px 1px 3px 1px rgba(60, 64, 67, 0.15);\n",
              "      fill: #174EA6;\n",
              "    }\n",
              "\n",
              "    .colab-df-buttons div {\n",
              "      margin-bottom: 4px;\n",
              "    }\n",
              "\n",
              "    [theme=dark] .colab-df-convert {\n",
              "      background-color: #3B4455;\n",
              "      fill: #D2E3FC;\n",
              "    }\n",
              "\n",
              "    [theme=dark] .colab-df-convert:hover {\n",
              "      background-color: #434B5C;\n",
              "      box-shadow: 0px 1px 3px 1px rgba(0, 0, 0, 0.15);\n",
              "      filter: drop-shadow(0px 1px 2px rgba(0, 0, 0, 0.3));\n",
              "      fill: #FFFFFF;\n",
              "    }\n",
              "  </style>\n",
              "\n",
              "    <script>\n",
              "      const buttonEl =\n",
              "        document.querySelector('#df-909b6a49-8093-4831-92a4-25b57f9394a3 button.colab-df-convert');\n",
              "      buttonEl.style.display =\n",
              "        google.colab.kernel.accessAllowed ? 'block' : 'none';\n",
              "\n",
              "      async function convertToInteractive(key) {\n",
              "        const element = document.querySelector('#df-909b6a49-8093-4831-92a4-25b57f9394a3');\n",
              "        const dataTable =\n",
              "          await google.colab.kernel.invokeFunction('convertToInteractive',\n",
              "                                                    [key], {});\n",
              "        if (!dataTable) return;\n",
              "\n",
              "        const docLinkHtml = 'Like what you see? Visit the ' +\n",
              "          '<a target=\"_blank\" href=https://colab.research.google.com/notebooks/data_table.ipynb>data table notebook</a>'\n",
              "          + ' to learn more about interactive tables.';\n",
              "        element.innerHTML = '';\n",
              "        dataTable['output_type'] = 'display_data';\n",
              "        await google.colab.output.renderOutput(dataTable, element);\n",
              "        const docLink = document.createElement('div');\n",
              "        docLink.innerHTML = docLinkHtml;\n",
              "        element.appendChild(docLink);\n",
              "      }\n",
              "    </script>\n",
              "  </div>\n",
              "\n",
              "\n",
              "<div id=\"df-ac6b5ebf-047b-41c0-b190-f136bec6fccf\">\n",
              "  <button class=\"colab-df-quickchart\" onclick=\"quickchart('df-ac6b5ebf-047b-41c0-b190-f136bec6fccf')\"\n",
              "            title=\"Suggest charts\"\n",
              "            style=\"display:none;\">\n",
              "\n",
              "<svg xmlns=\"http://www.w3.org/2000/svg\" height=\"24px\"viewBox=\"0 0 24 24\"\n",
              "     width=\"24px\">\n",
              "    <g>\n",
              "        <path d=\"M19 3H5c-1.1 0-2 .9-2 2v14c0 1.1.9 2 2 2h14c1.1 0 2-.9 2-2V5c0-1.1-.9-2-2-2zM9 17H7v-7h2v7zm4 0h-2V7h2v10zm4 0h-2v-4h2v4z\"/>\n",
              "    </g>\n",
              "</svg>\n",
              "  </button>\n",
              "\n",
              "<style>\n",
              "  .colab-df-quickchart {\n",
              "      --bg-color: #E8F0FE;\n",
              "      --fill-color: #1967D2;\n",
              "      --hover-bg-color: #E2EBFA;\n",
              "      --hover-fill-color: #174EA6;\n",
              "      --disabled-fill-color: #AAA;\n",
              "      --disabled-bg-color: #DDD;\n",
              "  }\n",
              "\n",
              "  [theme=dark] .colab-df-quickchart {\n",
              "      --bg-color: #3B4455;\n",
              "      --fill-color: #D2E3FC;\n",
              "      --hover-bg-color: #434B5C;\n",
              "      --hover-fill-color: #FFFFFF;\n",
              "      --disabled-bg-color: #3B4455;\n",
              "      --disabled-fill-color: #666;\n",
              "  }\n",
              "\n",
              "  .colab-df-quickchart {\n",
              "    background-color: var(--bg-color);\n",
              "    border: none;\n",
              "    border-radius: 50%;\n",
              "    cursor: pointer;\n",
              "    display: none;\n",
              "    fill: var(--fill-color);\n",
              "    height: 32px;\n",
              "    padding: 0;\n",
              "    width: 32px;\n",
              "  }\n",
              "\n",
              "  .colab-df-quickchart:hover {\n",
              "    background-color: var(--hover-bg-color);\n",
              "    box-shadow: 0 1px 2px rgba(60, 64, 67, 0.3), 0 1px 3px 1px rgba(60, 64, 67, 0.15);\n",
              "    fill: var(--button-hover-fill-color);\n",
              "  }\n",
              "\n",
              "  .colab-df-quickchart-complete:disabled,\n",
              "  .colab-df-quickchart-complete:disabled:hover {\n",
              "    background-color: var(--disabled-bg-color);\n",
              "    fill: var(--disabled-fill-color);\n",
              "    box-shadow: none;\n",
              "  }\n",
              "\n",
              "  .colab-df-spinner {\n",
              "    border: 2px solid var(--fill-color);\n",
              "    border-color: transparent;\n",
              "    border-bottom-color: var(--fill-color);\n",
              "    animation:\n",
              "      spin 1s steps(1) infinite;\n",
              "  }\n",
              "\n",
              "  @keyframes spin {\n",
              "    0% {\n",
              "      border-color: transparent;\n",
              "      border-bottom-color: var(--fill-color);\n",
              "      border-left-color: var(--fill-color);\n",
              "    }\n",
              "    20% {\n",
              "      border-color: transparent;\n",
              "      border-left-color: var(--fill-color);\n",
              "      border-top-color: var(--fill-color);\n",
              "    }\n",
              "    30% {\n",
              "      border-color: transparent;\n",
              "      border-left-color: var(--fill-color);\n",
              "      border-top-color: var(--fill-color);\n",
              "      border-right-color: var(--fill-color);\n",
              "    }\n",
              "    40% {\n",
              "      border-color: transparent;\n",
              "      border-right-color: var(--fill-color);\n",
              "      border-top-color: var(--fill-color);\n",
              "    }\n",
              "    60% {\n",
              "      border-color: transparent;\n",
              "      border-right-color: var(--fill-color);\n",
              "    }\n",
              "    80% {\n",
              "      border-color: transparent;\n",
              "      border-right-color: var(--fill-color);\n",
              "      border-bottom-color: var(--fill-color);\n",
              "    }\n",
              "    90% {\n",
              "      border-color: transparent;\n",
              "      border-bottom-color: var(--fill-color);\n",
              "    }\n",
              "  }\n",
              "</style>\n",
              "\n",
              "  <script>\n",
              "    async function quickchart(key) {\n",
              "      const quickchartButtonEl =\n",
              "        document.querySelector('#' + key + ' button');\n",
              "      quickchartButtonEl.disabled = true;  // To prevent multiple clicks.\n",
              "      quickchartButtonEl.classList.add('colab-df-spinner');\n",
              "      try {\n",
              "        const charts = await google.colab.kernel.invokeFunction(\n",
              "            'suggestCharts', [key], {});\n",
              "      } catch (error) {\n",
              "        console.error('Error during call to suggestCharts:', error);\n",
              "      }\n",
              "      quickchartButtonEl.classList.remove('colab-df-spinner');\n",
              "      quickchartButtonEl.classList.add('colab-df-quickchart-complete');\n",
              "    }\n",
              "    (() => {\n",
              "      let quickchartButtonEl =\n",
              "        document.querySelector('#df-ac6b5ebf-047b-41c0-b190-f136bec6fccf button');\n",
              "      quickchartButtonEl.style.display =\n",
              "        google.colab.kernel.accessAllowed ? 'block' : 'none';\n",
              "    })();\n",
              "  </script>\n",
              "</div>\n",
              "\n",
              "    </div>\n",
              "  </div>\n"
            ],
            "application/vnd.google.colaboratory.intrinsic+json": {
              "type": "dataframe",
              "variable_name": "df_selected"
            }
          },
          "metadata": {},
          "execution_count": 83
        }
      ]
    },
    {
      "cell_type": "code",
      "source": [
        "df.head()\n",
        "print(f\"Total duplicates: {df.duplicated().sum()}\") #checking for duplicates\n",
        "#checking for null values\n",
        "print(df.isna().sum())\n",
        "print(f\"Total null count: {df.isna().sum().sum()}\")"
      ],
      "metadata": {
        "colab": {
          "base_uri": "https://localhost:8080/"
        },
        "id": "OFlM1EN9KCOE",
        "outputId": "e2cdc057-9390-43d2-807c-211ef51c7286"
      },
      "execution_count": 84,
      "outputs": [
        {
          "output_type": "stream",
          "name": "stdout",
          "text": [
            "Total duplicates: 0\n",
            "samples                             0\n",
            "type                                0\n",
            "NM_144987                           0\n",
            "NM_013290                           0\n",
            "ENST00000322831                     0\n",
            "                                   ..\n",
            "NR_003529                           0\n",
            "NR_036446                           0\n",
            "NM_001001957                        0\n",
            "lincRNA:chr7:29652000-29661000_R    0\n",
            "ENST00000494108                     0\n",
            "Length: 16384, dtype: int64\n",
            "Total null count: 0\n"
          ]
        }
      ]
    },
    {
      "cell_type": "code",
      "source": [
        "target = \"type\"\n",
        "val_counts = df_selected[target].value_counts()\n",
        "print(val_counts, \"\\n\\n\")\n"
      ],
      "metadata": {
        "colab": {
          "base_uri": "https://localhost:8080/"
        },
        "id": "1rw21MaLKrEh",
        "outputId": "0446f16b-3688-442c-f8d7-469c9311f5ec"
      },
      "execution_count": 85,
      "outputs": [
        {
          "output_type": "stream",
          "name": "stdout",
          "text": [
            "type\n",
            "normal                   146\n",
            "breast_adenocarcinoma    143\n",
            "Name: count, dtype: int64 \n",
            "\n",
            "\n"
          ]
        }
      ]
    },
    {
      "cell_type": "code",
      "source": [
        "plt.subplot(1, 2, 2)\n",
        "plt.pie(val_counts, labels = val_counts.keys(), autopct = \"%.2f%%\")\n"
      ],
      "metadata": {
        "colab": {
          "base_uri": "https://localhost:8080/",
          "height": 366
        },
        "id": "QYT7AihFLz6k",
        "outputId": "1d034773-34a5-4161-f77a-36184b0e2fe7"
      },
      "execution_count": 86,
      "outputs": [
        {
          "output_type": "execute_result",
          "data": {
            "text/plain": [
              "([<matplotlib.patches.Wedge at 0x7e6ea0a70160>,\n",
              "  <matplotlib.patches.Wedge at 0x7e6ea0abefe0>],\n",
              " [Text(-0.017935638819470537, 1.0998537688529952, 'normal'),\n",
              "  Text(0.01793563881947016, -1.0998537688529952, 'breast_adenocarcinoma')],\n",
              " [Text(-0.0097830757197112, 0.5999202375561791, '50.52%'),\n",
              "  Text(0.009783075719710994, -0.5999202375561791, '49.48%')])"
            ]
          },
          "metadata": {},
          "execution_count": 86
        },
        {
          "output_type": "display_data",
          "data": {
            "text/plain": [
              "<Figure size 640x480 with 1 Axes>"
            ],
            "image/png": "[encoded data removed]"
          },
          "metadata": {}
        }
      ]
    },
    {
      "cell_type": "code",
      "source": [
        "# Encoding categorical features (Ordinal Encoding)\n",
        "\n",
        "class_map = {\"normal\": 0, \"breast_adenocarcinoma\": 1}\n",
        "class_map_reverse = {m : n for m, n in zip(class_map.values(), class_map.keys())}\n",
        "\n",
        "encoder = category_encoders.OrdinalEncoder(cols = [target], mapping = [{\"col\": target, \"mapping\": class_map}])\n",
        "df_selected['type'] = encoder.fit_transform(df_selected[target])"
      ],
      "metadata": {
        "id": "GUw-4xoYL-XU"
      },
      "execution_count": 87,
      "outputs": []
    },
    {
      "cell_type": "code",
      "source": [
        "X = df_selected.drop(columns=df_selected.columns[0]).values\n",
        "y = df_selected[target].values\n",
        "\n",
        "print(X.shape, y.shape)\n",
        "print(X)\n"
      ],
      "metadata": {
        "colab": {
          "base_uri": "https://localhost:8080/"
        },
        "id": "7wn3Med1OdAT",
        "outputId": "8b106cd0-4fbb-47be-e355-e6439c8d4ca5"
      },
      "execution_count": 88,
      "outputs": [
        {
          "output_type": "stream",
          "name": "stdout",
          "text": [
            "(289, 1499) (289,)\n",
            "[[ 0.          8.69331779  7.71801596 ... 12.47780922 11.77410968\n",
            "   6.48044449]\n",
            " [ 0.          9.37597965  7.07223164 ... 12.35153397 12.80573341\n",
            "   5.93915575]\n",
            " [ 0.          8.94344176  7.96457276 ... 12.73121698 11.52447741\n",
            "   6.60632759]\n",
            " ...\n",
            " [ 1.          9.0513847   7.65189288 ... 12.81128697 11.51248128\n",
            "   7.59612039]\n",
            " [ 1.          8.11460641  8.09668189 ... 12.57506857 11.46985771\n",
            "   9.84164473]\n",
            " [ 1.          8.82757478  7.53889842 ... 12.33743557 11.49841274\n",
            "   9.40977529]]\n"
          ]
        }
      ]
    },
    {
      "cell_type": "code",
      "source": [
        "# Splitting the data into testing and training data (Stratified Splitting)\n",
        "#split: 20% test and 80% train\n",
        "X_train, X_test, y_train, y_test = model_selection.train_test_split(X, y, test_size = 0.2, random_state = 42, stratify = y)\n",
        "print(X_train.shape, X_test.shape)\n",
        "X_train"
      ],
      "metadata": {
        "colab": {
          "base_uri": "https://localhost:8080/"
        },
        "id": "OpKuvqbSO3wl",
        "outputId": "a5719a9f-52b8-475f-fed3-48e940f792bd"
      },
      "execution_count": 122,
      "outputs": [
        {
          "output_type": "stream",
          "name": "stdout",
          "text": [
            "(231, 1499) (58, 1499)\n"
          ]
        },
        {
          "output_type": "execute_result",
          "data": {
            "text/plain": [
              "array([[ 0.        ,  9.50738707,  7.88659539, ..., 12.35153397,\n",
              "        10.95798042,  6.68173038],\n",
              "       [ 0.        ,  9.0114717 ,  7.70067228, ..., 12.45088089,\n",
              "        11.52351665,  6.7382455 ],\n",
              "       [ 0.        ,  9.06698125,  7.96047914, ..., 12.09338592,\n",
              "        11.5230559 ,  5.86918878],\n",
              "       ...,\n",
              "       [ 0.        ,  8.33191753,  7.13775812, ..., 12.59716303,\n",
              "        11.79992783,  7.82180935],\n",
              "       [ 1.        ,  9.00394168,  8.09116073, ..., 11.98248614,\n",
              "        11.19554914, 10.47282677],\n",
              "       [ 1.        ,  8.73400446,  5.52922027, ..., 12.36492732,\n",
              "        11.42408892,  6.78631707]])"
            ]
          },
          "metadata": {},
          "execution_count": 122
        }
      ]
    },
    {
      "cell_type": "code",
      "source": [
        "# Feature Scaling (Z-Score Normalization)\n",
        "\n",
        "scaler = preprocessing.StandardScaler()\n",
        "X_train_scaled = scaler.fit_transform(X_train)\n",
        "X_test_scaled = scaler.fit_transform(X_test)\n",
        "\n",
        "X_train = X_train_scaled.copy()\n",
        "X_test = X_test_scaled.copy()\n",
        "\n",
        "print(X_train[0].mean(), X_train[0].std())"
      ],
      "metadata": {
        "colab": {
          "base_uri": "https://localhost:8080/"
        },
        "id": "OwPM0fn1m_aN",
        "outputId": "c0c519f3-4b9b-4b29-f9e8-dfab3934aeb2"
      },
      "execution_count": 123,
      "outputs": [
        {
          "output_type": "stream",
          "name": "stdout",
          "text": [
            "0.10578378204895554 1.0602296491661038\n"
          ]
        }
      ]
    },
    {
      "cell_type": "code",
      "source": [
        "# Checking uniformity of labels across train and test data sets\n",
        "\n",
        "print(f\"Train Set:\\n{pd.Series(y_train).value_counts()}\\n\\n\")\n",
        "print(f\"Test Set:\\n{pd.Series(y_test).value_counts()}\\n\\n\")\n",
        "\n",
        "plt.figure(figsize = (15, 4))\n",
        "\n",
        "plt.subplot(1, 2, 1)\n",
        "sns.histplot(y_train, bins = len(np.unique(y_train)))\n",
        "\n",
        "plt.subplot(1, 2, 2)\n",
        "sns.histplot(y_test, bins = len(np.unique(y_test)))\n",
        "\n",
        "plt.tight_layout()\n",
        "plt.show()"
      ],
      "metadata": {
        "colab": {
          "base_uri": "https://localhost:8080/",
          "height": 594
        },
        "id": "3JyGEaRRRaPq",
        "outputId": "cef0a745-e27f-4db7-b5e5-fa0e4b4a99b5"
      },
      "execution_count": 124,
      "outputs": [
        {
          "output_type": "stream",
          "name": "stdout",
          "text": [
            "Train Set:\n",
            "0    117\n",
            "1    114\n",
            "Name: count, dtype: int64\n",
            "\n",
            "\n",
            "Test Set:\n",
            "1    29\n",
            "0    29\n",
            "Name: count, dtype: int64\n",
            "\n",
            "\n"
          ]
        },
        {
          "output_type": "display_data",
          "data": {
            "text/plain": [
              "<Figure size 1500x400 with 2 Axes>"
            ],
            "image/png": "[encoded data removed]"
          },
          "metadata": {}
        }
      ]
    },
    {
      "cell_type": "code",
      "source": [
        "# Handling class imbalance through Synthetic Minority Over-sampling Technique (SMOTE)\n",
        "\n",
        "smote = imblearn.over_sampling.SMOTE(random_state = 3, k_neighbors = 3)\n",
        "\n",
        "X_train_resampled, y_train_resampled = smote.fit_resample(X_train, y_train)\n",
        "\n",
        "print(X_train_resampled.shape, y_train_resampled.shape)"
      ],
      "metadata": {
        "colab": {
          "base_uri": "https://localhost:8080/"
        },
        "id": "4u1VIkvSnGJV",
        "outputId": "1d8f6923-4001-475a-dc40-9ae25767a101"
      },
      "execution_count": 125,
      "outputs": [
        {
          "output_type": "stream",
          "name": "stdout",
          "text": [
            "(234, 1499) (234,)\n"
          ]
        }
      ]
    },
    {
      "cell_type": "code",
      "source": [
        "X_train, y_train = X_train_resampled.copy(), y_train_resampled.copy()"
      ],
      "metadata": {
        "id": "xjxf0fKPnMNS"
      },
      "execution_count": 126,
      "outputs": []
    },
    {
      "cell_type": "code",
      "source": [
        "from sklearn.neighbors import KNeighborsClassifier\n",
        "from sklearn.metrics import accuracy_score\n",
        "\n",
        "k = 3  # Number of neighbors\n",
        "knn_model = KNeighborsClassifier(n_neighbors=k)\n",
        "\n",
        "# Train the KNN model\n",
        "knn_model.fit(X_train, y_train)\n",
        "\n",
        "# Predict on the test set\n",
        "y_pred = knn_model.predict(X_test)\n",
        "\n",
        "# Evaluating model ki performance\n",
        "accuracy = accuracy_score(y_test, y_pred)\n",
        "print(f\"Accuracy of KNN model: {accuracy:.2f}\")"
      ],
      "metadata": {
        "colab": {
          "base_uri": "https://localhost:8080/"
        },
        "id": "JFy3PJ41Ziyh",
        "outputId": "e4c04c53-5771-4d42-ffc1-770f1835dc78"
      },
      "execution_count": 127,
      "outputs": [
        {
          "output_type": "stream",
          "name": "stdout",
          "text": [
            "Accuracy of KNN model: 0.90\n"
          ]
        }
      ]
    },
    {
      "cell_type": "code",
      "source": [
        "y_test_pred = knn_model.predict(X_test)\n",
        "\n",
        "conf_matrix = metrics.confusion_matrix(y_test, y_test_pred)\n",
        "sns.heatmap(conf_matrix, annot = True)\n",
        "plt.xlabel(\"Predicted\")\n",
        "plt.ylabel(\"True\")\n",
        "plt.show()\n"
      ],
      "metadata": {
        "colab": {
          "base_uri": "https://localhost:8080/",
          "height": 449
        },
        "id": "RTk728-4bydT",
        "outputId": "5fdacd9e-fea0-4aa9-9c4a-c3fce1b8114d"
      },
      "execution_count": 128,
      "outputs": [
        {
          "output_type": "display_data",
          "data": {
            "text/plain": [
              "<Figure size 640x480 with 2 Axes>"
            ],
            "image/png": "[encoded data removed]"
          },
          "metadata": {}
        }
      ]
    },
    {
      "cell_type": "code",
      "source": [],
      "metadata": {
        "id": "uaYmGsN-oU9T"
      },
      "execution_count": null,
      "outputs": []
    }
  ]
}