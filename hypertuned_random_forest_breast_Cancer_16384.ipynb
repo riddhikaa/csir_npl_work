{
  "nbformat": 4,
  "nbformat_minor": 0,
  "metadata": {
    "colab": {
      "provenance": [],
      "include_colab_link": true
    },
    "kernelspec": {
      "name": "python3",
      "display_name": "Python 3"
    },
    "language_info": {
      "name": "python"
    }
  },
  "cells": [
    {
      "cell_type": "markdown",
      "metadata": {
        "id": "view-in-github",
        "colab_type": "text"
      },
      "source": [
        "<a href=\"https://colab.research.google.com/github/riddhikaa/csir_npl_work/blob/main/hypertuned_random_forest_breast_Cancer_16384.ipynb\" target=\"_parent\"><img src=\"https://colab.research.google.com/assets/colab-badge.svg\" alt=\"Open In Colab\"/></a>"
      ]
    },
    {
      "cell_type": "code",
      "execution_count": null,
      "metadata": {
        "id": "uNhtZgBq4arN",
        "colab": {
          "base_uri": "https://localhost:8080/"
        },
        "outputId": "2d5a8d63-3045-461c-d56c-a2101f972255"
      },
      "outputs": [
        {
          "output_type": "stream",
          "name": "stdout",
          "text": [
            "Requirement already satisfied: category_encoders==2.6.0 in /usr/local/lib/python3.10/dist-packages (2.6.0)\n",
            "Requirement already satisfied: numpy>=1.14.0 in /usr/local/lib/python3.10/dist-packages (from category_encoders==2.6.0) (1.25.2)\n",
            "Requirement already satisfied: scikit-learn>=0.20.0 in /usr/local/lib/python3.10/dist-packages (from category_encoders==2.6.0) (1.2.2)\n",
            "Requirement already satisfied: scipy>=1.0.0 in /usr/local/lib/python3.10/dist-packages (from category_encoders==2.6.0) (1.11.4)\n",
            "Requirement already satisfied: statsmodels>=0.9.0 in /usr/local/lib/python3.10/dist-packages (from category_encoders==2.6.0) (0.14.2)\n",
            "Requirement already satisfied: pandas>=1.0.5 in /usr/local/lib/python3.10/dist-packages (from category_encoders==2.6.0) (2.0.3)\n",
            "Requirement already satisfied: patsy>=0.5.1 in /usr/local/lib/python3.10/dist-packages (from category_encoders==2.6.0) (0.5.6)\n",
            "Requirement already satisfied: python-dateutil>=2.8.2 in /usr/local/lib/python3.10/dist-packages (from pandas>=1.0.5->category_encoders==2.6.0) (2.8.2)\n",
            "Requirement already satisfied: pytz>=2020.1 in /usr/local/lib/python3.10/dist-packages (from pandas>=1.0.5->category_encoders==2.6.0) (2023.4)\n",
            "Requirement already satisfied: tzdata>=2022.1 in /usr/local/lib/python3.10/dist-packages (from pandas>=1.0.5->category_encoders==2.6.0) (2024.1)\n",
            "Requirement already satisfied: six in /usr/local/lib/python3.10/dist-packages (from patsy>=0.5.1->category_encoders==2.6.0) (1.16.0)\n",
            "Requirement already satisfied: joblib>=1.1.1 in /usr/local/lib/python3.10/dist-packages (from scikit-learn>=0.20.0->category_encoders==2.6.0) (1.4.2)\n",
            "Requirement already satisfied: threadpoolctl>=2.0.0 in /usr/local/lib/python3.10/dist-packages (from scikit-learn>=0.20.0->category_encoders==2.6.0) (3.5.0)\n",
            "Requirement already satisfied: packaging>=21.3 in /usr/local/lib/python3.10/dist-packages (from statsmodels>=0.9.0->category_encoders==2.6.0) (24.1)\n"
          ]
        }
      ],
      "source": [
        "!pip install category_encoders==2.6.0\n",
        "import warnings\n",
        "import numpy as np\n",
        "import pandas as pd\n",
        "import matplotlib.pyplot as plt\n",
        "import seaborn as sns\n",
        "from sklearn import linear_model, svm, model_selection, tree, ensemble, neighbors, preprocessing, base, metrics\n",
        "import category_encoders\n",
        "import imblearn"
      ]
    },
    {
      "cell_type": "code",
      "source": [
        "warnings.filterwarnings(\"ignore\")"
      ],
      "metadata": {
        "id": "-MokzMr14mqk"
      },
      "execution_count": null,
      "outputs": []
    },
    {
      "cell_type": "code",
      "source": [
        "file_path = '/content/drive/MyDrive/breastcancer_data/original_Breast_GSE70947.xlsx'\n",
        "df = pd.read_excel(file_path)"
      ],
      "metadata": {
        "id": "-HpU-TRfC4oX"
      },
      "execution_count": null,
      "outputs": []
    },
    {
      "cell_type": "code",
      "source": [
        "from google.colab import drive\n",
        "drive.mount('/content/drive')"
      ],
      "metadata": {
        "id": "kxp9n0SW-hKs",
        "colab": {
          "base_uri": "https://localhost:8080/"
        },
        "outputId": "831b380b-b497-49db-f2b4-d83eda8c4913"
      },
      "execution_count": null,
      "outputs": [
        {
          "output_type": "stream",
          "name": "stdout",
          "text": [
            "Drive already mounted at /content/drive; to attempt to forcibly remount, call drive.mount(\"/content/drive\", force_remount=True).\n"
          ]
        }
      ]
    },
    {
      "cell_type": "code",
      "source": [
        "print(df.shape)"
      ],
      "metadata": {
        "id": "i8Y2Z9guD98X",
        "colab": {
          "base_uri": "https://localhost:8080/"
        },
        "outputId": "140fcc00-43c1-4029-b57b-8b3eaf9173d6"
      },
      "execution_count": null,
      "outputs": [
        {
          "output_type": "stream",
          "name": "stdout",
          "text": [
            "(289, 16384)\n"
          ]
        }
      ]
    },
    {
      "cell_type": "code",
      "source": [
        "#selecting only 1000 features out of 16384\n",
        "# selected_columns = df.columns[:4000]\n",
        "# df_selected = df[selected_columns]\n",
        "# df_selected.head()\n",
        "df.head()"
      ],
      "metadata": {
        "id": "nGz6GoPzEOle",
        "colab": {
          "base_uri": "https://localhost:8080/",
          "height": 273
        },
        "outputId": "4de1e15b-d64c-42dc-efbc-db3ad7b4a6a4"
      },
      "execution_count": null,
      "outputs": [
        {
          "output_type": "execute_result",
          "data": {
            "text/plain": [
              "                                         samples    type  NM_144987  \\\n",
              "0  GSM1823702_252800417016_S01_GE1_107_Sep09_1_2  normal   8.693318   \n",
              "1  GSM1823703_252800417016_S01_GE1_107_Sep09_2_1  normal   9.375980   \n",
              "2  GSM1823704_252800416877_S01_GE1_107_Sep09_2_3  normal   8.943442   \n",
              "3  GSM1823705_252800416894_S01_GE1_107_Sep09_1_1  normal   9.020798   \n",
              "4  GSM1823706_252800416894_S01_GE1_107_Sep09_1_3  normal   8.806154   \n",
              "\n",
              "   NM_013290  ENST00000322831  NM_001625  lincRNA:chr7:226042-232442_R  \\\n",
              "0   7.718016         6.044438  10.747077                      9.133777   \n",
              "1   7.072232         6.976741  10.429671                      9.526500   \n",
              "2   7.964573         6.269055  10.825025                      9.396855   \n",
              "3   7.824639         6.165165  11.646788                      8.776462   \n",
              "4   7.555348         6.230969  11.635247                      8.911383   \n",
              "\n",
              "   NM_032391  ENST00000238571  XR_108906  ...  NM_207327  NM_001004477  \\\n",
              "0   4.735581         5.634732   4.670231  ...  10.453202      4.376090   \n",
              "1   5.221089         5.425187   4.860931  ...  10.066372      4.383785   \n",
              "2   5.258506         5.824921   4.964604  ...  10.380676      4.428892   \n",
              "3   4.648655         6.676692   4.770186  ...  10.509871      4.381542   \n",
              "4   4.518054         6.520691   4.540453  ...  10.552841      4.386116   \n",
              "\n",
              "   NM_020700  NM_005895  NM_000679  NR_003529  NR_036446  NM_001001957  \\\n",
              "0   5.597596  11.860087  11.321528   4.486530   5.489959      5.810069   \n",
              "1   5.404546  11.636828   8.283747   4.770318   5.345571      4.457930   \n",
              "2   5.356374  12.031338   9.420630   4.394069   5.851030      4.508072   \n",
              "3   5.757179  11.944607  10.311339   4.451118   6.117379      4.505663   \n",
              "4   6.851058  11.976510  10.904219   4.432566   6.286439      4.540453   \n",
              "\n",
              "   lincRNA:chr7:29652000-29661000_R  ENST00000494108  \n",
              "0                          4.834056         4.383929  \n",
              "1                          4.441395         4.411587  \n",
              "2                          4.568262         4.316081  \n",
              "3                          4.413361         4.537626  \n",
              "4                          4.412933         4.452250  \n",
              "\n",
              "[5 rows x 16384 columns]"
            ],
            "text/html": [
              "\n",
              "  <div id=\"df-0e9d8f33-bf76-4f2c-be0d-66b967859bdb\" class=\"colab-df-container\">\n",
              "    <div>\n",
              "<style scoped>\n",
              "    .dataframe tbody tr th:only-of-type {\n",
              "        vertical-align: middle;\n",
              "    }\n",
              "\n",
              "    .dataframe tbody tr th {\n",
              "        vertical-align: top;\n",
              "    }\n",
              "\n",
              "    .dataframe thead th {\n",
              "        text-align: right;\n",
              "    }\n",
              "</style>\n",
              "<table border=\"1\" class=\"dataframe\">\n",
              "  <thead>\n",
              "    <tr style=\"text-align: right;\">\n",
              "      <th></th>\n",
              "      <th>samples</th>\n",
              "      <th>type</th>\n",
              "      <th>NM_144987</th>\n",
              "      <th>NM_013290</th>\n",
              "      <th>ENST00000322831</th>\n",
              "      <th>NM_001625</th>\n",
              "      <th>lincRNA:chr7:226042-232442_R</th>\n",
              "      <th>NM_032391</th>\n",
              "      <th>ENST00000238571</th>\n",
              "      <th>XR_108906</th>\n",
              "      <th>...</th>\n",
              "      <th>NM_207327</th>\n",
              "      <th>NM_001004477</th>\n",
              "      <th>NM_020700</th>\n",
              "      <th>NM_005895</th>\n",
              "      <th>NM_000679</th>\n",
              "      <th>NR_003529</th>\n",
              "      <th>NR_036446</th>\n",
              "      <th>NM_001001957</th>\n",
              "      <th>lincRNA:chr7:29652000-29661000_R</th>\n",
              "      <th>ENST00000494108</th>\n",
              "    </tr>\n",
              "  </thead>\n",
              "  <tbody>\n",
              "    <tr>\n",
              "      <th>0</th>\n",
              "      <td>GSM1823702_252800417016_S01_GE1_107_Sep09_1_2</td>\n",
              "      <td>normal</td>\n",
              "      <td>8.693318</td>\n",
              "      <td>7.718016</td>\n",
              "      <td>6.044438</td>\n",
              "      <td>10.747077</td>\n",
              "      <td>9.133777</td>\n",
              "      <td>4.735581</td>\n",
              "      <td>5.634732</td>\n",
              "      <td>4.670231</td>\n",
              "      <td>...</td>\n",
              "      <td>10.453202</td>\n",
              "      <td>4.376090</td>\n",
              "      <td>5.597596</td>\n",
              "      <td>11.860087</td>\n",
              "      <td>11.321528</td>\n",
              "      <td>4.486530</td>\n",
              "      <td>5.489959</td>\n",
              "      <td>5.810069</td>\n",
              "      <td>4.834056</td>\n",
              "      <td>4.383929</td>\n",
              "    </tr>\n",
              "    <tr>\n",
              "      <th>1</th>\n",
              "      <td>GSM1823703_252800417016_S01_GE1_107_Sep09_2_1</td>\n",
              "      <td>normal</td>\n",
              "      <td>9.375980</td>\n",
              "      <td>7.072232</td>\n",
              "      <td>6.976741</td>\n",
              "      <td>10.429671</td>\n",
              "      <td>9.526500</td>\n",
              "      <td>5.221089</td>\n",
              "      <td>5.425187</td>\n",
              "      <td>4.860931</td>\n",
              "      <td>...</td>\n",
              "      <td>10.066372</td>\n",
              "      <td>4.383785</td>\n",
              "      <td>5.404546</td>\n",
              "      <td>11.636828</td>\n",
              "      <td>8.283747</td>\n",
              "      <td>4.770318</td>\n",
              "      <td>5.345571</td>\n",
              "      <td>4.457930</td>\n",
              "      <td>4.441395</td>\n",
              "      <td>4.411587</td>\n",
              "    </tr>\n",
              "    <tr>\n",
              "      <th>2</th>\n",
              "      <td>GSM1823704_252800416877_S01_GE1_107_Sep09_2_3</td>\n",
              "      <td>normal</td>\n",
              "      <td>8.943442</td>\n",
              "      <td>7.964573</td>\n",
              "      <td>6.269055</td>\n",
              "      <td>10.825025</td>\n",
              "      <td>9.396855</td>\n",
              "      <td>5.258506</td>\n",
              "      <td>5.824921</td>\n",
              "      <td>4.964604</td>\n",
              "      <td>...</td>\n",
              "      <td>10.380676</td>\n",
              "      <td>4.428892</td>\n",
              "      <td>5.356374</td>\n",
              "      <td>12.031338</td>\n",
              "      <td>9.420630</td>\n",
              "      <td>4.394069</td>\n",
              "      <td>5.851030</td>\n",
              "      <td>4.508072</td>\n",
              "      <td>4.568262</td>\n",
              "      <td>4.316081</td>\n",
              "    </tr>\n",
              "    <tr>\n",
              "      <th>3</th>\n",
              "      <td>GSM1823705_252800416894_S01_GE1_107_Sep09_1_1</td>\n",
              "      <td>normal</td>\n",
              "      <td>9.020798</td>\n",
              "      <td>7.824639</td>\n",
              "      <td>6.165165</td>\n",
              "      <td>11.646788</td>\n",
              "      <td>8.776462</td>\n",
              "      <td>4.648655</td>\n",
              "      <td>6.676692</td>\n",
              "      <td>4.770186</td>\n",
              "      <td>...</td>\n",
              "      <td>10.509871</td>\n",
              "      <td>4.381542</td>\n",
              "      <td>5.757179</td>\n",
              "      <td>11.944607</td>\n",
              "      <td>10.311339</td>\n",
              "      <td>4.451118</td>\n",
              "      <td>6.117379</td>\n",
              "      <td>4.505663</td>\n",
              "      <td>4.413361</td>\n",
              "      <td>4.537626</td>\n",
              "    </tr>\n",
              "    <tr>\n",
              "      <th>4</th>\n",
              "      <td>GSM1823706_252800416894_S01_GE1_107_Sep09_1_3</td>\n",
              "      <td>normal</td>\n",
              "      <td>8.806154</td>\n",
              "      <td>7.555348</td>\n",
              "      <td>6.230969</td>\n",
              "      <td>11.635247</td>\n",
              "      <td>8.911383</td>\n",
              "      <td>4.518054</td>\n",
              "      <td>6.520691</td>\n",
              "      <td>4.540453</td>\n",
              "      <td>...</td>\n",
              "      <td>10.552841</td>\n",
              "      <td>4.386116</td>\n",
              "      <td>6.851058</td>\n",
              "      <td>11.976510</td>\n",
              "      <td>10.904219</td>\n",
              "      <td>4.432566</td>\n",
              "      <td>6.286439</td>\n",
              "      <td>4.540453</td>\n",
              "      <td>4.412933</td>\n",
              "      <td>4.452250</td>\n",
              "    </tr>\n",
              "  </tbody>\n",
              "</table>\n",
              "<p>5 rows × 16384 columns</p>\n",
              "</div>\n",
              "    <div class=\"colab-df-buttons\">\n",
              "\n",
              "  <div class=\"colab-df-container\">\n",
              "    <button class=\"colab-df-convert\" onclick=\"convertToInteractive('df-0e9d8f33-bf76-4f2c-be0d-66b967859bdb')\"\n",
              "            title=\"Convert this dataframe to an interactive table.\"\n",
              "            style=\"display:none;\">\n",
              "\n",
              "  <svg xmlns=\"http://www.w3.org/2000/svg\" height=\"24px\" viewBox=\"0 -960 960 960\">\n",
              "    <path d=\"M120-120v-720h720v720H120Zm60-500h600v-160H180v160Zm220 220h160v-160H400v160Zm0 220h160v-160H400v160ZM180-400h160v-160H180v160Zm440 0h160v-160H620v160ZM180-180h160v-160H180v160Zm440 0h160v-160H620v160Z\"/>\n",
              "  </svg>\n",
              "    </button>\n",
              "\n",
              "  <style>\n",
              "    .colab-df-container {\n",
              "      display:flex;\n",
              "      gap: 12px;\n",
              "    }\n",
              "\n",
              "    .colab-df-convert {\n",
              "      background-color: #E8F0FE;\n",
              "      border: none;\n",
              "      border-radius: 50%;\n",
              "      cursor: pointer;\n",
              "      display: none;\n",
              "      fill: #1967D2;\n",
              "      height: 32px;\n",
              "      padding: 0 0 0 0;\n",
              "      width: 32px;\n",
              "    }\n",
              "\n",
              "    .colab-df-convert:hover {\n",
              "      background-color: #E2EBFA;\n",
              "      box-shadow: 0px 1px 2px rgba(60, 64, 67, 0.3), 0px 1px 3px 1px rgba(60, 64, 67, 0.15);\n",
              "      fill: #174EA6;\n",
              "    }\n",
              "\n",
              "    .colab-df-buttons div {\n",
              "      margin-bottom: 4px;\n",
              "    }\n",
              "\n",
              "    [theme=dark] .colab-df-convert {\n",
              "      background-color: #3B4455;\n",
              "      fill: #D2E3FC;\n",
              "    }\n",
              "\n",
              "    [theme=dark] .colab-df-convert:hover {\n",
              "      background-color: #434B5C;\n",
              "      box-shadow: 0px 1px 3px 1px rgba(0, 0, 0, 0.15);\n",
              "      filter: drop-shadow(0px 1px 2px rgba(0, 0, 0, 0.3));\n",
              "      fill: #FFFFFF;\n",
              "    }\n",
              "  </style>\n",
              "\n",
              "    <script>\n",
              "      const buttonEl =\n",
              "        document.querySelector('#df-0e9d8f33-bf76-4f2c-be0d-66b967859bdb button.colab-df-convert');\n",
              "      buttonEl.style.display =\n",
              "        google.colab.kernel.accessAllowed ? 'block' : 'none';\n",
              "\n",
              "      async function convertToInteractive(key) {\n",
              "        const element = document.querySelector('#df-0e9d8f33-bf76-4f2c-be0d-66b967859bdb');\n",
              "        const dataTable =\n",
              "          await google.colab.kernel.invokeFunction('convertToInteractive',\n",
              "                                                    [key], {});\n",
              "        if (!dataTable) return;\n",
              "\n",
              "        const docLinkHtml = 'Like what you see? Visit the ' +\n",
              "          '<a target=\"_blank\" href=https://colab.research.google.com/notebooks/data_table.ipynb>data table notebook</a>'\n",
              "          + ' to learn more about interactive tables.';\n",
              "        element.innerHTML = '';\n",
              "        dataTable['output_type'] = 'display_data';\n",
              "        await google.colab.output.renderOutput(dataTable, element);\n",
              "        const docLink = document.createElement('div');\n",
              "        docLink.innerHTML = docLinkHtml;\n",
              "        element.appendChild(docLink);\n",
              "      }\n",
              "    </script>\n",
              "  </div>\n",
              "\n",
              "\n",
              "<div id=\"df-247b3d36-1813-4aaa-8852-6b259ea72f96\">\n",
              "  <button class=\"colab-df-quickchart\" onclick=\"quickchart('df-247b3d36-1813-4aaa-8852-6b259ea72f96')\"\n",
              "            title=\"Suggest charts\"\n",
              "            style=\"display:none;\">\n",
              "\n",
              "<svg xmlns=\"http://www.w3.org/2000/svg\" height=\"24px\"viewBox=\"0 0 24 24\"\n",
              "     width=\"24px\">\n",
              "    <g>\n",
              "        <path d=\"M19 3H5c-1.1 0-2 .9-2 2v14c0 1.1.9 2 2 2h14c1.1 0 2-.9 2-2V5c0-1.1-.9-2-2-2zM9 17H7v-7h2v7zm4 0h-2V7h2v10zm4 0h-2v-4h2v4z\"/>\n",
              "    </g>\n",
              "</svg>\n",
              "  </button>\n",
              "\n",
              "<style>\n",
              "  .colab-df-quickchart {\n",
              "      --bg-color: #E8F0FE;\n",
              "      --fill-color: #1967D2;\n",
              "      --hover-bg-color: #E2EBFA;\n",
              "      --hover-fill-color: #174EA6;\n",
              "      --disabled-fill-color: #AAA;\n",
              "      --disabled-bg-color: #DDD;\n",
              "  }\n",
              "\n",
              "  [theme=dark] .colab-df-quickchart {\n",
              "      --bg-color: #3B4455;\n",
              "      --fill-color: #D2E3FC;\n",
              "      --hover-bg-color: #434B5C;\n",
              "      --hover-fill-color: #FFFFFF;\n",
              "      --disabled-bg-color: #3B4455;\n",
              "      --disabled-fill-color: #666;\n",
              "  }\n",
              "\n",
              "  .colab-df-quickchart {\n",
              "    background-color: var(--bg-color);\n",
              "    border: none;\n",
              "    border-radius: 50%;\n",
              "    cursor: pointer;\n",
              "    display: none;\n",
              "    fill: var(--fill-color);\n",
              "    height: 32px;\n",
              "    padding: 0;\n",
              "    width: 32px;\n",
              "  }\n",
              "\n",
              "  .colab-df-quickchart:hover {\n",
              "    background-color: var(--hover-bg-color);\n",
              "    box-shadow: 0 1px 2px rgba(60, 64, 67, 0.3), 0 1px 3px 1px rgba(60, 64, 67, 0.15);\n",
              "    fill: var(--button-hover-fill-color);\n",
              "  }\n",
              "\n",
              "  .colab-df-quickchart-complete:disabled,\n",
              "  .colab-df-quickchart-complete:disabled:hover {\n",
              "    background-color: var(--disabled-bg-color);\n",
              "    fill: var(--disabled-fill-color);\n",
              "    box-shadow: none;\n",
              "  }\n",
              "\n",
              "  .colab-df-spinner {\n",
              "    border: 2px solid var(--fill-color);\n",
              "    border-color: transparent;\n",
              "    border-bottom-color: var(--fill-color);\n",
              "    animation:\n",
              "      spin 1s steps(1) infinite;\n",
              "  }\n",
              "\n",
              "  @keyframes spin {\n",
              "    0% {\n",
              "      border-color: transparent;\n",
              "      border-bottom-color: var(--fill-color);\n",
              "      border-left-color: var(--fill-color);\n",
              "    }\n",
              "    20% {\n",
              "      border-color: transparent;\n",
              "      border-left-color: var(--fill-color);\n",
              "      border-top-color: var(--fill-color);\n",
              "    }\n",
              "    30% {\n",
              "      border-color: transparent;\n",
              "      border-left-color: var(--fill-color);\n",
              "      border-top-color: var(--fill-color);\n",
              "      border-right-color: var(--fill-color);\n",
              "    }\n",
              "    40% {\n",
              "      border-color: transparent;\n",
              "      border-right-color: var(--fill-color);\n",
              "      border-top-color: var(--fill-color);\n",
              "    }\n",
              "    60% {\n",
              "      border-color: transparent;\n",
              "      border-right-color: var(--fill-color);\n",
              "    }\n",
              "    80% {\n",
              "      border-color: transparent;\n",
              "      border-right-color: var(--fill-color);\n",
              "      border-bottom-color: var(--fill-color);\n",
              "    }\n",
              "    90% {\n",
              "      border-color: transparent;\n",
              "      border-bottom-color: var(--fill-color);\n",
              "    }\n",
              "  }\n",
              "</style>\n",
              "\n",
              "  <script>\n",
              "    async function quickchart(key) {\n",
              "      const quickchartButtonEl =\n",
              "        document.querySelector('#' + key + ' button');\n",
              "      quickchartButtonEl.disabled = true;  // To prevent multiple clicks.\n",
              "      quickchartButtonEl.classList.add('colab-df-spinner');\n",
              "      try {\n",
              "        const charts = await google.colab.kernel.invokeFunction(\n",
              "            'suggestCharts', [key], {});\n",
              "      } catch (error) {\n",
              "        console.error('Error during call to suggestCharts:', error);\n",
              "      }\n",
              "      quickchartButtonEl.classList.remove('colab-df-spinner');\n",
              "      quickchartButtonEl.classList.add('colab-df-quickchart-complete');\n",
              "    }\n",
              "    (() => {\n",
              "      let quickchartButtonEl =\n",
              "        document.querySelector('#df-247b3d36-1813-4aaa-8852-6b259ea72f96 button');\n",
              "      quickchartButtonEl.style.display =\n",
              "        google.colab.kernel.accessAllowed ? 'block' : 'none';\n",
              "    })();\n",
              "  </script>\n",
              "</div>\n",
              "\n",
              "    </div>\n",
              "  </div>\n"
            ],
            "application/vnd.google.colaboratory.intrinsic+json": {
              "type": "dataframe",
              "variable_name": "df"
            }
          },
          "metadata": {},
          "execution_count": 48
        }
      ]
    },
    {
      "cell_type": "code",
      "source": [
        "df.head()\n",
        "print(f\"Total duplicates: {df.duplicated().sum()}\") #checking for duplicates\n",
        "#checking for null values\n",
        "print(df.isna().sum())\n",
        "print(f\"Total null count: {df.isna().sum().sum()}\")"
      ],
      "metadata": {
        "id": "OFlM1EN9KCOE",
        "colab": {
          "base_uri": "https://localhost:8080/"
        },
        "outputId": "f33ef5f7-1e1d-479c-858b-9dc30a2aed56"
      },
      "execution_count": null,
      "outputs": [
        {
          "output_type": "stream",
          "name": "stdout",
          "text": [
            "Total duplicates: 0\n",
            "samples                             0\n",
            "type                                0\n",
            "NM_144987                           0\n",
            "NM_013290                           0\n",
            "ENST00000322831                     0\n",
            "                                   ..\n",
            "NR_003529                           0\n",
            "NR_036446                           0\n",
            "NM_001001957                        0\n",
            "lincRNA:chr7:29652000-29661000_R    0\n",
            "ENST00000494108                     0\n",
            "Length: 16384, dtype: int64\n",
            "Total null count: 0\n"
          ]
        }
      ]
    },
    {
      "cell_type": "code",
      "source": [
        "target = \"type\"\n",
        "val_counts = df[target].value_counts()\n",
        "print(val_counts, \"\\n\\n\")\n"
      ],
      "metadata": {
        "id": "1rw21MaLKrEh",
        "colab": {
          "base_uri": "https://localhost:8080/"
        },
        "outputId": "8f468928-89f9-4a86-b9ad-825b5c075764"
      },
      "execution_count": null,
      "outputs": [
        {
          "output_type": "stream",
          "name": "stdout",
          "text": [
            "type\n",
            "normal                   146\n",
            "breast_adenocarcinoma    143\n",
            "Name: count, dtype: int64 \n",
            "\n",
            "\n"
          ]
        }
      ]
    },
    {
      "cell_type": "code",
      "source": [
        "plt.subplot(1, 2, 2)\n",
        "plt.pie(val_counts, labels = val_counts.keys(), autopct = \"%.2f%%\")"
      ],
      "metadata": {
        "id": "QYT7AihFLz6k",
        "colab": {
          "base_uri": "https://localhost:8080/",
          "height": 371
        },
        "outputId": "45865df6-319e-40f8-ce5b-8ec151170c2d"
      },
      "execution_count": null,
      "outputs": [
        {
          "output_type": "execute_result",
          "data": {
            "text/plain": [
              "([<matplotlib.patches.Wedge at 0x7af4c8d974c0>,\n",
              "  <matplotlib.patches.Wedge at 0x7af4c8d622f0>],\n",
              " [Text(-0.017935638819470537, 1.0998537688529952, 'normal'),\n",
              "  Text(0.01793563881947016, -1.0998537688529952, 'breast_adenocarcinoma')],\n",
              " [Text(-0.0097830757197112, 0.5999202375561791, '50.52%'),\n",
              "  Text(0.009783075719710994, -0.5999202375561791, '49.48%')])"
            ]
          },
          "metadata": {},
          "execution_count": 51
        },
        {
          "output_type": "display_data",
          "data": {
            "text/plain": [
              "<Figure size 640x480 with 1 Axes>"
            ],
            "image/png": "[encoded data removed]"
          },
          "metadata": {}
        }
      ]
    },
    {
      "cell_type": "code",
      "source": [
        "# Encoding categorical features (Ordinal Encoding)\n",
        "\n",
        "class_map = {\"normal\": 0, \"breast_adenocarcinoma\": 1}\n",
        "class_map_reverse = {m : n for m, n in zip(class_map.values(), class_map.keys())}\n",
        "\n",
        "encoder = category_encoders.OrdinalEncoder(cols = [target], mapping = [{\"col\": target, \"mapping\": class_map}])\n",
        "df['type'] = encoder.fit_transform(df[target])"
      ],
      "metadata": {
        "id": "GUw-4xoYL-XU"
      },
      "execution_count": null,
      "outputs": []
    },
    {
      "cell_type": "code",
      "source": [
        "X = df.drop(columns=df.columns[0]).values\n",
        "y = df[target].values\n",
        "\n",
        "print(X.shape, y.shape)\n",
        "print(X)\n"
      ],
      "metadata": {
        "id": "7wn3Med1OdAT",
        "colab": {
          "base_uri": "https://localhost:8080/"
        },
        "outputId": "8b6ca436-b7b1-4b42-b1ab-72592b262383"
      },
      "execution_count": null,
      "outputs": [
        {
          "output_type": "stream",
          "name": "stdout",
          "text": [
            "(289, 16383) (289,)\n",
            "[[0.         8.69331779 7.71801596 ... 5.81006943 4.83405623 4.38392868]\n",
            " [0.         9.37597965 7.07223164 ... 4.45792972 4.44139474 4.41158681]\n",
            " [0.         8.94344176 7.96457276 ... 4.50807186 4.56826205 4.31608095]\n",
            " ...\n",
            " [1.         9.0513847  7.65189288 ... 4.41435052 4.52880797 4.39442035]\n",
            " [1.         8.11460641 8.09668189 ... 6.15655541 4.38106974 4.44705215]\n",
            " [1.         8.82757478 7.53889842 ... 4.63430652 4.45075149 4.38308807]]\n"
          ]
        }
      ]
    },
    {
      "cell_type": "code",
      "source": [
        "# Splitting the data into testing and training data (Stratified Splitting)\n",
        "#split: 30% test and 70% train\n",
        "X_train, X_test, y_train, y_test = model_selection.train_test_split(X, y, test_size = 0.3, random_state = 42, stratify = y)\n",
        "print(X_train.shape, X_test.shape)\n",
        "X_train"
      ],
      "metadata": {
        "id": "OpKuvqbSO3wl",
        "colab": {
          "base_uri": "https://localhost:8080/"
        },
        "outputId": "56e2a90c-d6b9-45d3-e4c7-2dd1b390b152"
      },
      "execution_count": null,
      "outputs": [
        {
          "output_type": "stream",
          "name": "stdout",
          "text": [
            "(202, 16383) (87, 16383)\n"
          ]
        },
        {
          "output_type": "execute_result",
          "data": {
            "text/plain": [
              "array([[0.        , 9.17559702, 8.01454138, ..., 4.50019441, 4.66437819,\n",
              "        4.59171068],\n",
              "       [0.        , 9.04047607, 7.84442778, ..., 5.57417421, 4.50513455,\n",
              "        4.59957401],\n",
              "       [0.        , 8.92586144, 7.49132906, ..., 4.39877603, 4.62753024,\n",
              "        4.47436347],\n",
              "       ...,\n",
              "       [1.        , 8.32934381, 8.21710839, ..., 4.54886311, 4.50084753,\n",
              "        4.4711697 ],\n",
              "       [1.        , 8.66783834, 8.62899818, ..., 4.37979392, 4.50861855,\n",
              "        4.35412715],\n",
              "       [1.        , 8.74929057, 7.77024871, ..., 4.36613268, 4.48875225,\n",
              "        4.47496393]])"
            ]
          },
          "metadata": {},
          "execution_count": 54
        }
      ]
    },
    {
      "cell_type": "code",
      "source": [
        "# Feature Scaling (Z-Score Normalization)\n",
        "\n",
        "scaler = preprocessing.StandardScaler()\n",
        "X_train_scaled = scaler.fit_transform(X_train)\n",
        "X_test_scaled = scaler.fit_transform(X_test)\n",
        "\n",
        "X_train = X_train_scaled.copy()\n",
        "X_test = X_test_scaled.copy()\n",
        "\n",
        "print(X_train[0].mean(), X_train[0].std())"
      ],
      "metadata": {
        "id": "OwPM0fn1m_aN",
        "colab": {
          "base_uri": "https://localhost:8080/"
        },
        "outputId": "7b6bf26e-a109-44f3-aa25-fbab967ddc31"
      },
      "execution_count": null,
      "outputs": [
        {
          "output_type": "stream",
          "name": "stdout",
          "text": [
            "0.09198344346193894 0.7968238583703432\n"
          ]
        }
      ]
    },
    {
      "cell_type": "code",
      "source": [
        "# Checking uniformity of labels across train and test data sets\n",
        "\n",
        "print(f\"Train Set:\\n{pd.Series(y_train).value_counts()}\\n\\n\")\n",
        "print(f\"Test Set:\\n{pd.Series(y_test).value_counts()}\\n\\n\")\n",
        "\n",
        "plt.figure(figsize = (15, 4))\n",
        "\n",
        "plt.subplot(1, 2, 1)\n",
        "sns.histplot(y_train, bins = len(np.unique(y_train)))\n",
        "\n",
        "plt.subplot(1, 2, 2)\n",
        "sns.histplot(y_test, bins = len(np.unique(y_test)))\n",
        "\n",
        "plt.tight_layout()\n",
        "plt.show()"
      ],
      "metadata": {
        "id": "3JyGEaRRRaPq",
        "colab": {
          "base_uri": "https://localhost:8080/",
          "height": 572
        },
        "outputId": "2be11214-0b3f-4685-ef49-11102d35e680"
      },
      "execution_count": null,
      "outputs": [
        {
          "output_type": "stream",
          "name": "stdout",
          "text": [
            "Train Set:\n",
            "0    102\n",
            "1    100\n",
            "Name: count, dtype: int64\n",
            "\n",
            "\n",
            "Test Set:\n",
            "0    44\n",
            "1    43\n",
            "Name: count, dtype: int64\n",
            "\n",
            "\n"
          ]
        },
        {
          "output_type": "display_data",
          "data": {
            "text/plain": [
              "<Figure size 1500x400 with 2 Axes>"
            ],
            "image/png": "[encoded data removed]"
          },
          "metadata": {}
        }
      ]
    },
    {
      "cell_type": "code",
      "source": [
        "# Handling class imbalance through Synthetic Minority Over-sampling Technique (SMOTE)\n",
        "\n",
        "smote = imblearn.over_sampling.SMOTE(random_state = 3, k_neighbors = 3)\n",
        "\n",
        "X_train_resampled, y_train_resampled = smote.fit_resample(X_train, y_train)\n",
        "\n",
        "print(X_train_resampled.shape, y_train_resampled.shape)"
      ],
      "metadata": {
        "id": "4u1VIkvSnGJV",
        "colab": {
          "base_uri": "https://localhost:8080/"
        },
        "outputId": "946bc2a2-cf98-489a-c126-b15ba5058ff3"
      },
      "execution_count": null,
      "outputs": [
        {
          "output_type": "stream",
          "name": "stdout",
          "text": [
            "(204, 16383) (204,)\n"
          ]
        }
      ]
    },
    {
      "cell_type": "code",
      "source": [
        "X_train, y_train = X_train_resampled.copy(), y_train_resampled.copy()"
      ],
      "metadata": {
        "id": "xjxf0fKPnMNS"
      },
      "execution_count": null,
      "outputs": []
    },
    {
      "cell_type": "code",
      "source": [
        "import matplotlib.pyplot as plt\n",
        "from sklearn.neighbors import KNeighborsClassifier\n",
        "from sklearn.metrics import accuracy_score, f1_score, confusion_matrix, ConfusionMatrixDisplay\n",
        "\n",
        "\n",
        "k = 3 #Number of neighbors\n",
        "knn_model = KNeighborsClassifier(n_neighbors=k)\n",
        "\n",
        "knn_model.fit(X_train, y_train)\n",
        "y_train_pred = knn_model.predict(X_train) #training set\n",
        "y_test_pred = knn_model.predict(X_test)#testing set\n",
        "\n",
        "#Evaluating model performance on training data\n",
        "train_accuracy = accuracy_score(y_train, y_train_pred)\n",
        "train_f1 = f1_score(y_train, y_train_pred)\n",
        "print(f\"Training Accuracy of KNN model: {train_accuracy:.2f}\")\n",
        "print(f\"Training F1 score of KNN model: {train_f1:.2f}\")\n",
        "\n",
        "#Evaluating model performance on testing data\n",
        "test_accuracy = accuracy_score(y_test, y_test_pred)\n",
        "test_f1 = f1_score(y_test, y_test_pred)\n",
        "print(f\"Testing Accuracy of KNN model: {test_accuracy:.2f}\")\n",
        "print(f\"Testing F1 score of KNN model: {test_f1:.2f}\")\n",
        "\n",
        "#confusion matrix for training data\n",
        "train_cm = confusion_matrix(y_train, y_train_pred)\n",
        "ConfusionMatrixDisplay(train_cm, display_labels=knn_model.classes_).plot()\n",
        "plt.title('Confusion Matrix for Training Data')\n",
        "plt.show()\n",
        "\n",
        "#confusion matrix for testing data\n",
        "test_cm = confusion_matrix(y_test, y_test_pred)\n",
        "ConfusionMatrixDisplay(test_cm, display_labels=knn_model.classes_).plot()\n",
        "\n",
        "plt.title('Confusion Matrix for Testing Data')\n",
        "plt.show()\n",
        "'''\n",
        "80-20 split\n",
        "Training Accuracy of KNN model: 0.91\n",
        "Training F1 score of KNN model: 0.90\n",
        "Testing Accuracy of KNN model: 0.88\n",
        "Testing F1 score of KNN model: 0.87\n",
        "'''"
      ],
      "metadata": {
        "id": "BCUvrCicdgG9",
        "colab": {
          "base_uri": "https://localhost:8080/",
          "height": 1000
        },
        "outputId": "58d01469-c049-4147-c8c9-5f35551d387c"
      },
      "execution_count": null,
      "outputs": [
        {
          "output_type": "stream",
          "name": "stdout",
          "text": [
            "Training Accuracy of KNN model: 0.89\n",
            "Training F1 score of KNN model: 0.88\n",
            "Testing Accuracy of KNN model: 0.80\n",
            "Testing F1 score of KNN model: 0.78\n"
          ]
        },
        {
          "output_type": "display_data",
          "data": {
            "text/plain": [
              "<Figure size 640x480 with 2 Axes>"
            ],
            "image/png": "[encoded data removed]"
          },
          "metadata": {}
        },
        {
          "output_type": "display_data",
          "data": {
            "text/plain": [
              "<Figure size 640x480 with 2 Axes>"
            ],
            "image/png": "[encoded data removed]"
          },
          "metadata": {}
        },
        {
          "output_type": "execute_result",
          "data": {
            "text/plain": [
              "'\\n80-20 split\\nTraining Accuracy of KNN model: 0.91\\nTraining F1 score of KNN model: 0.90\\nTesting Accuracy of KNN model: 0.88\\nTesting F1 score of KNN model: 0.87\\n'"
            ],
            "application/vnd.google.colaboratory.intrinsic+json": {
              "type": "string"
            }
          },
          "metadata": {},
          "execution_count": 59
        }
      ]
    },
    {
      "cell_type": "code",
      "source": [
        "# random forest\n",
        "from sklearn.ensemble import RandomForestClassifier\n",
        "\n",
        "# Number of trees in random forest\n",
        "n_estimators = [int(x) for x in np.linspace(start = 10, stop = 80, num = 10)]\n",
        "# Number of features to consider at every split\n",
        "max_features = ['auto', 'sqrt']\n",
        "# Maximum number of levels in tree\n",
        "max_depth = [2,4]\n",
        "# Minimum number of samples required to split a node\n",
        "min_samples_split = [2, 5]\n",
        "# Minimum number of samples required at each leaf node\n",
        "min_samples_leaf = [1, 2]\n",
        "# Method of selecting samples for training each tree\n",
        "bootstrap = [True, False]\n",
        "\n",
        "# Create the param grid\n",
        "param_grid = {'n_estimators': n_estimators,\n",
        "               'max_features': max_features,\n",
        "               'max_depth': max_depth,\n",
        "               'min_samples_split': min_samples_split,\n",
        "               'min_samples_leaf': min_samples_leaf,\n",
        "               'bootstrap': bootstrap}\n",
        "print(param_grid)\n",
        "\n"
      ],
      "metadata": {
        "id": "98pFiPpqew-z",
        "colab": {
          "base_uri": "https://localhost:8080/"
        },
        "outputId": "b03b1112-f09b-49e0-d5bf-99c80765628d"
      },
      "execution_count": null,
      "outputs": [
        {
          "output_type": "stream",
          "name": "stdout",
          "text": [
            "{'n_estimators': [10, 17, 25, 33, 41, 48, 56, 64, 72, 80], 'max_features': ['auto', 'sqrt'], 'max_depth': [2, 4], 'min_samples_split': [2, 5], 'min_samples_leaf': [1, 2], 'bootstrap': [True, False]}\n"
          ]
        }
      ]
    },
    {
      "cell_type": "code",
      "source": [
        "rf_Model = RandomForestClassifier()\n",
        "rf_Grid = GridSearchCV(estimator=rf_Model, param_grid=param_grid, cv=5, verbose=2, n_jobs=-1)\n",
        "rf_Grid.fit(X_train, y_train)"
      ],
      "metadata": {
        "colab": {
          "base_uri": "https://localhost:8080/",
          "height": 303
        },
        "id": "dMJZTbyrV5bm",
        "outputId": "f2318c62-7e56-4bab-d412-8c28781acb04"
      },
      "execution_count": null,
      "outputs": [
        {
          "output_type": "stream",
          "name": "stdout",
          "text": [
            "Fitting 5 folds for each of 320 candidates, totalling 1600 fits\n"
          ]
        },
        {
          "output_type": "execute_result",
          "data": {
            "text/plain": [
              "GridSearchCV(cv=5, estimator=RandomForestClassifier(), n_jobs=-1,\n",
              "             param_grid={'bootstrap': [True, False], 'max_depth': [2, 4],\n",
              "                         'max_features': ['auto', 'sqrt'],\n",
              "                         'min_samples_leaf': [1, 2],\n",
              "                         'min_samples_split': [2, 5],\n",
              "                         'n_estimators': [10, 17, 25, 33, 41, 48, 56, 64, 72,\n",
              "                                          80]},\n",
              "             verbose=2)"
            ],
            "text/html": [
              "<style>#sk-container-id-1 {color: black;background-color: white;}#sk-container-id-1 pre{padding: 0;}#sk-container-id-1 div.sk-toggleable {background-color: white;}#sk-container-id-1 label.sk-toggleable__label {cursor: pointer;display: block;width: 100%;margin-bottom: 0;padding: 0.3em;box-sizing: border-box;text-align: center;}#sk-container-id-1 label.sk-toggleable__label-arrow:before {content: \"▸\";float: left;margin-right: 0.25em;color: #696969;}#sk-container-id-1 label.sk-toggleable__label-arrow:hover:before {color: black;}#sk-container-id-1 div.sk-estimator:hover label.sk-toggleable__label-arrow:before {color: black;}#sk-container-id-1 div.sk-toggleable__content {max-height: 0;max-width: 0;overflow: hidden;text-align: left;background-color: #f0f8ff;}#sk-container-id-1 div.sk-toggleable__content pre {margin: 0.2em;color: black;border-radius: 0.25em;background-color: #f0f8ff;}#sk-container-id-1 input.sk-toggleable__control:checked~div.sk-toggleable__content {max-height: 200px;max-width: 100%;overflow: auto;}#sk-container-id-1 input.sk-toggleable__control:checked~label.sk-toggleable__label-arrow:before {content: \"▾\";}#sk-container-id-1 div.sk-estimator input.sk-toggleable__control:checked~label.sk-toggleable__label {background-color: #d4ebff;}#sk-container-id-1 div.sk-label input.sk-toggleable__control:checked~label.sk-toggleable__label {background-color: #d4ebff;}#sk-container-id-1 input.sk-hidden--visually {border: 0;clip: rect(1px 1px 1px 1px);clip: rect(1px, 1px, 1px, 1px);height: 1px;margin: -1px;overflow: hidden;padding: 0;position: absolute;width: 1px;}#sk-container-id-1 div.sk-estimator {font-family: monospace;background-color: #f0f8ff;border: 1px dotted black;border-radius: 0.25em;box-sizing: border-box;margin-bottom: 0.5em;}#sk-container-id-1 div.sk-estimator:hover {background-color: #d4ebff;}#sk-container-id-1 div.sk-parallel-item::after {content: \"\";width: 100%;border-bottom: 1px solid gray;flex-grow: 1;}#sk-container-id-1 div.sk-label:hover label.sk-toggleable__label {background-color: #d4ebff;}#sk-container-id-1 div.sk-serial::before {content: \"\";position: absolute;border-left: 1px solid gray;box-sizing: border-box;top: 0;bottom: 0;left: 50%;z-index: 0;}#sk-container-id-1 div.sk-serial {display: flex;flex-direction: column;align-items: center;background-color: white;padding-right: 0.2em;padding-left: 0.2em;position: relative;}#sk-container-id-1 div.sk-item {position: relative;z-index: 1;}#sk-container-id-1 div.sk-parallel {display: flex;align-items: stretch;justify-content: center;background-color: white;position: relative;}#sk-container-id-1 div.sk-item::before, #sk-container-id-1 div.sk-parallel-item::before {content: \"\";position: absolute;border-left: 1px solid gray;box-sizing: border-box;top: 0;bottom: 0;left: 50%;z-index: -1;}#sk-container-id-1 div.sk-parallel-item {display: flex;flex-direction: column;z-index: 1;position: relative;background-color: white;}#sk-container-id-1 div.sk-parallel-item:first-child::after {align-self: flex-end;width: 50%;}#sk-container-id-1 div.sk-parallel-item:last-child::after {align-self: flex-start;width: 50%;}#sk-container-id-1 div.sk-parallel-item:only-child::after {width: 0;}#sk-container-id-1 div.sk-dashed-wrapped {border: 1px dashed gray;margin: 0 0.4em 0.5em 0.4em;box-sizing: border-box;padding-bottom: 0.4em;background-color: white;}#sk-container-id-1 div.sk-label label {font-family: monospace;font-weight: bold;display: inline-block;line-height: 1.2em;}#sk-container-id-1 div.sk-label-container {text-align: center;}#sk-container-id-1 div.sk-container {/* jupyter's `normalize.less` sets `[hidden] { display: none; }` but bootstrap.min.css set `[hidden] { display: none !important; }` so we also need the `!important` here to be able to override the default hidden behavior on the sphinx rendered scikit-learn.org. See: https://github.com/scikit-learn/scikit-learn/issues/21755 */display: inline-block !important;position: relative;}#sk-container-id-1 div.sk-text-repr-fallback {display: none;}</style><div id=\"sk-container-id-1\" class=\"sk-top-container\"><div class=\"sk-text-repr-fallback\"><pre>GridSearchCV(cv=5, estimator=RandomForestClassifier(), n_jobs=-1,\n",
              "             param_grid={&#x27;bootstrap&#x27;: [True, False], &#x27;max_depth&#x27;: [2, 4],\n",
              "                         &#x27;max_features&#x27;: [&#x27;auto&#x27;, &#x27;sqrt&#x27;],\n",
              "                         &#x27;min_samples_leaf&#x27;: [1, 2],\n",
              "                         &#x27;min_samples_split&#x27;: [2, 5],\n",
              "                         &#x27;n_estimators&#x27;: [10, 17, 25, 33, 41, 48, 56, 64, 72,\n",
              "                                          80]},\n",
              "             verbose=2)</pre><b>In a Jupyter environment, please rerun this cell to show the HTML representation or trust the notebook. <br />On GitHub, the HTML representation is unable to render, please try loading this page with nbviewer.org.</b></div><div class=\"sk-container\" hidden><div class=\"sk-item sk-dashed-wrapped\"><div class=\"sk-label-container\"><div class=\"sk-label sk-toggleable\"><input class=\"sk-toggleable__control sk-hidden--visually\" id=\"sk-estimator-id-1\" type=\"checkbox\" ><label for=\"sk-estimator-id-1\" class=\"sk-toggleable__label sk-toggleable__label-arrow\">GridSearchCV</label><div class=\"sk-toggleable__content\"><pre>GridSearchCV(cv=5, estimator=RandomForestClassifier(), n_jobs=-1,\n",
              "             param_grid={&#x27;bootstrap&#x27;: [True, False], &#x27;max_depth&#x27;: [2, 4],\n",
              "                         &#x27;max_features&#x27;: [&#x27;auto&#x27;, &#x27;sqrt&#x27;],\n",
              "                         &#x27;min_samples_leaf&#x27;: [1, 2],\n",
              "                         &#x27;min_samples_split&#x27;: [2, 5],\n",
              "                         &#x27;n_estimators&#x27;: [10, 17, 25, 33, 41, 48, 56, 64, 72,\n",
              "                                          80]},\n",
              "             verbose=2)</pre></div></div></div><div class=\"sk-parallel\"><div class=\"sk-parallel-item\"><div class=\"sk-item\"><div class=\"sk-label-container\"><div class=\"sk-label sk-toggleable\"><input class=\"sk-toggleable__control sk-hidden--visually\" id=\"sk-estimator-id-2\" type=\"checkbox\" ><label for=\"sk-estimator-id-2\" class=\"sk-toggleable__label sk-toggleable__label-arrow\">estimator: RandomForestClassifier</label><div class=\"sk-toggleable__content\"><pre>RandomForestClassifier()</pre></div></div></div><div class=\"sk-serial\"><div class=\"sk-item\"><div class=\"sk-estimator sk-toggleable\"><input class=\"sk-toggleable__control sk-hidden--visually\" id=\"sk-estimator-id-3\" type=\"checkbox\" ><label for=\"sk-estimator-id-3\" class=\"sk-toggleable__label sk-toggleable__label-arrow\">RandomForestClassifier</label><div class=\"sk-toggleable__content\"><pre>RandomForestClassifier()</pre></div></div></div></div></div></div></div></div></div></div>"
            ]
          },
          "metadata": {},
          "execution_count": 66
        }
      ]
    },
    {
      "cell_type": "code",
      "source": [
        "rf_Model = RandomForestClassifier()\n",
        "from sklearn.model_selection import GridSearchCV\n",
        "rf_Grid = GridSearchCV(estimator = rf_Model, param_grid = param_grid, cv = 3, verbose=2, n_jobs = 4)\n",
        "rf_Grid.fit(X_train, y_train)\n",
        "rf_Grid.best_params_\n"
      ],
      "metadata": {
        "colab": {
          "base_uri": "https://localhost:8080/"
        },
        "id": "XI4Ui0DY0zG-",
        "outputId": "7028e51d-3e04-4234-c9c1-3f727db0f981"
      },
      "execution_count": null,
      "outputs": [
        {
          "output_type": "stream",
          "name": "stdout",
          "text": [
            "Fitting 3 folds for each of 320 candidates, totalling 960 fits\n"
          ]
        },
        {
          "output_type": "execute_result",
          "data": {
            "text/plain": [
              "{'bootstrap': False,\n",
              " 'max_depth': 4,\n",
              " 'max_features': 'sqrt',\n",
              " 'min_samples_leaf': 1,\n",
              " 'min_samples_split': 2,\n",
              " 'n_estimators': 10}"
            ]
          },
          "metadata": {},
          "execution_count": 67
        }
      ]
    },
    {
      "cell_type": "code",
      "source": [
        "print (f'Train Accuracy - : {rf_Grid.score(X_train,y_train):.3f}')\n",
        "print (f'Test Accuracy - : {rf_Grid.score(X_test,y_test):.3f}')\n"
      ],
      "metadata": {
        "colab": {
          "base_uri": "https://localhost:8080/"
        },
        "id": "dfY8kk9VXGvC",
        "outputId": "09d867ff-b2eb-46fa-a8ad-7ac2baff7be8"
      },
      "execution_count": null,
      "outputs": [
        {
          "output_type": "stream",
          "name": "stdout",
          "text": [
            "Train Accuracy - : 0.985\n",
            "Test Accuracy - : 0.862\n"
          ]
        }
      ]
    },
    {
      "cell_type": "code",
      "source": [
        "from sklearn.metrics import confusion_matrix, classification_report\n",
        "import seaborn as sns\n",
        "import matplotlib.pyplot as plt\n",
        "# Predictions\n",
        "y_train_pred = rf_Grid.predict(X_train)\n",
        "y_test_pred = rf_Grid.predict(X_test)\n",
        "\n",
        "# Confusion matrix for training data\n",
        "conf_matrix_train = confusion_matrix(y_train, y_train_pred)\n",
        "print(\"Confusion Matrix - Training Data\")\n",
        "print(conf_matrix_train)\n",
        "\n",
        "# Confusion matrix for testing data\n",
        "conf_matrix_test = confusion_matrix(y_test, y_test_pred)\n",
        "print(\"Confusion Matrix - Testing Data\")\n",
        "print(conf_matrix_test)\n",
        "\n",
        "# Classification report\n",
        "print(\"\\nClassification Report - Training Data\")\n",
        "print(classification_report(y_train, y_train_pred))\n",
        "\n",
        "print(\"\\nClassification Report - Testing Data\")\n",
        "print(classification_report(y_test, y_test_pred))\n",
        "\n",
        "# Plotting confusion matrix for training data\n",
        "plt.figure(figsize=(10, 5))\n",
        "sns.heatmap(conf_matrix_train, annot=True, fmt='d', cmap='Blues')\n",
        "plt.title('Confusion Matrix - Training Data')\n",
        "plt.xlabel('Predicted Labels')\n",
        "plt.ylabel('True Labels')\n",
        "plt.show()\n",
        "\n",
        "# Plotting confusion matrix for testing data\n",
        "plt.figure(figsize=(10, 5))\n",
        "sns.heatmap(conf_matrix_test, annot=True, fmt='d', cmap='Blues')\n",
        "plt.title('Confusion Matrix - Testing Data')\n",
        "plt.xlabel('Predicted Labels')\n",
        "plt.ylabel('True Labels')\n",
        "plt.show()"
      ],
      "metadata": {
        "colab": {
          "base_uri": "https://localhost:8080/",
          "height": 1000
        },
        "id": "HLVFeD0kDS61",
        "outputId": "8cb1290f-427c-4ca1-f99f-32fe0838c0a0"
      },
      "execution_count": null,
      "outputs": [
        {
          "output_type": "stream",
          "name": "stdout",
          "text": [
            "Confusion Matrix - Training Data\n",
            "[[102   0]\n",
            " [  3  99]]\n",
            "Confusion Matrix - Testing Data\n",
            "[[42  2]\n",
            " [10 33]]\n",
            "\n",
            "Classification Report - Training Data\n",
            "              precision    recall  f1-score   support\n",
            "\n",
            "           0       0.97      1.00      0.99       102\n",
            "           1       1.00      0.97      0.99       102\n",
            "\n",
            "    accuracy                           0.99       204\n",
            "   macro avg       0.99      0.99      0.99       204\n",
            "weighted avg       0.99      0.99      0.99       204\n",
            "\n",
            "\n",
            "Classification Report - Testing Data\n",
            "              precision    recall  f1-score   support\n",
            "\n",
            "           0       0.81      0.95      0.88        44\n",
            "           1       0.94      0.77      0.85        43\n",
            "\n",
            "    accuracy                           0.86        87\n",
            "   macro avg       0.88      0.86      0.86        87\n",
            "weighted avg       0.87      0.86      0.86        87\n",
            "\n"
          ]
        },
        {
          "output_type": "display_data",
          "data": {
            "text/plain": [
              "<Figure size 1000x500 with 2 Axes>"
            ],
            "image/png": "[encoded data removed]"
          },
          "metadata": {}
        },
        {
          "output_type": "display_data",
          "data": {
            "text/plain": [
              "<Figure size 1000x500 with 2 Axes>"
            ],
            "image/png": "[encoded data removed]"
          },
          "metadata": {}
        }
      ]
    },
    {
      "cell_type": "code",
      "source": [],
      "metadata": {
        "id": "oZ-oB8Utq95e"
      },
      "execution_count": null,
      "outputs": []
    }
  ]
}